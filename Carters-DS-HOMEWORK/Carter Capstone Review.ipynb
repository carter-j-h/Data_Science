{
 "cells": [
  {
   "cell_type": "markdown",
   "metadata": {},
   "source": [
    "## Your Questions\n",
    "1. I can evaluate the 2017 NFL draft class and use each players collegiate statistics and combine workouts to predict their performance in the NFL.\n",
    "2. I want to look at the 2017 NBA draft class and use each player's collegiate statistics to predict their performance in the NBA.\n",
    "\n",
    "## My Response\n",
    "Since we already talked about it during office hours, I'll give you some of my thoughts. Since both your research questions are using collegiate statistics to predict their performance, you can only target college players, excluding high school turn pro. There are also some players who played overseas (Emmanuel Mudiay, Brandon Jennings come to mind), so decide if those are fair to include into your dataset. Figure out how you will judge how successful a player is (we talked about categorical dummy variables).\n",
    "\n",
    "## Your Data\n",
    "Both websites you are thinking of using will take a lot of downloading and merging/concat. I recommend trying to get the dataset by the end of this week and you should be on track.\n",
    "\n",
    "## Overall\n",
    "You are on the right track, now all you have to do is figure out how to get the data in an efficient way. If not, then you can only do it inefficiently."
   ]
  }
 ],
 "metadata": {
  "kernelspec": {
   "display_name": "Python [dsi]",
   "language": "python",
   "name": "Python [dsi]"
  },
  "language_info": {
   "codemirror_mode": {
    "name": "ipython",
    "version": 2
   },
   "file_extension": ".py",
   "mimetype": "text/x-python",
   "name": "python",
   "nbconvert_exporter": "python",
   "pygments_lexer": "ipython2",
   "version": "2.7.12"
  }
 },
 "nbformat": 4,
 "nbformat_minor": 0
}
