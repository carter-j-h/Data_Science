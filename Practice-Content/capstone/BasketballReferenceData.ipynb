{
 "cells": [
  {
   "cell_type": "markdown",
   "metadata": {},
   "source": [
    "### Gathering Basketball Data"
   ]
  },
  {
   "cell_type": "code",
   "execution_count": 1,
   "metadata": {
    "collapsed": true
   },
   "outputs": [],
   "source": [
    "import pandas as pd\n",
    "import numpy as np\n",
    "from scrapy.selector import Selector\n",
    "from scrapy.http import HtmlResponse\n",
    "import requests\n",
    "import time\n",
    "import random\n",
    "from bs4 import BeautifulSoup\n",
    "\n",
    "from selenium import webdriver\n",
    "\n",
    "chromedriver = \"/Users/Carter/Desktop/chromedriver\""
   ]
  },
  {
   "cell_type": "markdown",
   "metadata": {},
   "source": [
    "### attempts using beautiful soup and reqeusts"
   ]
  },
  {
   "cell_type": "code",
   "execution_count": 30,
   "metadata": {
    "collapsed": true
   },
   "outputs": [],
   "source": [
    "#response = requests.get('http://www.basketball-reference.com/players/a/')\n",
    "#html = response.text"
   ]
  },
  {
   "cell_type": "code",
   "execution_count": 31,
   "metadata": {
    "collapsed": true
   },
   "outputs": [],
   "source": [
    "#page = BeautifulSoup(html, \"lxml\")"
   ]
  },
  {
   "cell_type": "code",
   "execution_count": 32,
   "metadata": {
    "collapsed": false,
    "scrolled": true
   },
   "outputs": [],
   "source": [
    "#page.title.string"
   ]
  },
  {
   "cell_type": "code",
   "execution_count": 33,
   "metadata": {
    "collapsed": false
   },
   "outputs": [],
   "source": [
    "#player_table =page.find(\"table\", {\"id\": \"players\"})"
   ]
  },
  {
   "cell_type": "code",
   "execution_count": 34,
   "metadata": {
    "collapsed": false,
    "scrolled": true
   },
   "outputs": [],
   "source": [
    "#rows = player_table.tbody.children\n",
    "\n",
    "#for r in rows:\n",
    " #   print r."
   ]
  },
  {
   "cell_type": "code",
   "execution_count": 35,
   "metadata": {
    "collapsed": false
   },
   "outputs": [],
   "source": [
    "# for child in test.children:\n",
    "    #print child"
   ]
  },
  {
   "cell_type": "code",
   "execution_count": 36,
   "metadata": {
    "collapsed": true
   },
   "outputs": [],
   "source": [
    "#ppage = requests.get(\"http://www.basketball-reference.com/players/a/adamsst01.html\").text"
   ]
  },
  {
   "cell_type": "markdown",
   "metadata": {},
   "source": [
    "### Using Selenium"
   ]
  },
  {
   "cell_type": "code",
   "execution_count": 2,
   "metadata": {
    "collapsed": false,
    "scrolled": true
   },
   "outputs": [],
   "source": [
    "import datetime\n",
    "# Options is a package that allows me to user a Adblocker to more rapidly pull the html page source of each page I am scraping\n",
    "from selenium.webdriver.chrome.options import Options\n",
    "\n",
    "chop = webdriver.ChromeOptions()\n",
    "chop.add_extension('/Users/Carter/Desktop/Adblock-Plus_v1.13.2.crx')"
   ]
  },
  {
   "cell_type": "code",
   "execution_count": 6,
   "metadata": {
    "collapsed": false
   },
   "outputs": [],
   "source": [
    "# browser = webdriver.Chrome(executable_path = chromedriver)\n",
    "# print datetime.datetime.now().time()\n",
    "# url = \"http://www.basketball-reference.com/players/a/\"\n",
    "# browser.get(url)\n",
    "# print datetime.datetime.now().time()\n",
    "# browser.quit()"
   ]
  },
  {
   "cell_type": "code",
   "execution_count": 3,
   "metadata": {
    "collapsed": false,
    "scrolled": false
   },
   "outputs": [
    {
     "name": "stdout",
     "output_type": "stream",
     "text": [
      "Completed a\n",
      "Completed b\n",
      "Completed c\n",
      "Completed d\n",
      "Completed e\n",
      "Completed f\n",
      "Completed g\n",
      "Completed h\n",
      "Completed i\n",
      "Completed j\n",
      "Completed k\n",
      "Completed l\n",
      "Completed m\n",
      "Completed n\n",
      "Completed o\n",
      "Completed p\n",
      "Completed q\n",
      "Completed r\n",
      "Completed s\n",
      "Completed t\n",
      "Completed u\n",
      "Completed v\n",
      "Completed w\n",
      "Completed x\n",
      "Completed y\n",
      "Completed z\n"
     ]
    }
   ],
   "source": [
    "browser = webdriver.Chrome(executable_path = chromedriver, chrome_options = chop)\n",
    "\n",
    "#empty array where we will store player data\n",
    "player_links = []\n",
    "\n",
    "page_letters = list(\"abcdefghijklmnopqrstuvwxyz\")\n",
    "#page_letters = list(\"ab\")\n",
    "\n",
    "for letter in page_letters:\n",
    "    \n",
    "    url = \"http://www.basketball-reference.com/players/%s/\" % letter\n",
    "    \n",
    "    browser.get(url)\n",
    "    \n",
    "    html = browser.page_source\n",
    "    \n",
    "    # grab inactive players without the strong html tag\n",
    "    links = Selector(text=html).xpath(\"//th[@class='left ']/a/@href\").extract()\n",
    "    \n",
    "    # then grap active players with the strong html tag\n",
    "    links1 = Selector(text=html).xpath(\"//th[@class='left ']/strong/a/@href\").extract()\n",
    "    \n",
    "    #combine the two separate links into one\n",
    "    links = links + links1\n",
    "   \n",
    "    player_links.append(links)\n",
    "    print \"Completed %s\" % letter\n",
    "    \n",
    "    # set up random time interval to mitigate risk of being blocked by the domain\n",
    "    time.sleep(2*np.random.rand())\n",
    "\n",
    "browser.quit()"
   ]
  },
  {
   "cell_type": "code",
   "execution_count": 4,
   "metadata": {
    "collapsed": false
   },
   "outputs": [],
   "source": [
    "test_list = player_links[:]"
   ]
  },
  {
   "cell_type": "code",
   "execution_count": 5,
   "metadata": {
    "collapsed": false
   },
   "outputs": [],
   "source": [
    "import itertools\n",
    "list2d = test_list\n",
    "merged = list(itertools.chain(*list2d))\n"
   ]
  },
  {
   "cell_type": "code",
   "execution_count": 101,
   "metadata": {
    "collapsed": false,
    "scrolled": false
   },
   "outputs": [
    {
     "data": {
      "text/plain": [
       "4455"
      ]
     },
     "execution_count": 101,
     "metadata": {},
     "output_type": "execute_result"
    }
   ],
   "source": [
    "player_links = merged[:]\n",
    "len(player_links)"
   ]
  },
  {
   "cell_type": "code",
   "execution_count": 99,
   "metadata": {
    "collapsed": false
   },
   "outputs": [],
   "source": [
    "# testing =[\"//table[@id='per_game']/tfoot/tr//td\"]"
   ]
  },
  {
   "cell_type": "code",
   "execution_count": 100,
   "metadata": {
    "collapsed": false,
    "scrolled": true
   },
   "outputs": [],
   "source": [
    "# browser = webdriver.Chrome(executable_path = chromedriver, chrome_options = chop)\n",
    "\n",
    "# print datetime.datetime.now().time()\n",
    "# # for l in player_links:\n",
    "# player_url = \"http://www.basketball-reference.com/players/a/allrela01.html\" \n",
    "\n",
    "# # get the player page\n",
    "# browser.get(player_url)\n",
    "\n",
    "# # pull the html of the page\n",
    "# player_html = browser.page_source\n",
    "\n",
    "\n",
    "# name = Selector(text=player_html).xpath(\"//h1/text()\").extract()\n",
    "# print name\n",
    "# pro_stats = Selector(text=player_html).xpath(\"//table[@id='per_game']/tfoot/tr[1]//td[@data-stat='fg3_pct']/text()\").extract()\n",
    "# print pro_stats\n",
    "# # col_points = Selector(text=player_html).xpath(\"//table[@id='all_college_stats']/tfoot/tr//td/text()\").extract()\n",
    "# # print col_points\n",
    "    \n",
    "    \n",
    "    \n",
    "# browser.quit()\n",
    "# print datetime.datetime.now().time()\n"
   ]
  },
  {
   "cell_type": "code",
   "execution_count": 102,
   "metadata": {
    "collapsed": false,
    "scrolled": false
   },
   "outputs": [
    {
     "name": "stdout",
     "output_type": "stream",
     "text": [
      "13:07:39.614692\n",
      "5% chance of getting this-- still running\n",
      "5% chance of getting this-- still running\n",
      "5% chance of getting this-- still running\n",
      "5% chance of getting this-- still running\n",
      "5% chance of getting this-- still running\n",
      "5% chance of getting this-- still running\n",
      "5% chance of getting this-- still running\n",
      "5% chance of getting this-- still running\n",
      "5% chance of getting this-- still running\n",
      "5% chance of getting this-- still running\n",
      "5% chance of getting this-- still running\n",
      "5% chance of getting this-- still running\n",
      "5% chance of getting this-- still running\n",
      "5% chance of getting this-- still running\n",
      "5% chance of getting this-- still running\n",
      "5% chance of getting this-- still running\n",
      "5% chance of getting this-- still running\n",
      "5% chance of getting this-- still running\n",
      "5% chance of getting this-- still running\n",
      "5% chance of getting this-- still running\n",
      "5% chance of getting this-- still running\n",
      "5% chance of getting this-- still running\n",
      "5% chance of getting this-- still running\n",
      "5% chance of getting this-- still running\n",
      "5% chance of getting this-- still running\n",
      "5% chance of getting this-- still running\n",
      "5% chance of getting this-- still running\n",
      "5% chance of getting this-- still running\n",
      "5% chance of getting this-- still running\n",
      "5% chance of getting this-- still running\n",
      "5% chance of getting this-- still running\n",
      "5% chance of getting this-- still running\n",
      "5% chance of getting this-- still running\n",
      "5% chance of getting this-- still running\n",
      "5% chance of getting this-- still running\n",
      "5% chance of getting this-- still running\n",
      "5% chance of getting this-- still running\n",
      "5% chance of getting this-- still running\n",
      "5% chance of getting this-- still running\n",
      "5% chance of getting this-- still running\n",
      "5% chance of getting this-- still running\n",
      "5% chance of getting this-- still running\n",
      "5% chance of getting this-- still running\n",
      "5% chance of getting this-- still running\n",
      "5% chance of getting this-- still running\n",
      "5% chance of getting this-- still running\n",
      "5% chance of getting this-- still running\n",
      "5% chance of getting this-- still running\n",
      "5% chance of getting this-- still running\n",
      "5% chance of getting this-- still running\n",
      "5% chance of getting this-- still running\n",
      "5% chance of getting this-- still running\n",
      "5% chance of getting this-- still running\n",
      "5% chance of getting this-- still running\n",
      "5% chance of getting this-- still running\n",
      "5% chance of getting this-- still running\n",
      "5% chance of getting this-- still running\n",
      "5% chance of getting this-- still running\n",
      "5% chance of getting this-- still running\n",
      "5% chance of getting this-- still running\n",
      "5% chance of getting this-- still running\n",
      "5% chance of getting this-- still running\n",
      "5% chance of getting this-- still running\n",
      "5% chance of getting this-- still running\n",
      "5% chance of getting this-- still running\n",
      "5% chance of getting this-- still running\n",
      "5% chance of getting this-- still running\n",
      "5% chance of getting this-- still running\n",
      "5% chance of getting this-- still running\n",
      "5% chance of getting this-- still running\n",
      "5% chance of getting this-- still running\n",
      "5% chance of getting this-- still running\n",
      "5% chance of getting this-- still running\n",
      "5% chance of getting this-- still running\n",
      "5% chance of getting this-- still running\n",
      "5% chance of getting this-- still running\n",
      "5% chance of getting this-- still running\n",
      "5% chance of getting this-- still running\n",
      "5% chance of getting this-- still running\n",
      "5% chance of getting this-- still running\n",
      "5% chance of getting this-- still running\n",
      "5% chance of getting this-- still running\n",
      "5% chance of getting this-- still running\n",
      "5% chance of getting this-- still running\n",
      "5% chance of getting this-- still running\n",
      "5% chance of getting this-- still running\n",
      "5% chance of getting this-- still running\n",
      "5% chance of getting this-- still running\n",
      "5% chance of getting this-- still running\n",
      "5% chance of getting this-- still running\n",
      "5% chance of getting this-- still running\n",
      "5% chance of getting this-- still running\n",
      "5% chance of getting this-- still running\n",
      "5% chance of getting this-- still running\n",
      "5% chance of getting this-- still running\n",
      "5% chance of getting this-- still running\n",
      "5% chance of getting this-- still running\n",
      "5% chance of getting this-- still running\n",
      "5% chance of getting this-- still running\n",
      "5% chance of getting this-- still running\n",
      "5% chance of getting this-- still running\n",
      "5% chance of getting this-- still running\n",
      "5% chance of getting this-- still running\n",
      "5% chance of getting this-- still running\n",
      "5% chance of getting this-- still running\n",
      "5% chance of getting this-- still running\n",
      "5% chance of getting this-- still running\n",
      "5% chance of getting this-- still running\n",
      "5% chance of getting this-- still running\n",
      "5% chance of getting this-- still running\n",
      "5% chance of getting this-- still running\n",
      "5% chance of getting this-- still running\n",
      "5% chance of getting this-- still running\n",
      "5% chance of getting this-- still running\n",
      "5% chance of getting this-- still running\n",
      "5% chance of getting this-- still running\n",
      "5% chance of getting this-- still running\n",
      "5% chance of getting this-- still running\n",
      "5% chance of getting this-- still running\n",
      "5% chance of getting this-- still running\n",
      "5% chance of getting this-- still running\n",
      "5% chance of getting this-- still running\n",
      "5% chance of getting this-- still running\n",
      "5% chance of getting this-- still running\n",
      "5% chance of getting this-- still running\n",
      "5% chance of getting this-- still running\n",
      "5% chance of getting this-- still running\n",
      "5% chance of getting this-- still running\n",
      "5% chance of getting this-- still running\n",
      "5% chance of getting this-- still running\n",
      "5% chance of getting this-- still running\n",
      "5% chance of getting this-- still running\n",
      "5% chance of getting this-- still running\n",
      "5% chance of getting this-- still running\n",
      "5% chance of getting this-- still running\n",
      "5% chance of getting this-- still running\n",
      "5% chance of getting this-- still running\n",
      "5% chance of getting this-- still running\n",
      "5% chance of getting this-- still running\n",
      "5% chance of getting this-- still running\n",
      "5% chance of getting this-- still running\n",
      "5% chance of getting this-- still running\n",
      "5% chance of getting this-- still running\n",
      "5% chance of getting this-- still running\n",
      "5% chance of getting this-- still running\n",
      "5% chance of getting this-- still running\n",
      "5% chance of getting this-- still running\n",
      "5% chance of getting this-- still running\n",
      "5% chance of getting this-- still running\n",
      "5% chance of getting this-- still running\n",
      "5% chance of getting this-- still running\n",
      "5% chance of getting this-- still running\n",
      "5% chance of getting this-- still running\n",
      "5% chance of getting this-- still running\n",
      "5% chance of getting this-- still running\n",
      "5% chance of getting this-- still running\n",
      "5% chance of getting this-- still running\n",
      "5% chance of getting this-- still running\n",
      "5% chance of getting this-- still running\n",
      "5% chance of getting this-- still running\n",
      "5% chance of getting this-- still running\n",
      "5% chance of getting this-- still running\n",
      "5% chance of getting this-- still running\n",
      "5% chance of getting this-- still running\n",
      "5% chance of getting this-- still running\n",
      "5% chance of getting this-- still running\n",
      "5% chance of getting this-- still running\n",
      "5% chance of getting this-- still running\n",
      "5% chance of getting this-- still running\n",
      "5% chance of getting this-- still running\n",
      "5% chance of getting this-- still running\n",
      "5% chance of getting this-- still running\n",
      "5% chance of getting this-- still running\n",
      "5% chance of getting this-- still running\n",
      "5% chance of getting this-- still running\n",
      "5% chance of getting this-- still running\n",
      "5% chance of getting this-- still running\n",
      "5% chance of getting this-- still running\n",
      "5% chance of getting this-- still running\n",
      "5% chance of getting this-- still running\n",
      "5% chance of getting this-- still running\n",
      "5% chance of getting this-- still running\n",
      "5% chance of getting this-- still running\n",
      "5% chance of getting this-- still running\n",
      "5% chance of getting this-- still running\n",
      "5% chance of getting this-- still running\n",
      "5% chance of getting this-- still running\n",
      "5% chance of getting this-- still running\n",
      "5% chance of getting this-- still running\n",
      "5% chance of getting this-- still running\n",
      "5% chance of getting this-- still running\n",
      "5% chance of getting this-- still running\n",
      "5% chance of getting this-- still running\n",
      "5% chance of getting this-- still running\n",
      "5% chance of getting this-- still running\n",
      "5% chance of getting this-- still running\n",
      "5% chance of getting this-- still running\n",
      "5% chance of getting this-- still running\n",
      "5% chance of getting this-- still running\n",
      "5% chance of getting this-- still running\n",
      "5% chance of getting this-- still running\n",
      "5% chance of getting this-- still running\n",
      "5% chance of getting this-- still running\n",
      "5% chance of getting this-- still running\n",
      "5% chance of getting this-- still running\n",
      "5% chance of getting this-- still running\n",
      "5% chance of getting this-- still running\n",
      "5% chance of getting this-- still running\n",
      "5% chance of getting this-- still running\n",
      "5% chance of getting this-- still running\n",
      "5% chance of getting this-- still running\n",
      "5% chance of getting this-- still running\n",
      "5% chance of getting this-- still running\n",
      "5% chance of getting this-- still running\n",
      "5% chance of getting this-- still running\n",
      "5% chance of getting this-- still running\n",
      "17:38:17.369114\n"
     ]
    }
   ],
   "source": [
    "browser = webdriver.Chrome(executable_path = chromedriver, chrome_options = chop)\n",
    "\n",
    "player_stats = []\n",
    "\n",
    "print datetime.datetime.now().time()\n",
    "\n",
    "for l in player_links:\n",
    "    \n",
    "    player_url = \"http://www.basketball-reference.com%s\" % l\n",
    "    \n",
    "    # get the html of the player page\n",
    "    browser.get(player_url)\n",
    "    \n",
    "    # pull the page source so I can access the data via xpath selector\n",
    "    player_html = browser.page_source\n",
    "    \n",
    "    # grab the name of the player\n",
    "    name = Selector(text=player_html).xpath(\"//h1/text()\").extract()\n",
    "    \n",
    "    # grab their pro stats, which will be a list\n",
    "    #pro_stats = Selector(text=player_html).xpath(\"//table[@id='per_game']/tfoot/tr[1]/td/text()\").extract()\n",
    "    #print len(pro_stats)\n",
    "    # col_points = Selector(text=player_html).xpath(\"//table[@id='all_college_stats']/tfoot/tr//td/text()\").extract    \n",
    "    \n",
    "    player_stats.append({\n",
    "        \"Name\": name[0],\n",
    "        \"Lg\": Selector(text=player_html).xpath(\"//table[@id='per_game']/tfoot/tr[1]//td[@data-stat='lg_id']/text()\").extract(),\n",
    "        \"G\": Selector(text=player_html).xpath(\"//table[@id='per_game']/tfoot/tr[1]//td[@data-stat='g']/text()\").extract(),\n",
    "        \"GS\": Selector(text=player_html).xpath(\"//table[@id='per_game']/tfoot/tr[1]//td[@data-stat='gs']/text()\").extract(),\n",
    "        \"MP\": Selector(text=player_html).xpath(\"//table[@id='per_game']/tfoot/tr[1]//td[@data-stat='mp_per_g']/text()\").extract(),\n",
    "        \"FG\": Selector(text=player_html).xpath(\"//table[@id='per_game']/tfoot/tr[1]//td[@data-stat='fg_per_g']/text()\").extract(),\n",
    "        \"FGA\": Selector(text=player_html).xpath(\"//table[@id='per_game']/tfoot/tr[1]//td[@data-stat='fga_per_g']/text()\").extract(),\n",
    "        \"FG%\": Selector(text=player_html).xpath(\"//table[@id='per_game']/tfoot/tr[1]//td[@data-stat='fg_pct']/text()\").extract(),\n",
    "        \"3P\": Selector(text=player_html).xpath(\"//table[@id='per_game']/tfoot/tr[1]//td[@data-stat='fg3_per_g']/text()\").extract(),\n",
    "        \"3PA\": Selector(text=player_html).xpath(\"//table[@id='per_game']/tfoot/tr[1]//td[@data-stat='fg3a_per_g']/text()\").extract(),\n",
    "        \"3P%\": Selector(text=player_html).xpath(\"//table[@id='per_game']/tfoot/tr[1]//td[@data-stat='fg3_pct']/text()\").extract(),\n",
    "        \"2P\": Selector(text=player_html).xpath(\"//table[@id='per_game']/tfoot/tr[1]//td[@data-stat='fg2_per_g']/text()\").extract(),\n",
    "        \"2PA\": Selector(text=player_html).xpath(\"//table[@id='per_game']/tfoot/tr[1]//td[@data-stat='fg2a_per_g']/text()\").extract(),\n",
    "        \"2P%\": Selector(text=player_html).xpath(\"//table[@id='per_game']/tfoot/tr[1]//td[@data-stat='fg2_pct']/text()\").extract(),\n",
    "        \"eFG%\": Selector(text=player_html).xpath(\"//table[@id='per_game']/tfoot/tr[1]//td[@data-stat='efg_pct']/text()\").extract(),\n",
    "        \"FT\": Selector(text=player_html).xpath(\"//table[@id='per_game']/tfoot/tr[1]//td[@data-stat='ft_per_g']/text()\").extract(),\n",
    "        \"FTA\": Selector(text=player_html).xpath(\"//table[@id='per_game']/tfoot/tr[1]//td[@data-stat='fta_per_g']/text()\").extract(),\n",
    "        \"FT%\": Selector(text=player_html).xpath(\"//table[@id='per_game']/tfoot/tr[1]//td[@data-stat='ft_pct']/text()\").extract(),\n",
    "        \"ORB\": Selector(text=player_html).xpath(\"//table[@id='per_game']/tfoot/tr[1]//td[@data-stat='orb_per_g']/text()\").extract(),\n",
    "        \"DRB\": Selector(text=player_html).xpath(\"//table[@id='per_game']/tfoot/tr[1]//td[@data-stat='drb_per_g']/text()\").extract(),\n",
    "        \"TRB\": Selector(text=player_html).xpath(\"//table[@id='per_game']/tfoot/tr[1]//td[@data-stat='trb_per_g']/text()\").extract(),\n",
    "        \"AST\": Selector(text=player_html).xpath(\"//table[@id='per_game']/tfoot/tr[1]//td[@data-stat='ast_per_g']/text()\").extract(),\n",
    "        \"STL\": Selector(text=player_html).xpath(\"//table[@id='per_game']/tfoot/tr[1]//td[@data-stat='stl_per_g']/text()\").extract(),\n",
    "        \"BLK\": Selector(text=player_html).xpath(\"//table[@id='per_game']/tfoot/tr[1]//td[@data-stat='blk_per_g']/text()\").extract(),\n",
    "        \"TOV\": Selector(text=player_html).xpath(\"//table[@id='per_game']/tfoot/tr[1]//td[@data-stat='tov_per_g']/text()\").extract(),\n",
    "        \"PF\": Selector(text=player_html).xpath(\"//table[@id='per_game']/tfoot/tr[1]//td[@data-stat='pf_per_g']/text()\").extract(),\n",
    "        \"PTS\": Selector(text=player_html).xpath(\"//table[@id='per_game']/tfoot/tr[1]//td[@data-stat='pts_per_g']/text()\").extract() \n",
    "    })\n",
    "    \n",
    "    time.sleep(2*np.random.rand())\n",
    "    \n",
    "    chance = (random.randint(1,100))    \n",
    "    if chance <= 5:\n",
    "        print (\"5% chance of getting this-- still running\")\n",
    "\n",
    "print datetime.datetime.now().time()\n",
    "browser.quit()\n",
    "    \n"
   ]
  },
  {
   "cell_type": "code",
   "execution_count": 105,
   "metadata": {
    "collapsed": false,
    "scrolled": false
   },
   "outputs": [
    {
     "data": {
      "text/plain": [
       "(4455, 27)"
      ]
     },
     "execution_count": 105,
     "metadata": {},
     "output_type": "execute_result"
    }
   ],
   "source": [
    "df = pd.DataFrame(player_stats)\n",
    "df.shape\n"
   ]
  },
  {
   "cell_type": "code",
   "execution_count": 106,
   "metadata": {
    "collapsed": true
   },
   "outputs": [],
   "source": [
    "df.to_csv(path_or_buf= 'pro_players_v1.csv')"
   ]
  },
  {
   "cell_type": "code",
   "execution_count": 108,
   "metadata": {
    "collapsed": false
   },
   "outputs": [],
   "source": [
    "v1 = player_stats[:]"
   ]
  },
  {
   "cell_type": "code",
   "execution_count": 116,
   "metadata": {
    "collapsed": true
   },
   "outputs": [],
   "source": [
    "for index, row in enumerate(v1):\n",
    "    \n",
    "    for key, value in row.items():\n",
    "        \n",
    "        if len(value) < 1:\n",
    "            v1[index][key] = \"\"\n",
    "        elif type(value) == list:\n",
    "            v1[index][key] = value[0]\n",
    "        else:\n",
    "            v1[index][key] = value"
   ]
  },
  {
   "cell_type": "code",
   "execution_count": 120,
   "metadata": {
    "collapsed": false,
    "scrolled": true
   },
   "outputs": [
    {
     "data": {
      "text/plain": [
       "(4455, 27)"
      ]
     },
     "execution_count": 120,
     "metadata": {},
     "output_type": "execute_result"
    }
   ],
   "source": [
    "df2 = pd.DataFrame(v1)\n",
    "df2.shape"
   ]
  },
  {
   "cell_type": "code",
   "execution_count": 121,
   "metadata": {
    "collapsed": true
   },
   "outputs": [],
   "source": [
    "df2.to_csv(path_or_buf= 'pro_players_v2.csv')"
   ]
  },
  {
   "cell_type": "markdown",
   "metadata": {},
   "source": [
    "### trying to undestand cleanup loop"
   ]
  },
  {
   "cell_type": "code",
   "execution_count": 123,
   "metadata": {
    "collapsed": true
   },
   "outputs": [],
   "source": [
    "v3 = v1[:]"
   ]
  },
  {
   "cell_type": "code",
   "execution_count": 125,
   "metadata": {
    "collapsed": false
   },
   "outputs": [
    {
     "data": {
      "text/plain": [
       "4455"
      ]
     },
     "execution_count": 125,
     "metadata": {},
     "output_type": "execute_result"
    }
   ],
   "source": [
    "len(v3)"
   ]
  },
  {
   "cell_type": "code",
   "execution_count": 126,
   "metadata": {
    "collapsed": true
   },
   "outputs": [],
   "source": [
    "blah = v3[:10]"
   ]
  },
  {
   "cell_type": "code",
   "execution_count": 128,
   "metadata": {
    "collapsed": false
   },
   "outputs": [
    {
     "name": "stdout",
     "output_type": "stream",
     "text": [
      "Lg NBA\n",
      "FT 0.9\n",
      "3P 0.0\n",
      "TOV 1.0\n",
      "2PA 4.8\n",
      "FG 2.4\n",
      "3PA 0.0\n",
      "DRB 2.2\n",
      "2P 2.4\n",
      "AST 0.3\n",
      "FT% .701\n",
      "PF 1.9\n",
      "PTS 5.7\n",
      "FGA 4.8\n",
      "GS 53\n",
      "Name Alaa Abdelnaby\n",
      "G 256\n",
      "STL 0.3\n",
      "TRB 3.3\n",
      "FTA 1.3\n",
      "eFG% .502\n",
      "BLK 0.3\n",
      "FG% .502\n",
      "2P% .503\n",
      "MP 12.5\n",
      "ORB 1.1\n",
      "3P% .000\n",
      "Lg NBA\n",
      "FT 2.0\n",
      "3P \n",
      "TOV 0.9\n",
      "2PA 8.2\n",
      "FG 3.5\n",
      "3PA \n",
      "DRB 5.4\n",
      "2P 3.5\n",
      "AST 1.2\n",
      "FT% .728\n",
      "PF 2.2\n",
      "PTS 9.0\n",
      "FGA 8.2\n",
      "GS \n",
      "Name Zaid Abdul-Aziz\n",
      "G 505\n",
      "STL 0.6\n",
      "TRB 8.0\n",
      "FTA 2.8\n",
      "eFG% .428\n",
      "BLK 1.0\n",
      "FG% .428\n",
      "2P% .428\n",
      "MP 21.8\n",
      "ORB 2.4\n",
      "3P% \n",
      "Lg NBA\n",
      "FT 4.3\n",
      "3P 0.0\n",
      "TOV 2.7\n",
      "2PA 18.1\n",
      "FG 10.2\n",
      "3PA 0.0\n",
      "DRB 7.6\n",
      "2P 10.2\n",
      "AST 3.6\n",
      "FT% .721\n",
      "PF 3.0\n",
      "PTS 24.6\n",
      "FGA 18.1\n",
      "GS 625\n",
      "Name Kareem Abdul-Jabbar\n",
      "G 1560\n",
      "STL 0.9\n",
      "TRB 11.2\n",
      "FTA 6.0\n",
      "eFG% .559\n",
      "BLK 2.6\n",
      "FG% .559\n",
      "2P% .560\n",
      "MP 36.8\n",
      "ORB 2.4\n",
      "3P% .056\n",
      "Lg NBA\n",
      "FT 1.8\n",
      "3P 0.8\n",
      "TOV 1.6\n",
      "2PA 11.3\n",
      "FG 6.0\n",
      "3PA 2.3\n",
      "DRB 1.5\n",
      "2P 5.2\n",
      "AST 3.5\n",
      "FT% .905\n",
      "PF 1.9\n",
      "PTS 14.6\n",
      "FGA 13.6\n",
      "GS 336\n",
      "Name Mahmoud Abdul-Rauf\n",
      "G 586\n",
      "STL 0.8\n",
      "TRB 1.9\n",
      "FTA 2.0\n",
      "eFG% .472\n",
      "BLK 0.1\n",
      "FG% .442\n",
      "2P% .460\n",
      "MP 26.7\n",
      "ORB 0.4\n",
      "3P% .354\n",
      "Lg NBA\n",
      "FT 1.6\n",
      "3P 0.1\n",
      "TOV 1.3\n",
      "2PA 7.0\n",
      "FG 3.1\n",
      "3PA 0.3\n",
      "DRB 2.1\n",
      "2P 3.0\n",
      "AST 1.1\n",
      "FT% .703\n",
      "PF 2.1\n",
      "PTS 7.8\n",
      "FGA 7.3\n",
      "GS 145\n",
      "Name Tariq Abdul-Wahad\n",
      "G 236\n",
      "STL 0.8\n",
      "TRB 3.3\n",
      "FTA 2.2\n",
      "eFG% .422\n",
      "BLK 0.4\n",
      "FG% .417\n",
      "2P% .425\n",
      "MP 20.4\n",
      "ORB 1.2\n",
      "3P% .237\n",
      "Lg NBA\n",
      "FT 4.8\n",
      "3P 0.2\n",
      "TOV 2.6\n",
      "2PA 13.2\n",
      "FG 6.5\n",
      "3PA 0.6\n",
      "DRB 5.3\n",
      "2P 6.4\n",
      "AST 2.5\n",
      "FT% .810\n",
      "PF 2.8\n",
      "PTS 18.1\n",
      "FGA 13.9\n",
      "GS 704\n",
      "Name Shareef Abdur-Rahim\n",
      "G 830\n",
      "STL 1.0\n",
      "TRB 7.5\n",
      "FTA 6.0\n",
      "eFG% .479\n",
      "BLK 0.8\n",
      "FG% .472\n",
      "2P% .480\n",
      "MP 34.8\n",
      "ORB 2.3\n",
      "3P% .297\n",
      "Lg NBA\n",
      "FT 1.0\n",
      "3P 0.0\n",
      "TOV 0.5\n",
      "2PA 4.6\n",
      "FG 2.3\n",
      "3PA 0.0\n",
      "DRB 2.0\n",
      "2P 2.3\n",
      "AST 1.2\n",
      "FT% .747\n",
      "PF 1.6\n",
      "PTS 5.6\n",
      "FGA 4.6\n",
      "GS \n",
      "Name Tom Abernethy\n",
      "G 319\n",
      "STL 0.6\n",
      "TRB 3.2\n",
      "FTA 1.4\n",
      "eFG% .492\n",
      "BLK 0.2\n",
      "FG% .492\n",
      "2P% .493\n",
      "MP 17.0\n",
      "ORB 1.2\n",
      "3P% .000\n",
      "Lg NBA\n",
      "FT 0.0\n",
      "3P \n",
      "TOV \n",
      "2PA 2.0\n",
      "FG 0.0\n",
      "3PA \n",
      "DRB \n",
      "2P 0.0\n",
      "AST 1.0\n",
      "FT% \n",
      "PF 1.0\n",
      "PTS 0.0\n",
      "FGA 2.0\n",
      "GS \n",
      "Name Forest Able\n",
      "G 1\n",
      "STL \n",
      "TRB 1.0\n",
      "FTA 0.0\n",
      "eFG% .000\n",
      "BLK \n",
      "FG% .000\n",
      "2P% .000\n",
      "MP 1.0\n",
      "ORB \n",
      "3P% \n",
      "Lg BAA\n",
      "FT 2.3\n",
      "3P \n",
      "TOV \n",
      "2PA 15.3\n",
      "FG 3.6\n",
      "3PA \n",
      "DRB \n",
      "2P 3.6\n",
      "AST 0.7\n",
      "FT% .686\n",
      "PF 3.1\n",
      "PTS 9.5\n",
      "FGA 15.3\n",
      "GS \n",
      "Name John Abramovic\n",
      "G 56\n",
      "STL \n",
      "TRB \n",
      "FTA 3.3\n",
      "eFG% .237\n",
      "BLK \n",
      "FG% .237\n",
      "2P% .237\n",
      "MP \n",
      "ORB \n",
      "3P% \n",
      "Lg NBA\n",
      "FT 0.2\n",
      "3P 0.3\n",
      "TOV 0.4\n",
      "2PA 2.2\n",
      "FG 1.1\n",
      "3PA 0.8\n",
      "DRB 0.7\n",
      "2P 0.9\n",
      "AST 0.5\n",
      "FT% .500\n",
      "PF 0.4\n",
      "PTS 2.7\n",
      "FGA 3.1\n",
      "GS 0\n",
      "Name Alex Acker\n",
      "G 30\n",
      "STL 0.2\n",
      "TRB 1.0\n",
      "FTA 0.3\n",
      "eFG% .413\n",
      "BLK 0.1\n",
      "FG% .370\n",
      "2P% .388\n",
      "MP 7.8\n",
      "ORB 0.3\n",
      "3P% .320\n"
     ]
    }
   ],
   "source": [
    "for index, row in enumerate(blah):\n",
    "    \n",
    "    for key, value in row.items():\n",
    "        \n",
    "        \n",
    "        print key, value\n",
    "        if len(value) < 1:\n",
    "            blah[index][key] = \"\"\n",
    "        elif type(value) == list:\n",
    "            blah[index][key] = value[0]\n",
    "        else:\n",
    "            blah[index][key] = value"
   ]
  },
  {
   "cell_type": "markdown",
   "metadata": {},
   "source": [
    "### Advanced Stats"
   ]
  },
  {
   "cell_type": "code",
   "execution_count": 131,
   "metadata": {
    "collapsed": false
   },
   "outputs": [
    {
     "name": "stdout",
     "output_type": "stream",
     "text": [
      "19:11:16.446677\n",
      "2% chance of getting this-- still running\n",
      "2% chance of getting this-- still running\n",
      "2% chance of getting this-- still running\n",
      "2% chance of getting this-- still running\n",
      "2% chance of getting this-- still running\n",
      "2% chance of getting this-- still running\n",
      "2% chance of getting this-- still running\n",
      "2% chance of getting this-- still running\n",
      "2% chance of getting this-- still running\n",
      "2% chance of getting this-- still running\n",
      "2% chance of getting this-- still running\n",
      "2% chance of getting this-- still running\n",
      "2% chance of getting this-- still running\n",
      "2% chance of getting this-- still running\n",
      "2% chance of getting this-- still running\n",
      "2% chance of getting this-- still running\n",
      "2% chance of getting this-- still running\n",
      "2% chance of getting this-- still running\n",
      "2% chance of getting this-- still running\n",
      "2% chance of getting this-- still running\n",
      "2% chance of getting this-- still running\n",
      "2% chance of getting this-- still running\n",
      "2% chance of getting this-- still running\n",
      "2% chance of getting this-- still running\n",
      "2% chance of getting this-- still running\n",
      "2% chance of getting this-- still running\n",
      "2% chance of getting this-- still running\n",
      "2% chance of getting this-- still running\n",
      "2% chance of getting this-- still running\n",
      "2% chance of getting this-- still running\n",
      "2% chance of getting this-- still running\n",
      "2% chance of getting this-- still running\n",
      "2% chance of getting this-- still running\n",
      "2% chance of getting this-- still running\n",
      "2% chance of getting this-- still running\n",
      "2% chance of getting this-- still running\n",
      "2% chance of getting this-- still running\n",
      "2% chance of getting this-- still running\n",
      "2% chance of getting this-- still running\n",
      "2% chance of getting this-- still running\n",
      "2% chance of getting this-- still running\n",
      "2% chance of getting this-- still running\n",
      "2% chance of getting this-- still running\n",
      "2% chance of getting this-- still running\n",
      "2% chance of getting this-- still running\n",
      "2% chance of getting this-- still running\n",
      "2% chance of getting this-- still running\n",
      "2% chance of getting this-- still running\n",
      "2% chance of getting this-- still running\n",
      "2% chance of getting this-- still running\n",
      "2% chance of getting this-- still running\n",
      "2% chance of getting this-- still running\n",
      "2% chance of getting this-- still running\n",
      "2% chance of getting this-- still running\n",
      "2% chance of getting this-- still running\n",
      "2% chance of getting this-- still running\n",
      "2% chance of getting this-- still running\n",
      "2% chance of getting this-- still running\n",
      "2% chance of getting this-- still running\n",
      "2% chance of getting this-- still running\n",
      "2% chance of getting this-- still running\n",
      "2% chance of getting this-- still running\n",
      "2% chance of getting this-- still running\n",
      "2% chance of getting this-- still running\n",
      "2% chance of getting this-- still running\n",
      "2% chance of getting this-- still running\n",
      "2% chance of getting this-- still running\n",
      "2% chance of getting this-- still running\n",
      "2% chance of getting this-- still running\n",
      "2% chance of getting this-- still running\n",
      "2% chance of getting this-- still running\n",
      "2% chance of getting this-- still running\n",
      "2% chance of getting this-- still running\n",
      "2% chance of getting this-- still running\n",
      "2% chance of getting this-- still running\n",
      "2% chance of getting this-- still running\n",
      "2% chance of getting this-- still running\n",
      "2% chance of getting this-- still running\n",
      "2% chance of getting this-- still running\n",
      "2% chance of getting this-- still running\n",
      "2% chance of getting this-- still running\n",
      "2% chance of getting this-- still running\n",
      "2% chance of getting this-- still running\n",
      "2% chance of getting this-- still running\n",
      "2% chance of getting this-- still running\n",
      "2% chance of getting this-- still running\n",
      "2% chance of getting this-- still running\n",
      "2% chance of getting this-- still running\n",
      "2% chance of getting this-- still running\n",
      "2% chance of getting this-- still running\n",
      "2% chance of getting this-- still running\n",
      "2% chance of getting this-- still running\n",
      "2% chance of getting this-- still running\n",
      "22:09:14.059663\n"
     ]
    }
   ],
   "source": [
    "browser = webdriver.Chrome(executable_path = chromedriver, chrome_options = chop)\n",
    "\n",
    "player_stats_advanced = []\n",
    "\n",
    "print datetime.datetime.now().time()\n",
    "\n",
    "for l in player_links:\n",
    "    \n",
    "    player_url = \"http://www.basketball-reference.com%s\" % l\n",
    "    \n",
    "    # get the html of the player page\n",
    "    browser.get(player_url)\n",
    "    \n",
    "    # pull the page source so I can access the data via xpath selector\n",
    "    player_html = browser.page_source\n",
    "    \n",
    "    # grab the name of the player\n",
    "    name = Selector(text=player_html).xpath(\"//h1/text()\").extract()\n",
    "    \n",
    "    # grab their pro stats, which will be a list\n",
    "    #pro_stats = Selector(text=player_html).xpath(\"//table[@id='per_game']/tfoot/tr[1]/td/text()\").extract()\n",
    "    #print len(pro_stats)\n",
    "    # col_points = Selector(text=player_html).xpath(\"//table[@id='all_college_stats']/tfoot/tr//td/text()\").extract    \n",
    "    \n",
    "    player_stats_advanced.append({\n",
    "        \"Name\": name[0],\n",
    "        \"PER\": Selector(text=player_html).xpath(\"//table[@id='advanced']/tfoot/tr[1]//td[@data-stat='per']/text()\").extract(),\n",
    "        \"TS%\": Selector(text=player_html).xpath(\"//table[@id='advanced']/tfoot/tr[1]//td[@data-stat='ts_pct']/text()\").extract(),\n",
    "        \"3PAr\": Selector(text=player_html).xpath(\"//table[@id='advanced']/tfoot/tr[1]//td[@data-stat='fg3a_per_fga_pct']/text()\").extract(),\n",
    "        \"FTr\": Selector(text=player_html).xpath(\"//table[@id='advanced']/tfoot/tr[1]//td[@data-stat='fta_per_fga_pct']/text()\").extract(),\n",
    "        \"ORB%\": Selector(text=player_html).xpath(\"//table[@id='advanced']/tfoot/tr[1]//td[@data-stat='orb_pct']/text()\").extract(),\n",
    "        \"DRB%\": Selector(text=player_html).xpath(\"//table[@id='advanced']/tfoot/tr[1]//td[@data-stat='drb_pct']/text()\").extract(),\n",
    "        \"TRB%\": Selector(text=player_html).xpath(\"//table[@id='advanced']/tfoot/tr[1]//td[@data-stat='trb_pct']/text()\").extract(),\n",
    "        \"AST%\": Selector(text=player_html).xpath(\"//table[@id='advanced']/tfoot/tr[1]//td[@data-stat='ast_pct']/text()\").extract(),\n",
    "        \"STL%\": Selector(text=player_html).xpath(\"//table[@id='advanced']/tfoot/tr[1]//td[@data-stat='stl_pct']/text()\").extract(),\n",
    "        \"BLK%\": Selector(text=player_html).xpath(\"//table[@id='advanced']/tfoot/tr[1]//td[@data-stat='blk_pct']/text()\").extract(),\n",
    "        \"TOV%\": Selector(text=player_html).xpath(\"//table[@id='advanced']/tfoot/tr[1]//td[@data-stat='tov_pct']/text()\").extract(),\n",
    "        \"USG%\": Selector(text=player_html).xpath(\"//table[@id='advanced']/tfoot/tr[1]//td[@data-stat='usg_pct']/text()\").extract(),\n",
    "        \"OWS\": Selector(text=player_html).xpath(\"//table[@id='advanced']/tfoot/tr[1]//td[@data-stat='ows']/text()\").extract(),\n",
    "        \"DWS\": Selector(text=player_html).xpath(\"//table[@id='advanced']/tfoot/tr[1]//td[@data-stat='dws']/text()\").extract(),\n",
    "        \"WS\": Selector(text=player_html).xpath(\"//table[@id='advanced']/tfoot/tr[1]//td[@data-stat='ws']/text()\").extract(),\n",
    "        \"WS/48\": Selector(text=player_html).xpath(\"//table[@id='advanced']/tfoot/tr[1]//td[@data-stat='ws_per_48']/text()\").extract(),\n",
    "        \"OBPM\": Selector(text=player_html).xpath(\"//table[@id='advanced']/tfoot/tr[1]//td[@data-stat='obpm']/text()\").extract(),\n",
    "        \"DBPM\": Selector(text=player_html).xpath(\"//table[@id='advanced']/tfoot/tr[1]//td[@data-stat='dbpm']/text()\").extract(),\n",
    "        \"BPM\": Selector(text=player_html).xpath(\"//table[@id='advanced']/tfoot/tr[1]//td[@data-stat='bpm']/text()\").extract(),\n",
    "        \"VORP\": Selector(text=player_html).xpath(\"//table[@id='advanced']/tfoot/tr[1]//td[@data-stat='vorp']/text()\").extract()\n",
    "        \n",
    "    })\n",
    "    \n",
    "    \n",
    "    \n",
    "    chance = (random.randint(1,100))    \n",
    "    if chance <= 2:\n",
    "        print (\"2% chance of getting this-- still running\")\n",
    "\n",
    "print datetime.datetime.now().time()\n",
    "browser.quit()\n",
    "\n",
    "for index, row in enumerate(player_stats_advanced):\n",
    "    \n",
    "    for key, value in row.items():       \n",
    "        if len(value) < 1:\n",
    "            player_stats_advanced[index][key] = \"\"\n",
    "        elif type(value) == list:\n",
    "            player_stats_advanced[index][key] = value[0]\n",
    "        else:\n",
    "            player_stats_advanced[index][key] = value\n",
    "            \n",
    "df10 = pd.DataFrame(player_stats_advanced)\n",
    "df10.to_csv(path_or_buf= 'pro_players_v2_advanced.csv')"
   ]
  },
  {
   "cell_type": "code",
   "execution_count": 133,
   "metadata": {
    "collapsed": false
   },
   "outputs": [
    {
     "data": {
      "text/plain": [
       "(4551, 47)"
      ]
     },
     "execution_count": 133,
     "metadata": {},
     "output_type": "execute_result"
    }
   ],
   "source": [
    "result = pd.merge(df2, df10, how='inner', on='Name')\n",
    "result.shape\n"
   ]
  },
  {
   "cell_type": "code",
   "execution_count": 134,
   "metadata": {
    "collapsed": true
   },
   "outputs": [],
   "source": [
    "result.to_csv(path_or_buf= 'players_combined.csv')"
   ]
  },
  {
   "cell_type": "code",
   "execution_count": null,
   "metadata": {
    "collapsed": true
   },
   "outputs": [],
   "source": []
  }
 ],
 "metadata": {
  "kernelspec": {
   "display_name": "Python 2",
   "language": "python",
   "name": "python2"
  },
  "language_info": {
   "codemirror_mode": {
    "name": "ipython",
    "version": 2
   },
   "file_extension": ".py",
   "mimetype": "text/x-python",
   "name": "python",
   "nbconvert_exporter": "python",
   "pygments_lexer": "ipython2",
   "version": "2.7.13"
  }
 },
 "nbformat": 4,
 "nbformat_minor": 2
}
