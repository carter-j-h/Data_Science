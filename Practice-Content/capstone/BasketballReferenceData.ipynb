{
 "cells": [
  {
   "cell_type": "markdown",
   "metadata": {},
   "source": [
    "### Gathering Basketball Data"
   ]
  },
  {
   "cell_type": "code",
   "execution_count": 3,
   "metadata": {
    "collapsed": true
   },
   "outputs": [],
   "source": [
    "import pandas as pd\n",
    "import numpy as np\n",
    "from scrapy.selector import Selector\n",
    "from scrapy.http import HtmlResponse\n",
    "import requests\n",
    "import time\n",
    "from bs4 import BeautifulSoup\n",
    "\n",
    "from selenium import webdriver\n",
    "\n",
    "chromedriver = \"/Users/Carter/Desktop/chromedriver\""
   ]
  },
  {
   "cell_type": "markdown",
   "metadata": {},
   "source": [
    "### attempts using beautiful soup and reqeusts"
   ]
  },
  {
   "cell_type": "code",
   "execution_count": 57,
   "metadata": {
    "collapsed": true
   },
   "outputs": [],
   "source": [
    "response = requests.get('http://www.basketball-reference.com/players/a/')\n",
    "html = response.text"
   ]
  },
  {
   "cell_type": "code",
   "execution_count": 58,
   "metadata": {
    "collapsed": true
   },
   "outputs": [],
   "source": [
    "page = BeautifulSoup(html, \"lxml\")"
   ]
  },
  {
   "cell_type": "code",
   "execution_count": 59,
   "metadata": {
    "collapsed": false,
    "scrolled": true
   },
   "outputs": [
    {
     "data": {
      "text/plain": [
       "u'NBA & ABA Players with Last Names Starting with A | Basketball-Reference.com'"
      ]
     },
     "execution_count": 59,
     "metadata": {},
     "output_type": "execute_result"
    }
   ],
   "source": [
    "page.title.string"
   ]
  },
  {
   "cell_type": "code",
   "execution_count": 60,
   "metadata": {
    "collapsed": false
   },
   "outputs": [],
   "source": [
    "player_table =page.find(\"table\", {\"id\": \"players\"})"
   ]
  },
  {
   "cell_type": "code",
   "execution_count": 61,
   "metadata": {
    "collapsed": false,
    "scrolled": true
   },
   "outputs": [],
   "source": [
    "rows = player_table.tbody.children\n",
    "\n",
    "#for r in rows:\n",
    " #   print r."
   ]
  },
  {
   "cell_type": "code",
   "execution_count": 63,
   "metadata": {
    "collapsed": false
   },
   "outputs": [],
   "source": [
    "# for child in test.children:\n",
    "    #print child"
   ]
  },
  {
   "cell_type": "code",
   "execution_count": null,
   "metadata": {
    "collapsed": true
   },
   "outputs": [],
   "source": [
    "ppage = requests.get(\"http://www.basketball-reference.com/players/a/adamsst01.html\").text"
   ]
  },
  {
   "cell_type": "markdown",
   "metadata": {},
   "source": [
    "### Using Selenium"
   ]
  },
  {
   "cell_type": "code",
   "execution_count": null,
   "metadata": {
    "collapsed": false
   },
   "outputs": [],
   "source": []
  },
  {
   "cell_type": "code",
   "execution_count": 14,
   "metadata": {
    "collapsed": true
   },
   "outputs": [],
   "source": [
    "browser = webdriver.Chrome(executable_path = chromedriver)"
   ]
  },
  {
   "cell_type": "code",
   "execution_count": null,
   "metadata": {
    "collapsed": false
   },
   "outputs": [],
   "source": []
  },
  {
   "cell_type": "code",
   "execution_count": 16,
   "metadata": {
    "collapsed": false,
    "scrolled": false
   },
   "outputs": [
    {
     "data": {
      "text/plain": [
       "[u'/players/a/abdelal01.html',\n",
       " u'/players/a/abdulka01.html',\n",
       " u'/players/a/abdulma02.html',\n",
       " u'/players/a/abdulta01.html',\n",
       " u'/players/a/abdulza01.html',\n",
       " u'/players/a/abdursh01.html',\n",
       " u'/players/a/abernto01.html',\n",
       " u'/players/a/ablefo01.html',\n",
       " u'/players/a/abramjo01.html',\n",
       " u'/players/a/abrinal01.html',\n",
       " u'/players/a/ackeral01.html',\n",
       " u'/players/a/ackerdo01.html',\n",
       " u'/players/a/acresma01.html',\n",
       " u'/players/a/actonbu01.html',\n",
       " u'/players/a/acyqu01.html',\n",
       " u'/players/a/adamsal01.html',\n",
       " u'/players/a/adamsdo01.html',\n",
       " u'/players/a/adamsge01.html',\n",
       " u'/players/a/adamsha01.html',\n",
       " u'/players/a/adamsjo01.html',\n",
       " u'/players/a/adamsmi01.html',\n",
       " u'/players/a/adamsst01.html',\n",
       " u'/players/a/addisra01.html',\n",
       " u'/players/a/adelmri01.html',\n",
       " u'/players/a/adrieje01.html',\n",
       " u'/players/a/afflaar01.html',\n",
       " u'/players/a/agerma01.html',\n",
       " u'/players/a/aguirma01.html',\n",
       " u'/players/a/ahearbl01.html',\n",
       " u'/players/a/aingeda01.html',\n",
       " u'/players/a/aitchma01.html',\n",
       " u'/players/a/ajincal01.html',\n",
       " u'/players/a/akinhe01.html',\n",
       " u'/players/a/akognjo01.html',\n",
       " u'/players/a/alabiso01.html',\n",
       " u'/players/a/alarima01.html',\n",
       " u'/players/a/alcorga01.html',\n",
       " u'/players/a/aldemfu01.html',\n",
       " u'/players/a/aldrico01.html',\n",
       " u'/players/a/aldrila01.html',\n",
       " u'/players/a/aleksch01.html',\n",
       " u'/players/a/alexacl01.html',\n",
       " u'/players/a/alexaco01.html',\n",
       " u'/players/a/alexaco02.html',\n",
       " u'/players/a/alexaga01.html',\n",
       " u'/players/a/alexajo01.html',\n",
       " u'/players/a/alexavi01.html',\n",
       " u'/players/a/alforst01.html',\n",
       " u'/players/a/allenbi01.html',\n",
       " u'/players/a/allenbo01.html',\n",
       " u'/players/a/allenje01.html',\n",
       " u'/players/a/allenla01.html',\n",
       " u'/players/a/allenlu01.html',\n",
       " u'/players/a/allenma01.html',\n",
       " u'/players/a/allenra01.html',\n",
       " u'/players/a/allenra02.html',\n",
       " u'/players/a/allento01.html',\n",
       " u'/players/a/allenwi01.html',\n",
       " u'/players/a/allisod01.html',\n",
       " u'/players/a/allrela01.html',\n",
       " u'/players/a/allumda01.html',\n",
       " u'/players/a/almonmo01.html',\n",
       " u'/players/a/alstode01.html',\n",
       " u'/players/a/alstora01.html',\n",
       " u'/players/a/alumape01.html',\n",
       " u'/players/a/amaecjo01.html',\n",
       " u'/players/a/amayaas01.html',\n",
       " u'/players/a/aminual01.html',\n",
       " u'/players/a/amundlo01.html',\n",
       " u'/players/a/anderal01.html',\n",
       " u'/players/a/anderan01.html',\n",
       " u'/players/a/anderan02.html',\n",
       " u'/players/a/anderbo01.html',\n",
       " u'/players/a/anderch01.html',\n",
       " u'/players/a/andercl01.html',\n",
       " u'/players/a/anderda01.html',\n",
       " u'/players/a/anderda02.html',\n",
       " u'/players/a/anderda03.html',\n",
       " u'/players/a/anderde01.html',\n",
       " u'/players/a/anderdw01.html',\n",
       " u'/players/a/anderer01.html',\n",
       " u'/players/a/andergr01.html',\n",
       " u'/players/a/anderja01.html',\n",
       " u'/players/a/anderje01.html',\n",
       " u'/players/a/anderjj01.html',\n",
       " u'/players/a/anderju01.html',\n",
       " u'/players/a/anderke01.html',\n",
       " u'/players/a/anderki01.html',\n",
       " u'/players/a/anderky01.html',\n",
       " u'/players/a/andermi01.html',\n",
       " u'/players/a/anderni01.html',\n",
       " u'/players/a/anderri01.html',\n",
       " u'/players/a/anderro01.html',\n",
       " u'/players/a/anderry01.html',\n",
       " u'/players/a/andersh01.html',\n",
       " u'/players/a/anderwa01.html',\n",
       " u'/players/a/anderwi01.html',\n",
       " u'/players/a/andrima01.html',\n",
       " u'/players/a/anieldo01.html',\n",
       " u'/players/a/anslemi01.html',\n",
       " u'/players/a/anstech01.html',\n",
       " u'/players/a/antetgi01.html',\n",
       " u'/players/a/antetth01.html',\n",
       " u'/players/a/anthoca01.html',\n",
       " u'/players/a/anthogr01.html',\n",
       " u'/players/a/anthojo01.html',\n",
       " u'/players/a/anticpe01.html',\n",
       " u'/players/a/applike01.html',\n",
       " u'/players/a/araujra01.html',\n",
       " u'/players/a/arcenst01.html',\n",
       " u'/players/a/archiro01.html',\n",
       " u'/players/a/architi01.html',\n",
       " u'/players/a/ardji01.html',\n",
       " u'/players/a/arenagi01.html',\n",
       " u'/players/a/arizatr01.html',\n",
       " u'/players/a/arizipa01.html',\n",
       " u'/players/a/arlaujo01.html',\n",
       " u'/players/a/armstbj01.html',\n",
       " u'/players/a/armstbo01.html',\n",
       " u'/players/a/armstbr01.html',\n",
       " u'/players/a/armstcu01.html',\n",
       " u'/players/a/armstda01.html',\n",
       " u'/players/a/armsthi01.html',\n",
       " u'/players/a/armstta01.html',\n",
       " u'/players/a/arnelje01.html',\n",
       " u'/players/a/arnetja01.html',\n",
       " u'/players/a/arnzebo01.html',\n",
       " u'/players/a/arroyca01.html',\n",
       " u'/players/a/arthuda01.html',\n",
       " u'/players/a/arthujo01.html',\n",
       " u'/players/a/asikom01.html',\n",
       " u'/players/a/askewvi01.html',\n",
       " u'/players/a/askinke01.html',\n",
       " u'/players/a/asmondo01.html',\n",
       " u'/players/a/athadi01.html',\n",
       " u'/players/a/atkinch01.html',\n",
       " u'/players/a/attleal01.html',\n",
       " u'/players/a/aubucch01.html',\n",
       " u'/players/a/augmost01.html',\n",
       " u'/players/a/augusdj01.html',\n",
       " u'/players/a/augusja01.html',\n",
       " u'/players/a/austiis01.html',\n",
       " u'/players/a/austijo01.html',\n",
       " u'/players/a/austike01.html',\n",
       " u'/players/a/aventan01.html',\n",
       " u'/players/a/averibi01.html',\n",
       " u'/players/a/averywi01.html',\n",
       " u'/players/a/awtrede01.html',\n",
       " u'/players/a/ayongu01.html',\n",
       " u'/players/a/azubuke01.html',\n",
       " u'/players/p/pendeje02.html']"
      ]
     },
     "execution_count": 16,
     "metadata": {},
     "output_type": "execute_result"
    }
   ],
   "source": [
    "#empty array where we will store player data\n",
    "player_links = []\n",
    "\n",
    "#page_letters = list(\"abcdefghijklmnopqrstubwxyz\")\n",
    "page_letters = list(\"ab\")\n",
    "\n",
    "for letter in page_letters:\n",
    "    url = \"http://www.basketball-reference.com/players/%s/\" % letter\n",
    "    browser.get(url)\n",
    "    html = browser.page_source\n",
    "    \n",
    "    # grab inactive players without the strong html tag\n",
    "    links = Selector(text=html).xpath(\"//th[@class='left ']/a/@href\").extract()\n",
    "\n",
    "    # then grap active players with the strong html tag\n",
    "    links1 = Selector(text=html).xpath(\"//th[@class='left ']/strong/a/@href\").extract()\n",
    "\n",
    "    #combine the two separate links into one\n",
    "    links = links + links1\n",
    "    links = sorted(links)\n",
    "    \n",
    "    browser.quit()\n",
    "    \n",
    "    # set up random time interval to mitigate risk of being blocked by the domain\n",
    "    time.sleep(3*np.random.rand())\n",
    "\n",
    "\n"
   ]
  },
  {
   "cell_type": "code",
   "execution_count": null,
   "metadata": {
    "collapsed": true
   },
   "outputs": [],
   "source": [
    "for l in links:\n",
    "    player_url = \"http://www.basketball-reference.com/%s\" % l\n",
    "    browser.get(player_url)\n",
    "    player_html = browser.page_source"
   ]
  },
  {
   "cell_type": "code",
   "execution_count": 12,
   "metadata": {
    "collapsed": false
   },
   "outputs": [
    {
     "name": "stdout",
     "output_type": "stream",
     "text": [
      "[u'Arron Afflalo']\n",
      "Pro Stats: [u'NBA', u'706', u'532', u'28.4', u'4.1', u'9.1', u'.450', u'1.2', u'3.0', u'.386', u'3.0', u'6.1', u'.482', u'.514', u'1.9', u'2.3', u'.825', u'0.5', u'2.5', u'3.0', u'1.9', u'0.5', u'0.2', u'1.2', u'2.0', u'11.3', u'NBA', u'266', u'259', u'31.5', u'4.5', u'9.7', u'.465', u'1.4', u'3.6', u'.399', u'3.0', u'6.0', u'.505', u'.540', u'2.0', u'2.5', u'.810', u'0.6', u'2.7', u'3.3', u'2.1', u'0.6', u'0.3', u'1.2', u'2.3', u'12.4', u'NBA', u'149', u'17', u'14.8', u'1.5', u'3.6', u'.425', u'0.4', u'1.0', u'.342', u'1.2', u'2.6', u'.459', u'.474', u'0.8', u'1.1', u'.797', u'0.4', u'1.4', u'1.8', u'0.6', u'0.4', u'0.1', u'0.5', u'1.5', u'4.3', u'NBA', u'137', u'137', u'35.5', u'6.3', u'14.0', u'.449', u'1.5', u'3.9', u'.370', u'4.8', u'10.0', u'.480', u'.502', u'3.4', u'4.1', u'.832', u'0.4', u'3.2', u'3.7', u'3.3', u'0.5', u'0.1', u'2.1', u'2.0', u'17.4', u'NBA', u'71', u'57', u'33.4', u'5.0', u'11.3', u'.443', u'1.3', u'3.4', u'.382', u'3.7', u'7.9', u'.469', u'.500', u'1.5', u'1.8', u'.840', u'0.3', u'3.4', u'3.7', u'2.0', u'0.4', u'0.1', u'1.2', u'2.0', u'12.8', u'NBA', u'58', u'43', u'25.9', u'2.9', u'6.9', u'.430', u'1.0', u'2.5', u'.400', u'1.9', u'4.4', u'.447', u'.503', u'1.4', u'1.5', u'.898', u'0.2', u'1.9', u'2.1', u'1.2', u'0.4', u'0.1', u'0.7', u'1.7', u'8.3', u'NBA', u'25', u'19', u'30.1', u'3.8', u'9.1', u'.414', u'1.4', u'3.6', u'.400', u'2.3', u'5.5', u'.423', u'.493', u'1.6', u'1.9', u'.851', u'0.2', u'2.4', u'2.7', u'1.1', u'0.4', u'0.1', u'1.3', u'2.4', u'10.6']\n",
      "College Points Per Game: 20\n"
     ]
    }
   ],
   "source": [
    "name = Selector(text=HTML).xpath(\"//h1/text()\").extract()\n",
    "print name\n",
    "pro_stats = Selector(text=HTML).xpath(\"//table[@id='per_game']/tfoot/tr/td/text()\").extract()\n",
    "print \"Pro Stats:\", pro_stats\n",
    "      \n",
    "# test = Selector(text=ppage).xpath(\"//table[@id='all_college_stats']/tfoot/tr/td/text()\").extract()\n",
    "\n",
    "# notice the double slash after the tr, this is a valid xpath\n",
    "col_points = Selector(text=HTML).xpath(\"//table[@id='all_college_stats']/tfoot/tr//td/text()\").extract()\n",
    "print \"College Points Per Game:\", len(col_points)\n",
    "\n",
    "browser.quit()"
   ]
  },
  {
   "cell_type": "code",
   "execution_count": 15,
   "metadata": {
    "collapsed": false
   },
   "outputs": [
    {
     "name": "stdout",
     "output_type": "stream",
     "text": [
      "/players/a/abdursh01.html\n"
     ]
    },
    {
     "ename": "MissingSchema",
     "evalue": "Invalid URL '/players/a/abdelal01.html': No schema supplied. Perhaps you meant http:///players/a/abdelal01.html?",
     "output_type": "error",
     "traceback": [
      "\u001b[0;31m---------------------------------------------------------------------------\u001b[0m",
      "\u001b[0;31mMissingSchema\u001b[0m                             Traceback (most recent call last)",
      "\u001b[0;32m<ipython-input-15-8cdbcee07aca>\u001b[0m in \u001b[0;36m<module>\u001b[0;34m()\u001b[0m\n\u001b[1;32m     20\u001b[0m     \u001b[0;32mfor\u001b[0m \u001b[0mlink\u001b[0m \u001b[0;32min\u001b[0m \u001b[0mlinks\u001b[0m\u001b[0;34m:\u001b[0m\u001b[0;34m\u001b[0m\u001b[0m\n\u001b[1;32m     21\u001b[0m         \u001b[0;31m# get html of that specific players page in Basketball reference\u001b[0m\u001b[0;34m\u001b[0m\u001b[0;34m\u001b[0m\u001b[0m\n\u001b[0;32m---> 22\u001b[0;31m         \u001b[0mppage\u001b[0m \u001b[0;34m=\u001b[0m \u001b[0mrequests\u001b[0m\u001b[0;34m.\u001b[0m\u001b[0mget\u001b[0m\u001b[0;34m(\u001b[0m\u001b[0mlink\u001b[0m\u001b[0;34m)\u001b[0m\u001b[0;34m.\u001b[0m\u001b[0mtext\u001b[0m\u001b[0;34m\u001b[0m\u001b[0m\n\u001b[0m\u001b[1;32m     23\u001b[0m \u001b[0;34m\u001b[0m\u001b[0m\n\u001b[1;32m     24\u001b[0m         \u001b[0;31m# grab name\u001b[0m\u001b[0;34m\u001b[0m\u001b[0;34m\u001b[0m\u001b[0m\n",
      "\u001b[0;32m/Users/Carter/anaconda/lib/python2.7/site-packages/requests/api.pyc\u001b[0m in \u001b[0;36mget\u001b[0;34m(url, params, **kwargs)\u001b[0m\n\u001b[1;32m     68\u001b[0m \u001b[0;34m\u001b[0m\u001b[0m\n\u001b[1;32m     69\u001b[0m     \u001b[0mkwargs\u001b[0m\u001b[0;34m.\u001b[0m\u001b[0msetdefault\u001b[0m\u001b[0;34m(\u001b[0m\u001b[0;34m'allow_redirects'\u001b[0m\u001b[0;34m,\u001b[0m \u001b[0mTrue\u001b[0m\u001b[0;34m)\u001b[0m\u001b[0;34m\u001b[0m\u001b[0m\n\u001b[0;32m---> 70\u001b[0;31m     \u001b[0;32mreturn\u001b[0m \u001b[0mrequest\u001b[0m\u001b[0;34m(\u001b[0m\u001b[0;34m'get'\u001b[0m\u001b[0;34m,\u001b[0m \u001b[0murl\u001b[0m\u001b[0;34m,\u001b[0m \u001b[0mparams\u001b[0m\u001b[0;34m=\u001b[0m\u001b[0mparams\u001b[0m\u001b[0;34m,\u001b[0m \u001b[0;34m**\u001b[0m\u001b[0mkwargs\u001b[0m\u001b[0;34m)\u001b[0m\u001b[0;34m\u001b[0m\u001b[0m\n\u001b[0m\u001b[1;32m     71\u001b[0m \u001b[0;34m\u001b[0m\u001b[0m\n\u001b[1;32m     72\u001b[0m \u001b[0;34m\u001b[0m\u001b[0m\n",
      "\u001b[0;32m/Users/Carter/anaconda/lib/python2.7/site-packages/requests/api.pyc\u001b[0m in \u001b[0;36mrequest\u001b[0;34m(method, url, **kwargs)\u001b[0m\n\u001b[1;32m     54\u001b[0m     \u001b[0;31m# cases, and look like a memory leak in others.\u001b[0m\u001b[0;34m\u001b[0m\u001b[0;34m\u001b[0m\u001b[0m\n\u001b[1;32m     55\u001b[0m     \u001b[0;32mwith\u001b[0m \u001b[0msessions\u001b[0m\u001b[0;34m.\u001b[0m\u001b[0mSession\u001b[0m\u001b[0;34m(\u001b[0m\u001b[0;34m)\u001b[0m \u001b[0;32mas\u001b[0m \u001b[0msession\u001b[0m\u001b[0;34m:\u001b[0m\u001b[0;34m\u001b[0m\u001b[0m\n\u001b[0;32m---> 56\u001b[0;31m         \u001b[0;32mreturn\u001b[0m \u001b[0msession\u001b[0m\u001b[0;34m.\u001b[0m\u001b[0mrequest\u001b[0m\u001b[0;34m(\u001b[0m\u001b[0mmethod\u001b[0m\u001b[0;34m=\u001b[0m\u001b[0mmethod\u001b[0m\u001b[0;34m,\u001b[0m \u001b[0murl\u001b[0m\u001b[0;34m=\u001b[0m\u001b[0murl\u001b[0m\u001b[0;34m,\u001b[0m \u001b[0;34m**\u001b[0m\u001b[0mkwargs\u001b[0m\u001b[0;34m)\u001b[0m\u001b[0;34m\u001b[0m\u001b[0m\n\u001b[0m\u001b[1;32m     57\u001b[0m \u001b[0;34m\u001b[0m\u001b[0m\n\u001b[1;32m     58\u001b[0m \u001b[0;34m\u001b[0m\u001b[0m\n",
      "\u001b[0;32m/Users/Carter/anaconda/lib/python2.7/site-packages/requests/sessions.pyc\u001b[0m in \u001b[0;36mrequest\u001b[0;34m(self, method, url, params, data, headers, cookies, files, auth, timeout, allow_redirects, proxies, hooks, stream, verify, cert, json)\u001b[0m\n\u001b[1;32m    472\u001b[0m             \u001b[0mhooks\u001b[0m \u001b[0;34m=\u001b[0m \u001b[0mhooks\u001b[0m\u001b[0;34m,\u001b[0m\u001b[0;34m\u001b[0m\u001b[0m\n\u001b[1;32m    473\u001b[0m         )\n\u001b[0;32m--> 474\u001b[0;31m         \u001b[0mprep\u001b[0m \u001b[0;34m=\u001b[0m \u001b[0mself\u001b[0m\u001b[0;34m.\u001b[0m\u001b[0mprepare_request\u001b[0m\u001b[0;34m(\u001b[0m\u001b[0mreq\u001b[0m\u001b[0;34m)\u001b[0m\u001b[0;34m\u001b[0m\u001b[0m\n\u001b[0m\u001b[1;32m    475\u001b[0m \u001b[0;34m\u001b[0m\u001b[0m\n\u001b[1;32m    476\u001b[0m         \u001b[0mproxies\u001b[0m \u001b[0;34m=\u001b[0m \u001b[0mproxies\u001b[0m \u001b[0;32mor\u001b[0m \u001b[0;34m{\u001b[0m\u001b[0;34m}\u001b[0m\u001b[0;34m\u001b[0m\u001b[0m\n",
      "\u001b[0;32m/Users/Carter/anaconda/lib/python2.7/site-packages/requests/sessions.pyc\u001b[0m in \u001b[0;36mprepare_request\u001b[0;34m(self, request)\u001b[0m\n\u001b[1;32m    405\u001b[0m             \u001b[0mauth\u001b[0m\u001b[0;34m=\u001b[0m\u001b[0mmerge_setting\u001b[0m\u001b[0;34m(\u001b[0m\u001b[0mauth\u001b[0m\u001b[0;34m,\u001b[0m \u001b[0mself\u001b[0m\u001b[0;34m.\u001b[0m\u001b[0mauth\u001b[0m\u001b[0;34m)\u001b[0m\u001b[0;34m,\u001b[0m\u001b[0;34m\u001b[0m\u001b[0m\n\u001b[1;32m    406\u001b[0m             \u001b[0mcookies\u001b[0m\u001b[0;34m=\u001b[0m\u001b[0mmerged_cookies\u001b[0m\u001b[0;34m,\u001b[0m\u001b[0;34m\u001b[0m\u001b[0m\n\u001b[0;32m--> 407\u001b[0;31m             \u001b[0mhooks\u001b[0m\u001b[0;34m=\u001b[0m\u001b[0mmerge_hooks\u001b[0m\u001b[0;34m(\u001b[0m\u001b[0mrequest\u001b[0m\u001b[0;34m.\u001b[0m\u001b[0mhooks\u001b[0m\u001b[0;34m,\u001b[0m \u001b[0mself\u001b[0m\u001b[0;34m.\u001b[0m\u001b[0mhooks\u001b[0m\u001b[0;34m)\u001b[0m\u001b[0;34m,\u001b[0m\u001b[0;34m\u001b[0m\u001b[0m\n\u001b[0m\u001b[1;32m    408\u001b[0m         )\n\u001b[1;32m    409\u001b[0m         \u001b[0;32mreturn\u001b[0m \u001b[0mp\u001b[0m\u001b[0;34m\u001b[0m\u001b[0m\n",
      "\u001b[0;32m/Users/Carter/anaconda/lib/python2.7/site-packages/requests/models.pyc\u001b[0m in \u001b[0;36mprepare\u001b[0;34m(self, method, url, headers, files, data, params, auth, cookies, hooks, json)\u001b[0m\n\u001b[1;32m    300\u001b[0m \u001b[0;34m\u001b[0m\u001b[0m\n\u001b[1;32m    301\u001b[0m         \u001b[0mself\u001b[0m\u001b[0;34m.\u001b[0m\u001b[0mprepare_method\u001b[0m\u001b[0;34m(\u001b[0m\u001b[0mmethod\u001b[0m\u001b[0;34m)\u001b[0m\u001b[0;34m\u001b[0m\u001b[0m\n\u001b[0;32m--> 302\u001b[0;31m         \u001b[0mself\u001b[0m\u001b[0;34m.\u001b[0m\u001b[0mprepare_url\u001b[0m\u001b[0;34m(\u001b[0m\u001b[0murl\u001b[0m\u001b[0;34m,\u001b[0m \u001b[0mparams\u001b[0m\u001b[0;34m)\u001b[0m\u001b[0;34m\u001b[0m\u001b[0m\n\u001b[0m\u001b[1;32m    303\u001b[0m         \u001b[0mself\u001b[0m\u001b[0;34m.\u001b[0m\u001b[0mprepare_headers\u001b[0m\u001b[0;34m(\u001b[0m\u001b[0mheaders\u001b[0m\u001b[0;34m)\u001b[0m\u001b[0;34m\u001b[0m\u001b[0m\n\u001b[1;32m    304\u001b[0m         \u001b[0mself\u001b[0m\u001b[0;34m.\u001b[0m\u001b[0mprepare_cookies\u001b[0m\u001b[0;34m(\u001b[0m\u001b[0mcookies\u001b[0m\u001b[0;34m)\u001b[0m\u001b[0;34m\u001b[0m\u001b[0m\n",
      "\u001b[0;32m/Users/Carter/anaconda/lib/python2.7/site-packages/requests/models.pyc\u001b[0m in \u001b[0;36mprepare_url\u001b[0;34m(self, url, params)\u001b[0m\n\u001b[1;32m    364\u001b[0m             \u001b[0merror\u001b[0m \u001b[0;34m=\u001b[0m \u001b[0merror\u001b[0m\u001b[0;34m.\u001b[0m\u001b[0mformat\u001b[0m\u001b[0;34m(\u001b[0m\u001b[0mto_native_string\u001b[0m\u001b[0;34m(\u001b[0m\u001b[0murl\u001b[0m\u001b[0;34m,\u001b[0m \u001b[0;34m'utf8'\u001b[0m\u001b[0;34m)\u001b[0m\u001b[0;34m)\u001b[0m\u001b[0;34m\u001b[0m\u001b[0m\n\u001b[1;32m    365\u001b[0m \u001b[0;34m\u001b[0m\u001b[0m\n\u001b[0;32m--> 366\u001b[0;31m             \u001b[0;32mraise\u001b[0m \u001b[0mMissingSchema\u001b[0m\u001b[0;34m(\u001b[0m\u001b[0merror\u001b[0m\u001b[0;34m)\u001b[0m\u001b[0;34m\u001b[0m\u001b[0m\n\u001b[0m\u001b[1;32m    367\u001b[0m \u001b[0;34m\u001b[0m\u001b[0m\n\u001b[1;32m    368\u001b[0m         \u001b[0;32mif\u001b[0m \u001b[0;32mnot\u001b[0m \u001b[0mhost\u001b[0m\u001b[0;34m:\u001b[0m\u001b[0;34m\u001b[0m\u001b[0m\n",
      "\u001b[0;31mMissingSchema\u001b[0m: Invalid URL '/players/a/abdelal01.html': No schema supplied. Perhaps you meant http:///players/a/abdelal01.html?"
     ]
    }
   ],
   "source": [
    "\n",
    "    \n",
    "    \n",
    "    \n",
    "    for link in links:\n",
    "        player_url = \"http://www.basketball-reference.com%s\" % link\n",
    "        \n",
    "        # get html of that specific players page in Basketball reference\n",
    "        ppage = requests.get(player_url).text\n",
    "        \n",
    "        # grab name\n",
    "        name = Selector(text=ppage).xpath(\"//h1\").extract()\n",
    "        \n",
    "        # get professional stats for career       \n",
    "        pro_stats = Selector(text=ppage).xpath(\"//table[@id='per_game']/tfoot/tr[1]/td\").extract()\n",
    "        \n",
    "        # get college stats       \n",
    "        college_state = Selector(text=ppage).xpath(\"//table[@id='all_college_stats']/tfoot/tr/td\").extract()\n",
    "        \n",
    "        \n",
    "        players.append({\n",
    "        \"player\":  name,\n",
    "        \"year\":    element.xpath(\"./td[@data-stat='year_min']/text()\").extract(),\n",
    "        })\n",
    "        \n",
    "        time.sleep(3*np.random.rand())\n",
    "        \n",
    "\n",
    "   \n",
    "    "
   ]
  },
  {
   "cell_type": "code",
   "execution_count": null,
   "metadata": {
    "collapsed": false
   },
   "outputs": [],
   "source": []
  }
 ],
 "metadata": {
  "kernelspec": {
   "display_name": "Python 2",
   "language": "python",
   "name": "python2"
  },
  "language_info": {
   "codemirror_mode": {
    "name": "ipython",
    "version": 2
   },
   "file_extension": ".py",
   "mimetype": "text/x-python",
   "name": "python",
   "nbconvert_exporter": "python",
   "pygments_lexer": "ipython2",
   "version": "2.7.13"
  }
 },
 "nbformat": 4,
 "nbformat_minor": 2
}
