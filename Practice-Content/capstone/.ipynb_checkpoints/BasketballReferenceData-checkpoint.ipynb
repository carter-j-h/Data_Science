{
 "cells": [
  {
   "cell_type": "markdown",
   "metadata": {},
   "source": [
    "### Gathering Basketball Data"
   ]
  },
  {
   "cell_type": "code",
   "execution_count": 37,
   "metadata": {
    "collapsed": true
   },
   "outputs": [],
   "source": [
    "import pandas as pd\n",
    "import numpy as np\n",
    "from scrapy.selector import Selector\n",
    "from scrapy.http import HtmlResponse\n",
    "import requests\n",
    "import time\n",
    "import random\n",
    "from bs4 import BeautifulSoup\n",
    "\n",
    "from selenium import webdriver\n",
    "\n",
    "chromedriver = \"/Users/Carter/Desktop/chromedriver\""
   ]
  },
  {
   "cell_type": "markdown",
   "metadata": {},
   "source": [
    "### attempts using beautiful soup and reqeusts"
   ]
  },
  {
   "cell_type": "code",
   "execution_count": 30,
   "metadata": {
    "collapsed": true
   },
   "outputs": [],
   "source": [
    "#response = requests.get('http://www.basketball-reference.com/players/a/')\n",
    "#html = response.text"
   ]
  },
  {
   "cell_type": "code",
   "execution_count": 31,
   "metadata": {
    "collapsed": true
   },
   "outputs": [],
   "source": [
    "#page = BeautifulSoup(html, \"lxml\")"
   ]
  },
  {
   "cell_type": "code",
   "execution_count": 32,
   "metadata": {
    "collapsed": false,
    "scrolled": true
   },
   "outputs": [],
   "source": [
    "#page.title.string"
   ]
  },
  {
   "cell_type": "code",
   "execution_count": 33,
   "metadata": {
    "collapsed": false
   },
   "outputs": [],
   "source": [
    "#player_table =page.find(\"table\", {\"id\": \"players\"})"
   ]
  },
  {
   "cell_type": "code",
   "execution_count": 34,
   "metadata": {
    "collapsed": false,
    "scrolled": true
   },
   "outputs": [],
   "source": [
    "#rows = player_table.tbody.children\n",
    "\n",
    "#for r in rows:\n",
    " #   print r."
   ]
  },
  {
   "cell_type": "code",
   "execution_count": 35,
   "metadata": {
    "collapsed": false
   },
   "outputs": [],
   "source": [
    "# for child in test.children:\n",
    "    #print child"
   ]
  },
  {
   "cell_type": "code",
   "execution_count": 36,
   "metadata": {
    "collapsed": true
   },
   "outputs": [],
   "source": [
    "#ppage = requests.get(\"http://www.basketball-reference.com/players/a/adamsst01.html\").text"
   ]
  },
  {
   "cell_type": "markdown",
   "metadata": {},
   "source": [
    "### Using Selenium"
   ]
  },
  {
   "cell_type": "code",
   "execution_count": 5,
   "metadata": {
    "collapsed": false,
    "scrolled": true
   },
   "outputs": [],
   "source": [
    "import datetime\n",
    "# Options is a package that allows me to user a Adblocker to more rapidly pull the html page source of each page I am scraping\n",
    "from selenium.webdriver.chrome.options import Options\n",
    "\n",
    "chop = webdriver.ChromeOptions()\n",
    "chop.add_extension('/Users/Carter/Desktop/Adblock-Plus_v1.13.2.crx')"
   ]
  },
  {
   "cell_type": "code",
   "execution_count": 6,
   "metadata": {
    "collapsed": false
   },
   "outputs": [],
   "source": [
    "# browser = webdriver.Chrome(executable_path = chromedriver)\n",
    "# print datetime.datetime.now().time()\n",
    "# url = \"http://www.basketball-reference.com/players/a/\"\n",
    "# browser.get(url)\n",
    "# print datetime.datetime.now().time()\n",
    "# browser.quit()"
   ]
  },
  {
   "cell_type": "code",
   "execution_count": 7,
   "metadata": {
    "collapsed": false,
    "scrolled": false
   },
   "outputs": [
    {
     "name": "stdout",
     "output_type": "stream",
     "text": [
      "Completed a\n",
      "Completed b\n",
      "Completed c\n",
      "Completed d\n",
      "Completed e\n",
      "Completed f\n",
      "Completed g\n",
      "Completed h\n",
      "Completed i\n",
      "Completed j\n",
      "Completed k\n",
      "Completed l\n",
      "Completed m\n",
      "Completed n\n",
      "Completed o\n",
      "Completed p\n",
      "Completed q\n",
      "Completed r\n",
      "Completed s\n",
      "Completed t\n",
      "Completed u\n",
      "Completed v\n",
      "Completed w\n",
      "Completed x\n",
      "Completed y\n",
      "Completed z\n"
     ]
    }
   ],
   "source": [
    "browser = webdriver.Chrome(executable_path = chromedriver, chrome_options = chop)\n",
    "\n",
    "#empty array where we will store player data\n",
    "player_links = []\n",
    "\n",
    "page_letters = list(\"abcdefghijklmnopqrstuvwxyz\")\n",
    "#page_letters = list(\"ab\")\n",
    "\n",
    "for letter in page_letters:\n",
    "    \n",
    "    url = \"http://www.basketball-reference.com/players/%s/\" % letter\n",
    "    #    print datetime.datetime.now().time()\n",
    "    browser.get(url)\n",
    "    #    print datetime.datetime.now().time()\n",
    "    html = browser.page_source\n",
    "    #    print \"Done Page Source %s\" % letter\n",
    "    #    print datetime.datetime.now().time()\n",
    "    # grab inactive players without the strong html tag\n",
    "    links = Selector(text=html).xpath(\"//th[@class='left ']/a/@href\").extract()\n",
    "    #    print \"Done link 1 %s\" % letter\n",
    "    # then grap active players with the strong html tag\n",
    "    links1 = Selector(text=html).xpath(\"//th[@class='left ']/strong/a/@href\").extract()\n",
    "    #    print \"Done link 2 %s\" % letter\n",
    "    #combine the two separate links into one\n",
    "    links = links + links1\n",
    "    #    print \"Combined links %s\" % letter\n",
    "    player_links.append(links)\n",
    "    print \"Completed %s\" % letter\n",
    "    # set up random time interval to mitigate risk of being blocked by the domain\n",
    "    time.sleep(2*np.random.rand())\n",
    "\n",
    "browser.quit()"
   ]
  },
  {
   "cell_type": "code",
   "execution_count": 8,
   "metadata": {
    "collapsed": false
   },
   "outputs": [],
   "source": [
    "test_list = player_links[:]"
   ]
  },
  {
   "cell_type": "code",
   "execution_count": 9,
   "metadata": {
    "collapsed": false
   },
   "outputs": [],
   "source": [
    "import itertools\n",
    "list2d = test_list\n",
    "merged = list(itertools.chain(*list2d))\n"
   ]
  },
  {
   "cell_type": "code",
   "execution_count": 10,
   "metadata": {
    "collapsed": false,
    "scrolled": false
   },
   "outputs": [
    {
     "data": {
      "text/plain": [
       "4455"
      ]
     },
     "execution_count": 10,
     "metadata": {},
     "output_type": "execute_result"
    }
   ],
   "source": [
    "player_links = merged[:]\n",
    "len(player_links)"
   ]
  },
  {
   "cell_type": "code",
   "execution_count": 61,
   "metadata": {
    "collapsed": false
   },
   "outputs": [
    {
     "data": {
      "text/plain": [
       "4455"
      ]
     },
     "execution_count": 61,
     "metadata": {},
     "output_type": "execute_result"
    }
   ],
   "source": [
    "len(player_links)"
   ]
  },
  {
   "cell_type": "code",
   "execution_count": 60,
   "metadata": {
    "collapsed": false,
    "scrolled": true
   },
   "outputs": [],
   "source": [
    "# browser = webdriver.Chrome(executable_path = chromedriver, chrome_options = chop)\n",
    "\n",
    "# print datetime.datetime.now().time()\n",
    "# for l in player_links:\n",
    "#     player_url = \"http://www.basketball-reference.com%s\" % l\n",
    "    \n",
    "#     # get the player page\n",
    "#     browser.get(player_url)\n",
    "    \n",
    "#     # pull the html of the page\n",
    "#     player_html = browser.page_source\n",
    "    \n",
    "    \n",
    "#     name = Selector(text=player_html).xpath(\"//h1/text()\").extract()\n",
    "#     print name\n",
    "#     pro_stats = Selector(text=player_html).xpath(\"//table[@id='per_game']/tfoot/tr[1]/td/text()\").extract()\n",
    "#     print pro_stats\n",
    "#     col_points = Selector(text=player_html).xpath(\"//table[@id='all_college_stats']/tfoot/tr//td/text()\").extract()\n",
    "#     print col_points\n",
    "    \n",
    "    \n",
    "    \n",
    "# browser.quit()\n",
    "# print datetime.datetime.now().time()\n"
   ]
  },
  {
   "cell_type": "code",
   "execution_count": 28,
   "metadata": {
    "collapsed": false
   },
   "outputs": [
    {
     "name": "stdout",
     "output_type": "stream",
     "text": [
      "13:37:19.187292\n",
      "13:37:26.665907\n"
     ]
    }
   ],
   "source": [
    "browser = webdriver.Chrome(executable_path = chromedriver, chrome_options = chop)\n",
    "\n",
    "player_stats = []\n",
    "\n",
    "print datetime.datetime.now().time()\n",
    "\n",
    "for l in player_links:\n",
    "    \n",
    "    player_url = \"http://www.basketball-reference.com%s\" % l\n",
    "    \n",
    "    # get the html of the player page\n",
    "    browser.get(player_url)\n",
    "    \n",
    "    # pull the page source so I can access the data via xpath selector\n",
    "    player_html = browser.page_source\n",
    "    \n",
    "    # grab the name of the player\n",
    "    name = Selector(text=player_html).xpath(\"//h1/text()\").extract()\n",
    "    \n",
    "    # grab their pro stats, which will be a list\n",
    "    pro_stats = Selector(text=player_html).xpath(\"//table[@id='per_game']/tfoot/tr[1]/td/text()\").extract()\n",
    "    \n",
    "    # col_points = Selector(text=player_html).xpath(\"//table[@id='all_college_stats']/tfoot/tr//td/text()\").extract    \n",
    "    \n",
    "    player_stats.append({\n",
    "        \"Name\": name[0],\n",
    "        \"Lg\": pro_stats[0],\n",
    "        \"G\": pro_stats[1],\n",
    "        \"GS\": pro_stats[2],\n",
    "        \"MP\": pro_stats[3],\n",
    "        \"FG\": pro_stats[4],\n",
    "        \"FGA\": pro_stats[5],\n",
    "        \"FG%\": pro_stats[6],\n",
    "        \"3P\": pro_stats[7],\n",
    "        \"3PA\": pro_stats[7],\n",
    "        \"3P%\": pro_stats[9],\n",
    "        \"2P\": pro_stats[10],\n",
    "        \"2PA\": pro_stats[11],\n",
    "        \"2P%\": pro_stats[12],\n",
    "        \"eFG%\": pro_stats[13],\n",
    "        \"FT\": pro_stats[14],\n",
    "        \"FTA\": pro_stats[15],\n",
    "        \"FT%\": pro_stats[16],\n",
    "        \"ORB\": pro_stats[17],\n",
    "        \"DRB\": pro_stats[18],\n",
    "        \"TRB\": pro_stats[19],\n",
    "        \"AST\": pro_stats[20],\n",
    "        \"STL\": pro_stats[21],\n",
    "        \"BLK\": pro_stats[22],\n",
    "        \"TOV\": pro_stats[23],\n",
    "        \"PF\": pro_stats[24],\n",
    "        \"PTS\": pro_stats[25]\n",
    "    })\n",
    "    \n",
    "    time.sleep(2*np.random.rand())\n",
    "    \n",
    "    chance = (random.randint(1,100))    \n",
    "    if chance <= 5:\n",
    "        print (\"5% chance of getting this-- still running\")\n",
    "    \n",
    "browser.quit()\n",
    "    \n"
   ]
  },
  {
   "cell_type": "code",
   "execution_count": 29,
   "metadata": {
    "collapsed": false,
    "scrolled": false
   },
   "outputs": [
    {
     "data": {
      "text/html": [
       "<div>\n",
       "<table border=\"1\" class=\"dataframe\">\n",
       "  <thead>\n",
       "    <tr style=\"text-align: right;\">\n",
       "      <th></th>\n",
       "      <th>2P</th>\n",
       "      <th>2P%</th>\n",
       "      <th>2PA</th>\n",
       "      <th>3P</th>\n",
       "      <th>3P%</th>\n",
       "      <th>3PA</th>\n",
       "      <th>AST</th>\n",
       "      <th>BLK</th>\n",
       "      <th>DRB</th>\n",
       "      <th>FG</th>\n",
       "      <th>...</th>\n",
       "      <th>Lg</th>\n",
       "      <th>MP</th>\n",
       "      <th>Name</th>\n",
       "      <th>ORB</th>\n",
       "      <th>PF</th>\n",
       "      <th>PTS</th>\n",
       "      <th>STL</th>\n",
       "      <th>TOV</th>\n",
       "      <th>TRB</th>\n",
       "      <th>eFG%</th>\n",
       "    </tr>\n",
       "  </thead>\n",
       "  <tbody>\n",
       "    <tr>\n",
       "      <th>0</th>\n",
       "      <td>2.4</td>\n",
       "      <td>.503</td>\n",
       "      <td>4.8</td>\n",
       "      <td>0.0</td>\n",
       "      <td>.000</td>\n",
       "      <td>0.0</td>\n",
       "      <td>0.3</td>\n",
       "      <td>0.3</td>\n",
       "      <td>2.2</td>\n",
       "      <td>2.4</td>\n",
       "      <td>...</td>\n",
       "      <td>NBA</td>\n",
       "      <td>12.5</td>\n",
       "      <td>Alaa Abdelnaby</td>\n",
       "      <td>1.1</td>\n",
       "      <td>1.9</td>\n",
       "      <td>5.7</td>\n",
       "      <td>0.3</td>\n",
       "      <td>1.0</td>\n",
       "      <td>3.3</td>\n",
       "      <td>.502</td>\n",
       "    </tr>\n",
       "  </tbody>\n",
       "</table>\n",
       "<p>1 rows × 27 columns</p>\n",
       "</div>"
      ],
      "text/plain": [
       "    2P   2P%  2PA   3P   3P%  3PA  AST  BLK  DRB   FG  ...    Lg    MP  \\\n",
       "0  2.4  .503  4.8  0.0  .000  0.0  0.3  0.3  2.2  2.4  ...   NBA  12.5   \n",
       "\n",
       "             Name  ORB   PF  PTS  STL  TOV  TRB  eFG%  \n",
       "0  Alaa Abdelnaby  1.1  1.9  5.7  0.3  1.0  3.3  .502  \n",
       "\n",
       "[1 rows x 27 columns]"
      ]
     },
     "execution_count": 29,
     "metadata": {},
     "output_type": "execute_result"
    }
   ],
   "source": [
    "df = pd.DataFrame(player_stats)\n",
    "df.head()"
   ]
  },
  {
   "cell_type": "code",
   "execution_count": 27,
   "metadata": {
    "collapsed": true
   },
   "outputs": [],
   "source": [
    "df.to_csv(path_or_buf= 'pro_players.csv')"
   ]
  },
  {
   "cell_type": "code",
   "execution_count": 58,
   "metadata": {
    "collapsed": false
   },
   "outputs": [],
   "source": [
    "# name = Selector(text=HTML).xpath(\"//h1/text()\").extract()\n",
    "# print name\n",
    "# pro_stats = Selector(text=HTML).xpath(\"//table[@id='per_game']/tfoot/tr/td/text()\").extract()\n",
    "# print \"Pro Stats:\", pro_stats\n",
    "      \n",
    "# # test = Selector(text=ppage).xpath(\"//table[@id='all_college_stats']/tfoot/tr/td/text()\").extract()\n",
    "\n",
    "# # notice the double slash after the tr, this is a valid xpath\n",
    "# col_points = Selector(text=HTML).xpath(\"//table[@id='all_college_stats']/tfoot/tr//td/text()\").extract()\n",
    "# print \"College Points Per Game:\", len(col_points)\n",
    "\n",
    "# browser.quit()"
   ]
  },
  {
   "cell_type": "code",
   "execution_count": 12,
   "metadata": {
    "collapsed": false
   },
   "outputs": [],
   "source": [
    "# for link in links:\n",
    "#         player_url = \"http://www.basketball-reference.com%s\" % link\n",
    "        \n",
    "#         # get html of that specific players page in Basketball reference\n",
    "#         ppage = requests.get(player_url).text\n",
    "        \n",
    "#         # grab name\n",
    "#         name = Selector(text=ppage).xpath(\"//h1\").extract()\n",
    "        \n",
    "#         # get professional stats for career       \n",
    "#         pro_stats = Selector(text=ppage).xpath(\"//table[@id='per_game']/tfoot/tr[1]/td\").extract()\n",
    "        \n",
    "#         # get college stats       \n",
    "#         college_state = Selector(text=ppage).xpath(\"//table[@id='all_college_stats']/tfoot/tr/td\").extract()\n",
    "        \n",
    "        \n",
    "#         players.append({\n",
    "#         \"player\":  name,\n",
    "#         \"year\":    element.xpath(\"./td[@data-stat='year_min']/text()\").extract(),\n",
    "#         })\n",
    "        \n",
    "#         time.sleep(3*np.random.rand())\n",
    "        \n",
    "\n",
    "   \n",
    "    "
   ]
  }
 ],
 "metadata": {
  "kernelspec": {
   "display_name": "Python 2",
   "language": "python",
   "name": "python2"
  },
  "language_info": {
   "codemirror_mode": {
    "name": "ipython",
    "version": 2
   },
   "file_extension": ".py",
   "mimetype": "text/x-python",
   "name": "python",
   "nbconvert_exporter": "python",
   "pygments_lexer": "ipython2",
   "version": "2.7.13"
  }
 },
 "nbformat": 4,
 "nbformat_minor": 2
}
