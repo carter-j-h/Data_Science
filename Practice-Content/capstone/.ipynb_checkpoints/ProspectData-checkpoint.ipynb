{
 "cells": [
  {
   "cell_type": "markdown",
   "metadata": {},
   "source": [
    "### Prospect Data"
   ]
  },
  {
   "cell_type": "code",
   "execution_count": 11,
   "metadata": {
    "collapsed": true
   },
   "outputs": [],
   "source": [
    "import pandas as pd\n",
    "import numpy as np\n",
    "from scrapy.selector import Selector\n",
    "from scrapy.http import HtmlResponse\n",
    "import requests\n",
    "import time\n",
    "from bs4 import BeautifulSoup\n",
    "from selenium import webdriver\n",
    "\n",
    "chromedriver = \"/Users/Carter/Desktop/chromedriver\""
   ]
  },
  {
   "cell_type": "code",
   "execution_count": 13,
   "metadata": {
    "collapsed": true
   },
   "outputs": [],
   "source": [
    "browser = webdriver.Chrome(executable_path = chromedriver)"
   ]
  },
  {
   "cell_type": "code",
   "execution_count": 17,
   "metadata": {
    "collapsed": false
   },
   "outputs": [],
   "source": [
    "browser.get('http://basketball.realgm.com/nba/draft/prospects/stats')\n",
    "HTML = browser.page_source"
   ]
  },
  {
   "cell_type": "code",
   "execution_count": 18,
   "metadata": {
    "collapsed": false
   },
   "outputs": [
    {
     "name": "stderr",
     "output_type": "stream",
     "text": [
      "/Users/Carter/anaconda/lib/python2.7/site-packages/bs4/__init__.py:181: UserWarning: No parser was explicitly specified, so I'm using the best available HTML parser for this system (\"lxml\"). This usually isn't a problem, but if you run this code on another system, or in a different virtual environment, it may use a different parser and behave differently.\n",
      "\n",
      "The code that caused this warning is on line 174 of the file /Users/Carter/anaconda/lib/python2.7/runpy.py. To get rid of this warning, change code that looks like this:\n",
      "\n",
      " BeautifulSoup([your markup])\n",
      "\n",
      "to this:\n",
      "\n",
      " BeautifulSoup([your markup], \"lxml\")\n",
      "\n",
      "  markup_type=markup_type))\n"
     ]
    }
   ],
   "source": [
    "soup = BeautifulSoup(HTML)"
   ]
  },
  {
   "cell_type": "code",
   "execution_count": 27,
   "metadata": {
    "collapsed": false,
    "scrolled": true
   },
   "outputs": [
    {
     "name": "stdout",
     "output_type": "stream",
     "text": [
      "[u'Markelle Fultz', u'Alec Peters', u'Malik Monk', u'Luke Kennard', u'Trevon Bluiett', u'Justin Jackson', u'Marcus Foster', u'Dennis Smith', u'Jaron Blossomgame', u'Johnathan Motley', u'Allonzo Trier', u'Miles Bridges', u'Melo Trimble', u'Jayson Tatum', u\"De'Aaron Fox\", u'Monte Morris', u'Josh Jackson', u'Dillon Brooks', u'Cameron Oliver', u'Bennie Boatwright', u'E.C. Matthews', u'Lonzo Ball', u'V.J. Beachem', u'Grayson Allen', u'Jabari Bird', u'Ivan Rabb', u'Nigel Hayes', u'Matthew Fisher-Davis', u'Rodney Purvis', u'Edmond Sumner', u'Justin Tuoyo', u'Hassan Martin', u'Terry Larrier', u'Luke Kornet', u'Tyler Lydon', u'Bam Adebayo', u'Thomas Bryant', u'Deng Adel', u'Isaiah Hicks', u'Moses Kingsley', u'Jonathan Isaac', u'D.J. Hogg', u'Chris Boucher', u'Ogugua Anunoby', u'Malik Pope', u'Austin Nichols', u'Luke Fischer', u'Rawle Alkins', u'Jordan Bell', u'Alberto Abalde', u'Amida Brimah', u'Lagerald Vick', u'Vitto Brown', u'Frank Ntilikina', u'Tyler Roberson', u'Terrance Ferguson', u'Harry Giles', u'Isaiah Hartenstein', u'Michael Fusek', u'Marques Bolden']\n"
     ]
    }
   ],
   "source": [
    "name = Selector(text=HTML).xpath(\"//tbody/tr/td[@class='nowrap tablesaw-cell-persist']/a/text()\").extract()\n",
    "print name"
   ]
  },
  {
   "cell_type": "code",
   "execution_count": 5,
   "metadata": {
    "collapsed": true
   },
   "outputs": [],
   "source": [
    "prospects = []"
   ]
  },
  {
   "cell_type": "code",
   "execution_count": 4,
   "metadata": {
    "collapsed": false
   },
   "outputs": [],
   "source": [
    "response= requests.get('http://basketball.realgm.com/nba/draft/prospects/stats')\n",
    "html = response.text"
   ]
  },
  {
   "cell_type": "code",
   "execution_count": null,
   "metadata": {
    "collapsed": true
   },
   "outputs": [],
   "source": []
  }
 ],
 "metadata": {
  "kernelspec": {
   "display_name": "Python 2",
   "language": "python",
   "name": "python2"
  },
  "language_info": {
   "codemirror_mode": {
    "name": "ipython",
    "version": 2
   },
   "file_extension": ".py",
   "mimetype": "text/x-python",
   "name": "python",
   "nbconvert_exporter": "python",
   "pygments_lexer": "ipython2",
   "version": "2.7.13"
  }
 },
 "nbformat": 4,
 "nbformat_minor": 2
}
