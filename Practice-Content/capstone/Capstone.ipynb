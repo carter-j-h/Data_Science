{
 "cells": [
  {
   "cell_type": "markdown",
   "metadata": {},
   "source": [
    "# Import appropriate packages"
   ]
  },
  {
   "cell_type": "code",
   "execution_count": 4,
   "metadata": {
    "collapsed": false
   },
   "outputs": [
    {
     "name": "stderr",
     "output_type": "stream",
     "text": [
      "/Users/Carter/anaconda/lib/python2.7/site-packages/sklearn/cross_validation.py:44: DeprecationWarning: This module was deprecated in version 0.18 in favor of the model_selection module into which all the refactored classes and functions are moved. Also note that the interface of the new CV iterators are different from that of this module. This module will be removed in 0.20.\n",
      "  \"This module will be removed in 0.20.\", DeprecationWarning)\n"
     ]
    }
   ],
   "source": [
    "## Packages for data collection, exploration, and modeling\n",
    "import pandas as pd\n",
    "import numpy as np\n",
    "import datetime\n",
    "import matplotlib.pyplot as plt\n",
    "from scipy import stats\n",
    "import statsmodels.api as sm\n",
    "from sklearn import linear_model, metrics\n",
    "from sklearn.neighbors import KNeighborsClassifier\n",
    "from sklearn.model_selection import cross_val_score\n",
    "from sklearn import cross_validation\n",
    "\n",
    "## Web Scraping Packages\n",
    "from scrapy.selector import Selector\n",
    "from scrapy.http import HtmlResponse\n",
    "import requests\n",
    "import time\n",
    "import random\n",
    "from bs4 import BeautifulSoup\n",
    "from selenium import webdriver\n",
    "from selenium.webdriver.chrome.options import Options\n",
    "\n",
    "chromedriver = \"/Users/Carter/Desktop/chromedriver\"\n",
    "\n",
    "## to fill in missing data\n",
    "from fancyimpute import KNN\n",
    "\n",
    "## Plotting\n",
    "import seaborn as sns\n",
    "%matplotlib inline"
   ]
  },
  {
   "cell_type": "markdown",
   "metadata": {},
   "source": [
    "## Notice: You will notice some of the data collection cells have not been run in this notebook.  That is because I completed them in a separate notebook and then copied them here for submission."
   ]
  },
  {
   "cell_type": "markdown",
   "metadata": {},
   "source": [
    "# Part 1- Data Collection and introduction to Web Scraping\n"
   ]
  },
  {
   "cell_type": "code",
   "execution_count": 5,
   "metadata": {
    "collapsed": true
   },
   "outputs": [],
   "source": [
    "# initiate webdrive and add extension that blocks ads.  This increases the speed of how fast\n",
    "# each html page loads\n",
    "chop = webdriver.ChromeOptions()\n",
    "chop.add_extension('/Users/Carter/Desktop/Adblock-Plus_v1.13.2.crx')"
   ]
  },
  {
   "cell_type": "markdown",
   "metadata": {},
   "source": [
    "### Part 1 Step 1: Scrape to get URL's of all basketball players on website\n",
    "#### Takes ~45 minutes to run on my machine"
   ]
  },
  {
   "cell_type": "code",
   "execution_count": null,
   "metadata": {
    "collapsed": true
   },
   "outputs": [],
   "source": [
    "browser = webdriver.Chrome(executable_path = chromedriver, chrome_options = chop)\n",
    "\n",
    "#empty array where we will store player data\n",
    "player_links = []\n",
    "\n",
    "page_letters = list(\"abcdefghijklmnopqrstuvwxyz\")\n",
    "\n",
    "for letter in page_letters:\n",
    "    \n",
    "    url = \"http://www.basketball-reference.com/players/%s/\" % letter\n",
    "    \n",
    "    browser.get(url)\n",
    "    \n",
    "    html = browser.page_source\n",
    "    \n",
    "    # grab inactive players without the strong html tag\n",
    "    links = Selector(text=html).xpath(\"//th[@class='left ']/a/@href\").extract()\n",
    "    \n",
    "    # then grap active players with the strong html tag\n",
    "    links1 = Selector(text=html).xpath(\"//th[@class='left ']/strong/a/@href\").extract()\n",
    "    \n",
    "    #combine the two separate links into one\n",
    "    links = links + links1\n",
    "   \n",
    "    player_links.append(links)\n",
    "    \n",
    "    # set up random time interval to mitigate risk of being blocked by the domain\n",
    "    time.sleep(2*np.random.rand())\n",
    "\n",
    "browser.quit()"
   ]
  },
  {
   "cell_type": "code",
   "execution_count": null,
   "metadata": {
    "collapsed": true
   },
   "outputs": [],
   "source": [
    "# create a test links to validate data collection\n",
    "test_list = player_links[:]"
   ]
  },
  {
   "cell_type": "code",
   "execution_count": null,
   "metadata": {
    "collapsed": true
   },
   "outputs": [],
   "source": [
    "import itertools\n",
    "list2d = test_list\n",
    "merged = list(itertools.chain(*list2d))\n",
    "\n",
    "# verify list is accurate in terms of length comparted to what the website says.\n",
    "# will use this link list for data collection on each player\n",
    "player_links = merged[:]\n",
    "len(player_links)"
   ]
  },
  {
   "cell_type": "markdown",
   "metadata": {},
   "source": [
    "### Part 1 Step 2: Iterate through all links to grab each players Professional Stats\n",
    "#### Takes ~3hrs on my machine to run"
   ]
  },
  {
   "cell_type": "code",
   "execution_count": null,
   "metadata": {
    "collapsed": true
   },
   "outputs": [],
   "source": [
    "browser = webdriver.Chrome(executable_path = chromedriver, chrome_options = chop)\n",
    "\n",
    "player_stats = []\n",
    "\n",
    "print datetime.datetime.now().time()\n",
    "\n",
    "for l in player_links:\n",
    "    \n",
    "    player_url = \"http://www.basketball-reference.com%s\" % l\n",
    "    \n",
    "    # get the html of the player page\n",
    "    browser.get(player_url)\n",
    "    \n",
    "    # pull the page source so I can access the data via xpath selector\n",
    "    player_html = browser.page_source\n",
    "    \n",
    "    # grab the name of the player\n",
    "    name = Selector(text=player_html).xpath(\"//h1/text()\").extract()\n",
    "    \n",
    "    player_stats.append({\n",
    "        \"Name\": name[0],\n",
    "        \"Lg\": Selector(text=player_html).xpath(\"//table[@id='per_game']/tfoot/tr[1]//td[@data-stat='lg_id']/text()\").extract(),\n",
    "        \"G\": Selector(text=player_html).xpath(\"//table[@id='per_game']/tfoot/tr[1]//td[@data-stat='g']/text()\").extract(),\n",
    "        \"GS\": Selector(text=player_html).xpath(\"//table[@id='per_game']/tfoot/tr[1]//td[@data-stat='gs']/text()\").extract(),\n",
    "        \"MP\": Selector(text=player_html).xpath(\"//table[@id='per_game']/tfoot/tr[1]//td[@data-stat='mp_per_g']/text()\").extract(),\n",
    "        \"FG\": Selector(text=player_html).xpath(\"//table[@id='per_game']/tfoot/tr[1]//td[@data-stat='fg_per_g']/text()\").extract(),\n",
    "        \"FGA\": Selector(text=player_html).xpath(\"//table[@id='per_game']/tfoot/tr[1]//td[@data-stat='fga_per_g']/text()\").extract(),\n",
    "        \"FG%\": Selector(text=player_html).xpath(\"//table[@id='per_game']/tfoot/tr[1]//td[@data-stat='fg_pct']/text()\").extract(),\n",
    "        \"3P\": Selector(text=player_html).xpath(\"//table[@id='per_game']/tfoot/tr[1]//td[@data-stat='fg3_per_g']/text()\").extract(),\n",
    "        \"3PA\": Selector(text=player_html).xpath(\"//table[@id='per_game']/tfoot/tr[1]//td[@data-stat='fg3a_per_g']/text()\").extract(),\n",
    "        \"3P%\": Selector(text=player_html).xpath(\"//table[@id='per_game']/tfoot/tr[1]//td[@data-stat='fg3_pct']/text()\").extract(),\n",
    "        \"2P\": Selector(text=player_html).xpath(\"//table[@id='per_game']/tfoot/tr[1]//td[@data-stat='fg2_per_g']/text()\").extract(),\n",
    "        \"2PA\": Selector(text=player_html).xpath(\"//table[@id='per_game']/tfoot/tr[1]//td[@data-stat='fg2a_per_g']/text()\").extract(),\n",
    "        \"2P%\": Selector(text=player_html).xpath(\"//table[@id='per_game']/tfoot/tr[1]//td[@data-stat='fg2_pct']/text()\").extract(),\n",
    "        \"eFG%\": Selector(text=player_html).xpath(\"//table[@id='per_game']/tfoot/tr[1]//td[@data-stat='efg_pct']/text()\").extract(),\n",
    "        \"FT\": Selector(text=player_html).xpath(\"//table[@id='per_game']/tfoot/tr[1]//td[@data-stat='ft_per_g']/text()\").extract(),\n",
    "        \"FTA\": Selector(text=player_html).xpath(\"//table[@id='per_game']/tfoot/tr[1]//td[@data-stat='fta_per_g']/text()\").extract(),\n",
    "        \"FT%\": Selector(text=player_html).xpath(\"//table[@id='per_game']/tfoot/tr[1]//td[@data-stat='ft_pct']/text()\").extract(),\n",
    "        \"ORB\": Selector(text=player_html).xpath(\"//table[@id='per_game']/tfoot/tr[1]//td[@data-stat='orb_per_g']/text()\").extract(),\n",
    "        \"DRB\": Selector(text=player_html).xpath(\"//table[@id='per_game']/tfoot/tr[1]//td[@data-stat='drb_per_g']/text()\").extract(),\n",
    "        \"TRB\": Selector(text=player_html).xpath(\"//table[@id='per_game']/tfoot/tr[1]//td[@data-stat='trb_per_g']/text()\").extract(),\n",
    "        \"AST\": Selector(text=player_html).xpath(\"//table[@id='per_game']/tfoot/tr[1]//td[@data-stat='ast_per_g']/text()\").extract(),\n",
    "        \"STL\": Selector(text=player_html).xpath(\"//table[@id='per_game']/tfoot/tr[1]//td[@data-stat='stl_per_g']/text()\").extract(),\n",
    "        \"BLK\": Selector(text=player_html).xpath(\"//table[@id='per_game']/tfoot/tr[1]//td[@data-stat='blk_per_g']/text()\").extract(),\n",
    "        \"TOV\": Selector(text=player_html).xpath(\"//table[@id='per_game']/tfoot/tr[1]//td[@data-stat='tov_per_g']/text()\").extract(),\n",
    "        \"PF\": Selector(text=player_html).xpath(\"//table[@id='per_game']/tfoot/tr[1]//td[@data-stat='pf_per_g']/text()\").extract(),\n",
    "        \"PTS\": Selector(text=player_html).xpath(\"//table[@id='per_game']/tfoot/tr[1]//td[@data-stat='pts_per_g']/text()\").extract() \n",
    "    })\n",
    "    \n",
    "    time.sleep(2*np.random.rand())\n",
    "    \n",
    "    # put in random alert ot make sure program is still functioning correctly\n",
    "    chance = (random.randint(1,100))    \n",
    "    if chance <= 5:\n",
    "        print (\"5% chance of getting this-- still running\")\n",
    "\n",
    "print datetime.datetime.now().time()\n",
    "browser.quit()"
   ]
  },
  {
   "cell_type": "code",
   "execution_count": null,
   "metadata": {
    "collapsed": true
   },
   "outputs": [],
   "source": [
    "# save uncleaned dataframe just in case-- this will make it so I wont have to run scrape program\n",
    "# again unnecessarily\n",
    "df = pd.DataFrame(player_stats)\n",
    "df.shape\n",
    "\n",
    "df.to_csv(path_or_buf= 'pro_players_v1.csv')"
   ]
  },
  {
   "cell_type": "code",
   "execution_count": null,
   "metadata": {
    "collapsed": true
   },
   "outputs": [],
   "source": [
    "# start work to clean up player stats\n",
    "v1 = player_stats[:]"
   ]
  },
  {
   "cell_type": "code",
   "execution_count": null,
   "metadata": {
    "collapsed": true
   },
   "outputs": [],
   "source": [
    "# function to clean up data\n",
    "for index, row in enumerate(v1):\n",
    "    \n",
    "    for key, value in row.items():\n",
    "        \n",
    "        if len(value) < 1:\n",
    "            v1[index][key] = \"\"\n",
    "        elif type(value) == list:\n",
    "            v1[index][key] = value[0]\n",
    "        else:\n",
    "            v1[index][key] = value"
   ]
  },
  {
   "cell_type": "code",
   "execution_count": null,
   "metadata": {
    "collapsed": true
   },
   "outputs": [],
   "source": [
    "# cleaner dataframe now\n",
    "df2 = pd.DataFrame(v1)\n",
    "df2.shape\n",
    "\n",
    "df2.to_csv(path_or_buf= 'pro_players_v2.csv')"
   ]
  },
  {
   "cell_type": "markdown",
   "metadata": {},
   "source": [
    "### Part 1 Step 3: Grap advanced stats on each player.  \n",
    "#### Advanced stats reside on same pages as regular stats, but have different xpaths"
   ]
  },
  {
   "cell_type": "code",
   "execution_count": null,
   "metadata": {
    "collapsed": true
   },
   "outputs": [],
   "source": [
    "browser = webdriver.Chrome(executable_path = chromedriver, chrome_options = chop)\n",
    "\n",
    "player_stats_advanced = []\n",
    "\n",
    "print datetime.datetime.now().time()\n",
    "\n",
    "for l in player_links:\n",
    "    \n",
    "    player_url = \"http://www.basketball-reference.com%s\" % l\n",
    "    \n",
    "    # get the html of the player page\n",
    "    browser.get(player_url)\n",
    "    \n",
    "    # pull the page source so I can access the data via xpath selector\n",
    "    player_html = browser.page_source\n",
    "    \n",
    "    # grab the name of the player\n",
    "    name = Selector(text=player_html).xpath(\"//h1/text()\").extract()\n",
    "    \n",
    "    player_stats_advanced.append({\n",
    "        \"Name\": name[0],\n",
    "        \"PER\": Selector(text=player_html).xpath(\"//table[@id='advanced']/tfoot/tr[1]//td[@data-stat='per']/text()\").extract(),\n",
    "        \"TS%\": Selector(text=player_html).xpath(\"//table[@id='advanced']/tfoot/tr[1]//td[@data-stat='ts_pct']/text()\").extract(),\n",
    "        \"3PAr\": Selector(text=player_html).xpath(\"//table[@id='advanced']/tfoot/tr[1]//td[@data-stat='fg3a_per_fga_pct']/text()\").extract(),\n",
    "        \"FTr\": Selector(text=player_html).xpath(\"//table[@id='advanced']/tfoot/tr[1]//td[@data-stat='fta_per_fga_pct']/text()\").extract(),\n",
    "        \"ORB%\": Selector(text=player_html).xpath(\"//table[@id='advanced']/tfoot/tr[1]//td[@data-stat='orb_pct']/text()\").extract(),\n",
    "        \"DRB%\": Selector(text=player_html).xpath(\"//table[@id='advanced']/tfoot/tr[1]//td[@data-stat='drb_pct']/text()\").extract(),\n",
    "        \"TRB%\": Selector(text=player_html).xpath(\"//table[@id='advanced']/tfoot/tr[1]//td[@data-stat='trb_pct']/text()\").extract(),\n",
    "        \"AST%\": Selector(text=player_html).xpath(\"//table[@id='advanced']/tfoot/tr[1]//td[@data-stat='ast_pct']/text()\").extract(),\n",
    "        \"STL%\": Selector(text=player_html).xpath(\"//table[@id='advanced']/tfoot/tr[1]//td[@data-stat='stl_pct']/text()\").extract(),\n",
    "        \"BLK%\": Selector(text=player_html).xpath(\"//table[@id='advanced']/tfoot/tr[1]//td[@data-stat='blk_pct']/text()\").extract(),\n",
    "        \"TOV%\": Selector(text=player_html).xpath(\"//table[@id='advanced']/tfoot/tr[1]//td[@data-stat='tov_pct']/text()\").extract(),\n",
    "        \"USG%\": Selector(text=player_html).xpath(\"//table[@id='advanced']/tfoot/tr[1]//td[@data-stat='usg_pct']/text()\").extract(),\n",
    "        \"OWS\": Selector(text=player_html).xpath(\"//table[@id='advanced']/tfoot/tr[1]//td[@data-stat='ows']/text()\").extract(),\n",
    "        \"DWS\": Selector(text=player_html).xpath(\"//table[@id='advanced']/tfoot/tr[1]//td[@data-stat='dws']/text()\").extract(),\n",
    "        \"WS\": Selector(text=player_html).xpath(\"//table[@id='advanced']/tfoot/tr[1]//td[@data-stat='ws']/text()\").extract(),\n",
    "        \"WS/48\": Selector(text=player_html).xpath(\"//table[@id='advanced']/tfoot/tr[1]//td[@data-stat='ws_per_48']/text()\").extract(),\n",
    "        \"OBPM\": Selector(text=player_html).xpath(\"//table[@id='advanced']/tfoot/tr[1]//td[@data-stat='obpm']/text()\").extract(),\n",
    "        \"DBPM\": Selector(text=player_html).xpath(\"//table[@id='advanced']/tfoot/tr[1]//td[@data-stat='dbpm']/text()\").extract(),\n",
    "        \"BPM\": Selector(text=player_html).xpath(\"//table[@id='advanced']/tfoot/tr[1]//td[@data-stat='bpm']/text()\").extract(),\n",
    "        \"VORP\": Selector(text=player_html).xpath(\"//table[@id='advanced']/tfoot/tr[1]//td[@data-stat='vorp']/text()\").extract()\n",
    "        \n",
    "    })\n",
    "    \n",
    "    chance = (random.randint(1,100))    \n",
    "    if chance <= 2:\n",
    "        print (\"2% chance of getting this-- still running\")\n",
    "\n",
    "print datetime.datetime.now().time()\n",
    "browser.quit()\n",
    "\n",
    "for index, row in enumerate(player_stats_advanced):\n",
    "    \n",
    "    for key, value in row.items():       \n",
    "        if len(value) < 1:\n",
    "            player_stats_advanced[index][key] = \"\"\n",
    "        elif type(value) == list:\n",
    "            player_stats_advanced[index][key] = value[0]\n",
    "        else:\n",
    "            player_stats_advanced[index][key] = value\n",
    "            \n",
    "df10 = pd.DataFrame(player_stats_advanced)\n",
    "df10.to_csv(path_or_buf= 'pro_players_v2_advanced.csv')"
   ]
  },
  {
   "cell_type": "markdown",
   "metadata": {},
   "source": [
    "#### Attempt to merge both DataFrames for NBA 'normal' stats and accompanying advanced stats"
   ]
  },
  {
   "cell_type": "code",
   "execution_count": null,
   "metadata": {
    "collapsed": true
   },
   "outputs": [],
   "source": [
    "result = pd.merge(df2, df10, how='inner', on='Name')\n",
    "result.shape"
   ]
  },
  {
   "cell_type": "code",
   "execution_count": null,
   "metadata": {
    "collapsed": true
   },
   "outputs": [],
   "source": [
    "result.to_csv(path_or_buf= 'players_combined.csv')"
   ]
  },
  {
   "cell_type": "markdown",
   "metadata": {},
   "source": [
    "### Part 1 Step Three: Grap college stats on each player."
   ]
  },
  {
   "cell_type": "code",
   "execution_count": null,
   "metadata": {
    "collapsed": true
   },
   "outputs": [],
   "source": [
    "browser = webdriver.Chrome(executable_path = chromedriver, chrome_options = chop)\n",
    "\n",
    "college_stats = []\n",
    "\n",
    "print datetime.datetime.now().time()\n",
    "\n",
    "for l in player_links:\n",
    "    \n",
    "    player_url = \"http://www.basketball-reference.com%s\" % l\n",
    "    \n",
    "    # get the html of the player page\n",
    "    browser.get(player_url)\n",
    "    \n",
    "    # pull the page source so I can access the data via xpath selector\n",
    "    player_html = browser.page_source\n",
    "    \n",
    "    # grab the name of the player\n",
    "    name = Selector(text=player_html).xpath(\"//h1/text()\").extract()\n",
    "    \n",
    "    # check if 'college' appears on their page\n",
    "    college = Selector(text=player_html).xpath(\"//div[@id='all_all_college_stats']/div[@class='section_heading']//h2/text()\").extract()\n",
    "    if not college:\n",
    "        pass\n",
    "    else:\n",
    "        college_stats.append({\n",
    "        \"Name\": name[0],\n",
    "        \"G\": Selector(text=player_html).xpath(\"//table[@id='all_college_stats']/tfoot/tr[1]//td[@data-stat='g']/text()\").extract(),\n",
    "        \"MP\": Selector(text=player_html).xpath(\"//table[@id='all_college_stats']/tfoot/tr[1]//td[@data-stat='mp']/text()\").extract(),\n",
    "        \"FG\": Selector(text=player_html).xpath(\"//table[@id='all_college_stats']/tfoot/tr[1]//td[@data-stat='fg']/text()\").extract(),\n",
    "        \"FGA\": Selector(text=player_html).xpath(\"//table[@id='all_college_stats']/tfoot/tr[1]//td[@data-stat='fga']/text()\").extract(),\n",
    "        \"3P\": Selector(text=player_html).xpath(\"//table[@id='all_college_stats']/tfoot/tr[1]//td[@data-stat='fg3']/text()\").extract(),\n",
    "        \"3PA\": Selector(text=player_html).xpath(\"//table[@id='all_college_stats']/tfoot/tr[1]//td[@data-stat='fg3a']/text()\").extract(),\n",
    "        \"FT\": Selector(text=player_html).xpath(\"//table[@id='all_college_stats']/tfoot/tr[1]//td[@data-stat='ft']/text()\").extract(),\n",
    "        \"FTA\": Selector(text=player_html).xpath(\"//table[@id='all_college_stats']/tfoot/tr[1]//td[@data-stat='fta']/text()\").extract(),\n",
    "        \"ORB\": Selector(text=player_html).xpath(\"//table[@id='all_college_stats']/tfoot/tr[1]//td[@data-stat='orb']/text()\").extract(),\n",
    "        \"TRB\": Selector(text=player_html).xpath(\"//table[@id='all_college_stats']/tfoot/tr[1]//td[@data-stat='trb']/text()\").extract(),\n",
    "        \"AST\": Selector(text=player_html).xpath(\"//table[@id='all_college_stats']/tfoot/tr[1]//td[@data-stat='ast']/text()\").extract(),\n",
    "        \"STL\": Selector(text=player_html).xpath(\"//table[@id='all_college_stats']/tfoot/tr[1]//td[@data-stat='stl']/text()\").extract(),\n",
    "        \"BLK\": Selector(text=player_html).xpath(\"//table[@id='all_college_stats']/tfoot/tr[1]//td[@data-stat='blk']/text()\").extract(),\n",
    "        \"TOV\": Selector(text=player_html).xpath(\"//table[@id='all_college_stats']/tfoot/tr[1]//td[@data-stat='tov']/text()\").extract(),\n",
    "        \"PF\": Selector(text=player_html).xpath(\"//table[@id='all_college_stats']/tfoot/tr[1]//td[@data-stat='pf']/text()\").extract(),\n",
    "        \"PTS\": Selector(text=player_html).xpath(\"//table[@id='all_college_stats']/tfoot/tr[1]//td[@data-stat='pts']/text()\").extract(),\n",
    "        \"FG%\": Selector(text=player_html).xpath(\"//table[@id='all_college_stats']/tfoot/tr[1]//td[@data-stat='fg_pct']/text()\").extract(),\n",
    "        \"3P%\": Selector(text=player_html).xpath(\"//table[@id='all_college_stats']/tfoot/tr[1]//td[@data-stat='fg3_pct']/text()\").extract(),\n",
    "        \"FT%\": Selector(text=player_html).xpath(\"//table[@id='all_college_stats']/tfoot/tr[1]//td[@data-stat='ft_pct']/text()\").extract(),\n",
    "        \"MP_per_g\": Selector(text=player_html).xpath(\"//table[@id='all_college_stats']/tfoot/tr[1]//td[@data-stat='mp_per_g']/text()\").extract(),\n",
    "        \"PTS_per_g\": Selector(text=player_html).xpath(\"//table[@id='all_college_stats']/tfoot/tr[1]//td[@data-stat='pts_per_g']/text()\").extract(),\n",
    "        \"TRB_per_g\": Selector(text=player_html).xpath(\"//table[@id='all_college_stats']/tfoot/tr[1]//td[@data-stat='trb_per_g']/text()\").extract(),\n",
    "        \"AST_per_g\": Selector(text=player_html).xpath(\"//table[@id='all_college_stats']/tfoot/tr[1]//td[@data-stat='ast_per_g']/text()\").extract()\n",
    "        \n",
    "    })\n",
    "        \n",
    "print datetime.datetime.now().time()\n",
    "browser.quit()   \n",
    "\n",
    "for index, row in enumerate(college_stats):\n",
    "    \n",
    "    for key, value in row.items():       \n",
    "        if len(value) < 1:\n",
    "            college_stats[index][key] = \"\"\n",
    "        elif type(value) == list:\n",
    "            college_stats[index][key] = value[0]\n",
    "        else:\n",
    "            college_stats[index][key] = value\n",
    "            \n",
    "col = pd.DataFrame(college_stats)\n",
    "col.to_csv(path_or_buf= 'college_stats.csv')"
   ]
  },
  {
   "cell_type": "code",
   "execution_count": null,
   "metadata": {
    "collapsed": true
   },
   "outputs": [],
   "source": [
    "# cleanup the list\n",
    "or index, row in enumerate(college_stats):\n",
    "    \n",
    "    for key, value in row.items():       \n",
    "        if len(value) < 1:\n",
    "            college_stats[index][key] = \"\"\n",
    "        elif type(value) == list:\n",
    "            college_stats[index][key] = value[0]\n",
    "        else:\n",
    "            college_stats[index][key] = value"
   ]
  },
  {
   "cell_type": "code",
   "execution_count": null,
   "metadata": {
    "collapsed": true
   },
   "outputs": [],
   "source": [
    "col = pd.DataFrame(college_stats)\n",
    "col =col.add_prefix('[C]')\n",
    "col = col.rename(columns={'[C]Name': 'Name'})"
   ]
  },
  {
   "cell_type": "markdown",
   "metadata": {},
   "source": [
    "### Merge Pro Stats (which now include 'normal' and advanced statistics) with college stats"
   ]
  },
  {
   "cell_type": "code",
   "execution_count": null,
   "metadata": {
    "collapsed": true
   },
   "outputs": [],
   "source": [
    "final = pd.merge(results, col, on='Name', how='left')"
   ]
  },
  {
   "cell_type": "code",
   "execution_count": null,
   "metadata": {
    "collapsed": true
   },
   "outputs": [],
   "source": []
  },
  {
   "cell_type": "markdown",
   "metadata": {},
   "source": [
    "## End of copying the other Jupyter notebook into this one"
   ]
  },
  {
   "cell_type": "code",
   "execution_count": null,
   "metadata": {
    "collapsed": true
   },
   "outputs": [],
   "source": []
  },
  {
   "cell_type": "markdown",
   "metadata": {},
   "source": [
    "#### Reading in data that was collected earler"
   ]
  },
  {
   "cell_type": "code",
   "execution_count": 4,
   "metadata": {
    "collapsed": true
   },
   "outputs": [],
   "source": [
    "nba = pd.read_csv('players_combined.csv')"
   ]
  },
  {
   "cell_type": "code",
   "execution_count": 5,
   "metadata": {
    "collapsed": true
   },
   "outputs": [],
   "source": [
    "college = pd.read_csv('college_stats.csv')"
   ]
  },
  {
   "cell_type": "markdown",
   "metadata": {},
   "source": [
    "#### Add prefix on college stats to differentiate after merge"
   ]
  },
  {
   "cell_type": "code",
   "execution_count": 6,
   "metadata": {
    "collapsed": false
   },
   "outputs": [],
   "source": [
    "college.add_prefix('[C]')\n",
    "college = college.rename(columns={'[C]Name': 'Name'})"
   ]
  },
  {
   "cell_type": "markdown",
   "metadata": {},
   "source": [
    "### Inner join two files to get less missing data"
   ]
  },
  {
   "cell_type": "code",
   "execution_count": 7,
   "metadata": {
    "collapsed": false
   },
   "outputs": [
    {
     "name": "stdout",
     "output_type": "stream",
     "text": [
      "(4551, 48)\n",
      "(2622, 25)\n"
     ]
    }
   ],
   "source": [
    "print nba.shape\n",
    "print college.shape"
   ]
  },
  {
   "cell_type": "code",
   "execution_count": 8,
   "metadata": {
    "collapsed": false
   },
   "outputs": [],
   "source": [
    "df_inner = pd.merge(nba, college, on='Name', how='inner')"
   ]
  },
  {
   "cell_type": "code",
   "execution_count": 9,
   "metadata": {
    "collapsed": false
   },
   "outputs": [
    {
     "data": {
      "text/plain": [
       "(2834, 72)"
      ]
     },
     "execution_count": 9,
     "metadata": {},
     "output_type": "execute_result"
    }
   ],
   "source": [
    "df_inner.shape"
   ]
  },
  {
   "cell_type": "code",
   "execution_count": 10,
   "metadata": {
    "collapsed": true
   },
   "outputs": [],
   "source": [
    "df_inner.to_csv(path_or_buf='df_inner.csv')"
   ]
  },
  {
   "cell_type": "code",
   "execution_count": 11,
   "metadata": {
    "collapsed": false
   },
   "outputs": [
    {
     "data": {
      "text/plain": [
       "141.70000000000002"
      ]
     },
     "execution_count": 11,
     "metadata": {},
     "output_type": "execute_result"
    }
   ],
   "source": [
    "(len(df_inner)*0.05)"
   ]
  },
  {
   "cell_type": "code",
   "execution_count": 12,
   "metadata": {
    "collapsed": false
   },
   "outputs": [
    {
     "data": {
      "text/html": [
       "<div>\n",
       "<table border=\"1\" class=\"dataframe\">\n",
       "  <thead>\n",
       "    <tr style=\"text-align: right;\">\n",
       "      <th></th>\n",
       "      <th>PTS_x</th>\n",
       "      <th>PTS_per_g</th>\n",
       "    </tr>\n",
       "  </thead>\n",
       "  <tbody>\n",
       "    <tr>\n",
       "      <th>PTS_x</th>\n",
       "      <td>1.000000</td>\n",
       "      <td>0.454185</td>\n",
       "    </tr>\n",
       "    <tr>\n",
       "      <th>PTS_per_g</th>\n",
       "      <td>0.454185</td>\n",
       "      <td>1.000000</td>\n",
       "    </tr>\n",
       "  </tbody>\n",
       "</table>\n",
       "</div>"
      ],
      "text/plain": [
       "              PTS_x  PTS_per_g\n",
       "PTS_x      1.000000   0.454185\n",
       "PTS_per_g  0.454185   1.000000"
      ]
     },
     "execution_count": 12,
     "metadata": {},
     "output_type": "execute_result"
    }
   ],
   "source": [
    "pts = df_inner[['PTS_x','PTS_per_g']]\n",
    "pts.corr()"
   ]
  },
  {
   "cell_type": "markdown",
   "metadata": {},
   "source": [
    "## Fill missing values of column if less than 40% of values are missing.  Replace with average value of that column.  I need to take this measure to run models "
   ]
  },
  {
   "cell_type": "code",
   "execution_count": 13,
   "metadata": {
    "collapsed": false
   },
   "outputs": [],
   "source": [
    "for col in df_inner.columns:\n",
    "    nulnum = df_inner[col].isnull().sum() \n",
    "    if 0 < nulnum <= (len(df_inner)*.40):\n",
    "        df_inner[col].fillna(df_inner[col].mean(), inplace=True)\n",
    "    "
   ]
  },
  {
   "cell_type": "code",
   "execution_count": 14,
   "metadata": {
    "collapsed": false
   },
   "outputs": [
    {
     "data": {
      "text/plain": [
       "(2834, 72)"
      ]
     },
     "execution_count": 14,
     "metadata": {},
     "output_type": "execute_result"
    }
   ],
   "source": [
    "df_inner.shape"
   ]
  },
  {
   "cell_type": "code",
   "execution_count": 15,
   "metadata": {
    "collapsed": false
   },
   "outputs": [
    {
     "name": "stdout",
     "output_type": "stream",
     "text": [
      "stat ORB_y number of empty 2402\n",
      "stat PF_y number of empty 1270\n",
      "stat TOV_y number of empty 1162\n"
     ]
    }
   ],
   "source": [
    "for col in df_inner.columns:\n",
    "    nulnum = df_inner[col].isnull().sum()\n",
    "    if nulnum > 0:\n",
    "        print \"stat\", col, \"number of empty\", nulnum"
   ]
  },
  {
   "cell_type": "markdown",
   "metadata": {},
   "source": [
    "### Dropping the rest of the columns that did not make cut in terms of percentage of missing data"
   ]
  },
  {
   "cell_type": "code",
   "execution_count": 16,
   "metadata": {
    "collapsed": false
   },
   "outputs": [],
   "source": [
    "data = df_inner.drop(['ORB_y', 'PF_y', 'TOV_y', 'Name', 'Lg'], axis=1)"
   ]
  },
  {
   "cell_type": "code",
   "execution_count": 17,
   "metadata": {
    "collapsed": false
   },
   "outputs": [],
   "source": [
    "y = data['PER']"
   ]
  },
  {
   "cell_type": "code",
   "execution_count": 18,
   "metadata": {
    "collapsed": false
   },
   "outputs": [],
   "source": [
    "X = data.drop('PER', axis=1)"
   ]
  },
  {
   "cell_type": "markdown",
   "metadata": {},
   "source": [
    "### Left join two files to get larger amount of rows, but more missing data"
   ]
  },
  {
   "cell_type": "code",
   "execution_count": 45,
   "metadata": {
    "collapsed": true
   },
   "outputs": [],
   "source": [
    "#df_left = pd.merge(nba, college, on='Name', how='left')"
   ]
  },
  {
   "cell_type": "code",
   "execution_count": 46,
   "metadata": {
    "collapsed": false
   },
   "outputs": [
    {
     "data": {
      "text/plain": [
       "(4671, 72)"
      ]
     },
     "execution_count": 46,
     "metadata": {},
     "output_type": "execute_result"
    }
   ],
   "source": [
    "#df_left.shape"
   ]
  },
  {
   "cell_type": "code",
   "execution_count": 23,
   "metadata": {
    "collapsed": true
   },
   "outputs": [],
   "source": [
    "#df_left.to_csv(path_or_buf='df_left.csv')"
   ]
  },
  {
   "cell_type": "code",
   "execution_count": 50,
   "metadata": {
    "collapsed": true
   },
   "outputs": [],
   "source": [
    "#df_left = df_left.dropna(axis= 0, how='all')"
   ]
  },
  {
   "cell_type": "code",
   "execution_count": 51,
   "metadata": {
    "collapsed": false
   },
   "outputs": [
    {
     "data": {
      "text/plain": [
       "(4671, 72)"
      ]
     },
     "execution_count": 51,
     "metadata": {},
     "output_type": "execute_result"
    }
   ],
   "source": [
    "#df_left.shape"
   ]
  },
  {
   "cell_type": "markdown",
   "metadata": {},
   "source": [
    "# Part 2: EDA- Initial Exploration of the Data "
   ]
  },
  {
   "cell_type": "markdown",
   "metadata": {},
   "source": [
    "#### using the DF with less missing data"
   ]
  },
  {
   "cell_type": "code",
   "execution_count": 77,
   "metadata": {
    "collapsed": false,
    "scrolled": true
   },
   "outputs": [
    {
     "data": {
      "image/png": "[encoded data removed]",
      "text/plain": [
       "<matplotlib.figure.Figure at 0x11a351c10>"
      ]
     },
     "metadata": {},
     "output_type": "display_data"
    }
   ],
   "source": [
    "plt.hist(data['PER'], range(-10,30))\n",
    "plt.title(\"NBA PER Distribution\")\n",
    "plt.xlabel(\"Value\")\n",
    "plt.ylabel(\"Frequency\")\n",
    "\n",
    "fig = plt.gcf()"
   ]
  },
  {
   "cell_type": "markdown",
   "metadata": {},
   "source": [
    "### Basic Scatter Plots looking at basic correlations between (1) College PPG and NBA PPG and (2) College PPG and NBA PER"
   ]
  },
  {
   "cell_type": "code",
   "execution_count": 78,
   "metadata": {
    "collapsed": false
   },
   "outputs": [
    {
     "data": {
      "image/png": "[encoded data removed]",
      "text/plain": [
       "<matplotlib.figure.Figure at 0x11a351990>"
      ]
     },
     "metadata": {},
     "output_type": "display_data"
    }
   ],
   "source": [
    "corr_1 = sns.lmplot(x=\"PTS_per_g\", y=\"PTS_x\", data=data)"
   ]
  },
  {
   "cell_type": "code",
   "execution_count": 79,
   "metadata": {
    "collapsed": false
   },
   "outputs": [
    {
     "data": {
      "image/png": "[encoded data removed]",
      "text/plain": [
       "<matplotlib.figure.Figure at 0x11eec4050>"
      ]
     },
     "metadata": {},
     "output_type": "display_data"
    }
   ],
   "source": [
    "corr_2 = sns.lmplot(x=\"PTS_per_g\", y=\"PER\", data=data)"
   ]
  },
  {
   "cell_type": "code",
   "execution_count": 13,
   "metadata": {
    "collapsed": false
   },
   "outputs": [],
   "source": [
    "### Inital Regression"
   ]
  },
  {
   "cell_type": "code",
   "execution_count": 98,
   "metadata": {
    "collapsed": false
   },
   "outputs": [
    {
     "name": "stdout",
     "output_type": "stream",
     "text": [
      "                            OLS Regression Results                            \n",
      "==============================================================================\n",
      "Dep. Variable:                    PER   R-squared:                       0.995\n",
      "Model:                            OLS   Adj. R-squared:                  0.994\n",
      "Method:                 Least Squares   F-statistic:                     7655.\n",
      "Date:                Sun, 16 Apr 2017   Prob (F-statistic):               0.00\n",
      "Time:                        15:53:43   Log-Likelihood:                -3963.5\n",
      "No. Observations:                2834   AIC:                             8059.\n",
      "Df Residuals:                    2768   BIC:                             8452.\n",
      "Df Model:                          66                                         \n",
      "Covariance Type:            nonrobust                                         \n",
      "================================================================================\n",
      "                   coef    std err          t      P>|t|      [95.0% Conf. Int.]\n",
      "--------------------------------------------------------------------------------\n",
      "Unnamed: 0_x    -0.0015      0.001     -2.291      0.022        -0.003    -0.000\n",
      "2P              -0.3906      0.470     -0.831      0.406        -1.312     0.531\n",
      "2P%             -0.6404      0.742     -0.863      0.388        -2.095     0.814\n",
      "2PA              0.3934      0.229      1.716      0.086        -0.056     0.843\n",
      "3P_x             0.9125      0.577      1.581      0.114        -0.219     2.044\n",
      "3P%_x            0.0753      0.170      0.443      0.658        -0.258     0.409\n",
      "3PA_x           -0.1611      0.244     -0.661      0.508        -0.639     0.317\n",
      "AST_x           -0.0417      0.042     -1.003      0.316        -0.123     0.040\n",
      "BLK_x            0.7661      0.101      7.582      0.000         0.568     0.964\n",
      "DRB             -0.3705      0.055     -6.719      0.000        -0.479    -0.262\n",
      "FG_x             0.8853      0.638      1.387      0.166        -0.366     2.137\n",
      "FG%_x            8.8340      2.231      3.959      0.000         4.459    13.209\n",
      "FGA_x           -0.0091      0.238     -0.038      0.970        -0.476     0.458\n",
      "FT_x             0.6122      0.289      2.118      0.034         0.045     1.179\n",
      "FT%_x            0.3900      0.222      1.758      0.079        -0.045     0.825\n",
      "FTA_x            0.1556      0.124      1.258      0.209        -0.087     0.398\n",
      "G_x             -0.0003      0.000     -1.897      0.058        -0.001  1.04e-05\n",
      "GS              -0.0004      0.000     -1.922      0.055        -0.001  7.18e-06\n",
      "MP_x             0.1163      0.012      9.818      0.000         0.093     0.139\n",
      "ORB_x           -0.2912      0.094     -3.098      0.002        -0.476    -0.107\n",
      "PF_x            -1.5724      0.049    -32.229      0.000        -1.668    -1.477\n",
      "PTS_x           -0.6636      0.259     -2.558      0.011        -1.172    -0.155\n",
      "STL_x            0.0645      0.127      0.509      0.611        -0.184     0.313\n",
      "TOV_x            0.0357      0.098      0.365      0.716        -0.156     0.228\n",
      "TRB_x            0.4216      0.037     11.427      0.000         0.349     0.494\n",
      "eFG%            -4.9706      1.864     -2.666      0.008        -8.626    -1.315\n",
      "3PAr            -2.3233      0.327     -7.105      0.000        -2.964    -1.682\n",
      "AST%             0.0364      0.005      7.221      0.000         0.027     0.046\n",
      "BLK%             0.5429      0.026     21.249      0.000         0.493     0.593\n",
      "BPM             -0.1702      0.378     -0.450      0.652        -0.911     0.571\n",
      "DBPM            -0.2539      0.379     -0.671      0.502        -0.996     0.488\n",
      "DRB%             0.0827      0.031      2.661      0.008         0.022     0.144\n",
      "DWS             -0.3461      0.387     -0.893      0.372        -1.106     0.413\n",
      "FTr             -0.7009      0.130     -5.377      0.000        -0.956    -0.445\n",
      "OBPM             1.0148      0.379      2.680      0.007         0.272     1.757\n",
      "ORB%            -0.0389      0.032     -1.204      0.229        -0.102     0.024\n",
      "OWS             -0.3388      0.387     -0.875      0.382        -1.098     0.420\n",
      "STL%             0.8618      0.032     26.535      0.000         0.798     0.925\n",
      "TOV%             0.0301      0.005      5.866      0.000         0.020     0.040\n",
      "TRB%             0.1711      0.061      2.806      0.005         0.052     0.291\n",
      "TS%              3.1304      0.697      4.494      0.000         1.765     4.496\n",
      "USG%             0.2265      0.007     31.214      0.000         0.212     0.241\n",
      "VORP            -0.0280      0.006     -5.019      0.000        -0.039    -0.017\n",
      "WS               0.3460      0.387      0.894      0.372        -0.413     1.105\n",
      "WS/48           22.7675      0.738     30.858      0.000        21.321    24.214\n",
      "Unnamed: 0_y     0.0026      0.001      2.313      0.021         0.000     0.005\n",
      "3P_y            -0.0026      0.002     -1.223      0.221        -0.007     0.002\n",
      "3P%_y           -0.2539      0.197     -1.289      0.198        -0.640     0.132\n",
      "3PA_y            0.0006      0.001      0.771      0.441        -0.001     0.002\n",
      "AST_y           -0.0003      0.000     -0.614      0.540        -0.001     0.001\n",
      "AST_per_g        0.0205      0.044      0.467      0.641        -0.066     0.107\n",
      "BLK_y            0.0009      0.000      2.485      0.013         0.000     0.002\n",
      "FG_y            -0.0026      0.001     -2.703      0.007        -0.004    -0.001\n",
      "FG%_y            0.0301      0.552      0.055      0.956        -1.052     1.112\n",
      "FGA_y           -0.0002      0.000     -0.683      0.495        -0.001     0.000\n",
      "FT_y             0.0002      0.001      0.210      0.834        -0.002     0.002\n",
      "FT%_y           -0.0031      0.392     -0.008      0.994        -0.772     0.766\n",
      "FTA_y           -0.0011      0.001     -1.406      0.160        -0.003     0.000\n",
      "G_y              0.0001      0.002      0.050      0.960        -0.004     0.004\n",
      "MP_y          4.118e-05   3.13e-05      1.314      0.189     -2.03e-05     0.000\n",
      "MP_per_g         0.0096      0.006      1.652      0.099        -0.002     0.021\n",
      "PTS_y            0.0013      0.000      3.047      0.002         0.000     0.002\n",
      "PTS_per_g       -0.0048      0.017     -0.292      0.770        -0.037     0.028\n",
      "STL_y            0.0012      0.001      2.168      0.030         0.000     0.002\n",
      "TRB_y         9.794e-08      0.000      0.000      1.000        -0.001     0.001\n",
      "TRB_per_g       -0.0225      0.027     -0.843      0.399        -0.075     0.030\n",
      "==============================================================================\n",
      "Omnibus:                      794.953   Durbin-Watson:                   1.920\n",
      "Prob(Omnibus):                  0.000   Jarque-Bera (JB):            83215.822\n",
      "Skew:                          -0.128   Prob(JB):                         0.00\n",
      "Kurtosis:                      29.545   Cond. No.                     6.80e+05\n",
      "==============================================================================\n",
      "\n",
      "Warnings:\n",
      "[1] Standard Errors assume that the covariance matrix of the errors is correctly specified.\n",
      "[2] The condition number is large, 6.8e+05. This might indicate that there are\n",
      "strong multicollinearity or other numerical problems.\n"
     ]
    }
   ],
   "source": [
    "model = sm.OLS(y, X, missing='drop')\n",
    "results = model.fit()\n",
    "print(results.summary())"
   ]
  },
  {
   "cell_type": "markdown",
   "metadata": {
    "collapsed": false
   },
   "source": [
    "### Does SK Learn yield different results?"
   ]
  },
  {
   "cell_type": "code",
   "execution_count": 99,
   "metadata": {
    "collapsed": false
   },
   "outputs": [
    {
     "name": "stdout",
     "output_type": "stream",
     "text": [
      "0.960009940387 0.97485943158\n"
     ]
    }
   ],
   "source": [
    "lm = linear_model.LinearRegression(normalize=True).fit(X, y)\n",
    "print metrics.mean_squared_error(y, lm.predict(X)), lm.score(X, y)\n"
   ]
  },
  {
   "cell_type": "markdown",
   "metadata": {},
   "source": [
    "### What about different types of Regressions?"
   ]
  },
  {
   "cell_type": "code",
   "execution_count": 100,
   "metadata": {
    "collapsed": false
   },
   "outputs": [
    {
     "name": "stdout",
     "output_type": "stream",
     "text": [
      "~~~ OLS ~~~\n",
      "OLS MSE:  0.960009940387\n",
      "OLS R2: 0.97485943158\n",
      "~~~ Lasso ~~~\n",
      "Lasso MSE:  3.75674488186\n",
      "Lasso R2: 0.901619037716\n",
      "~~~ Ridge ~~~\n",
      "Ridge MSE:  1.00495059842\n",
      "Ridge R2: 0.973682533675\n"
     ]
    },
    {
     "name": "stderr",
     "output_type": "stream",
     "text": [
      "/Users/Carter/anaconda/lib/python2.7/site-packages/sklearn/linear_model/coordinate_descent.py:484: ConvergenceWarning: Objective did not converge. You might want to increase the number of iterations. Fitting data with very small alpha may cause precision problems.\n",
      "  ConvergenceWarning)\n"
     ]
    }
   ],
   "source": [
    "lm = linear_model.LinearRegression().fit(X, y)\n",
    "print \"~~~ OLS ~~~\"\n",
    "print 'OLS MSE: ', metrics.mean_squared_error(y, lm.predict(X))\n",
    "print 'OLS R2:', lm.score(X, y)\n",
    "\n",
    "lm = linear_model.Lasso().fit(X, y)\n",
    "print \"~~~ Lasso ~~~\"\n",
    "print 'Lasso MSE: ', metrics.mean_squared_error(y, lm.predict(X))\n",
    "print 'Lasso R2:', lm.score(X, y)\n",
    "\n",
    "lm = linear_model.Ridge().fit(X, y)\n",
    "print \"~~~ Ridge ~~~\"\n",
    "print 'Ridge MSE: ', metrics.mean_squared_error(y, lm.predict(X))\n",
    "print 'Ridge R2:', lm.score(X, y)"
   ]
  },
  {
   "cell_type": "markdown",
   "metadata": {},
   "source": [
    "### Grid Search makes finding correct type of regression easy"
   ]
  },
  {
   "cell_type": "code",
   "execution_count": 105,
   "metadata": {
    "collapsed": false
   },
   "outputs": [
    {
     "name": "stderr",
     "output_type": "stream",
     "text": [
      "/Users/Carter/anaconda/lib/python2.7/site-packages/sklearn/metrics/scorer.py:90: DeprecationWarning: Scoring method mean_squared_error was renamed to neg_mean_squared_error in version 0.18 and will be removed in 0.20.\n",
      "  sample_weight=sample_weight)\n",
      "/Users/Carter/anaconda/lib/python2.7/site-packages/sklearn/metrics/scorer.py:90: DeprecationWarning: Scoring method mean_squared_error was renamed to neg_mean_squared_error in version 0.18 and will be removed in 0.20.\n",
      "  sample_weight=sample_weight)\n",
      "/Users/Carter/anaconda/lib/python2.7/site-packages/sklearn/metrics/scorer.py:90: DeprecationWarning: Scoring method mean_squared_error was renamed to neg_mean_squared_error in version 0.18 and will be removed in 0.20.\n",
      "  sample_weight=sample_weight)\n",
      "/Users/Carter/anaconda/lib/python2.7/site-packages/sklearn/metrics/scorer.py:90: DeprecationWarning: Scoring method mean_squared_error was renamed to neg_mean_squared_error in version 0.18 and will be removed in 0.20.\n",
      "  sample_weight=sample_weight)\n",
      "/Users/Carter/anaconda/lib/python2.7/site-packages/sklearn/metrics/scorer.py:90: DeprecationWarning: Scoring method mean_squared_error was renamed to neg_mean_squared_error in version 0.18 and will be removed in 0.20.\n",
      "  sample_weight=sample_weight)\n",
      "/Users/Carter/anaconda/lib/python2.7/site-packages/sklearn/metrics/scorer.py:90: DeprecationWarning: Scoring method mean_squared_error was renamed to neg_mean_squared_error in version 0.18 and will be removed in 0.20.\n",
      "  sample_weight=sample_weight)\n",
      "/Users/Carter/anaconda/lib/python2.7/site-packages/sklearn/metrics/scorer.py:90: DeprecationWarning: Scoring method mean_squared_error was renamed to neg_mean_squared_error in version 0.18 and will be removed in 0.20.\n",
      "  sample_weight=sample_weight)\n",
      "/Users/Carter/anaconda/lib/python2.7/site-packages/sklearn/metrics/scorer.py:90: DeprecationWarning: Scoring method mean_squared_error was renamed to neg_mean_squared_error in version 0.18 and will be removed in 0.20.\n",
      "  sample_weight=sample_weight)\n",
      "/Users/Carter/anaconda/lib/python2.7/site-packages/sklearn/metrics/scorer.py:90: DeprecationWarning: Scoring method mean_squared_error was renamed to neg_mean_squared_error in version 0.18 and will be removed in 0.20.\n",
      "  sample_weight=sample_weight)\n",
      "/Users/Carter/anaconda/lib/python2.7/site-packages/sklearn/metrics/scorer.py:90: DeprecationWarning: Scoring method mean_squared_error was renamed to neg_mean_squared_error in version 0.18 and will be removed in 0.20.\n",
      "  sample_weight=sample_weight)\n",
      "/Users/Carter/anaconda/lib/python2.7/site-packages/sklearn/metrics/scorer.py:90: DeprecationWarning: Scoring method mean_squared_error was renamed to neg_mean_squared_error in version 0.18 and will be removed in 0.20.\n",
      "  sample_weight=sample_weight)\n",
      "/Users/Carter/anaconda/lib/python2.7/site-packages/sklearn/metrics/scorer.py:90: DeprecationWarning: Scoring method mean_squared_error was renamed to neg_mean_squared_error in version 0.18 and will be removed in 0.20.\n",
      "  sample_weight=sample_weight)\n",
      "/Users/Carter/anaconda/lib/python2.7/site-packages/sklearn/metrics/scorer.py:90: DeprecationWarning: Scoring method mean_squared_error was renamed to neg_mean_squared_error in version 0.18 and will be removed in 0.20.\n",
      "  sample_weight=sample_weight)\n",
      "/Users/Carter/anaconda/lib/python2.7/site-packages/sklearn/metrics/scorer.py:90: DeprecationWarning: Scoring method mean_squared_error was renamed to neg_mean_squared_error in version 0.18 and will be removed in 0.20.\n",
      "  sample_weight=sample_weight)\n",
      "/Users/Carter/anaconda/lib/python2.7/site-packages/sklearn/metrics/scorer.py:90: DeprecationWarning: Scoring method mean_squared_error was renamed to neg_mean_squared_error in version 0.18 and will be removed in 0.20.\n",
      "  sample_weight=sample_weight)\n",
      "/Users/Carter/anaconda/lib/python2.7/site-packages/sklearn/metrics/scorer.py:90: DeprecationWarning: Scoring method mean_squared_error was renamed to neg_mean_squared_error in version 0.18 and will be removed in 0.20.\n",
      "  sample_weight=sample_weight)\n",
      "/Users/Carter/anaconda/lib/python2.7/site-packages/sklearn/metrics/scorer.py:90: DeprecationWarning: Scoring method mean_squared_error was renamed to neg_mean_squared_error in version 0.18 and will be removed in 0.20.\n",
      "  sample_weight=sample_weight)\n",
      "/Users/Carter/anaconda/lib/python2.7/site-packages/sklearn/metrics/scorer.py:90: DeprecationWarning: Scoring method mean_squared_error was renamed to neg_mean_squared_error in version 0.18 and will be removed in 0.20.\n",
      "  sample_weight=sample_weight)\n",
      "/Users/Carter/anaconda/lib/python2.7/site-packages/sklearn/metrics/scorer.py:90: DeprecationWarning: Scoring method mean_squared_error was renamed to neg_mean_squared_error in version 0.18 and will be removed in 0.20.\n",
      "  sample_weight=sample_weight)\n",
      "/Users/Carter/anaconda/lib/python2.7/site-packages/sklearn/metrics/scorer.py:90: DeprecationWarning: Scoring method mean_squared_error was renamed to neg_mean_squared_error in version 0.18 and will be removed in 0.20.\n",
      "  sample_weight=sample_weight)\n",
      "/Users/Carter/anaconda/lib/python2.7/site-packages/sklearn/metrics/scorer.py:90: DeprecationWarning: Scoring method mean_squared_error was renamed to neg_mean_squared_error in version 0.18 and will be removed in 0.20.\n",
      "  sample_weight=sample_weight)\n",
      "/Users/Carter/anaconda/lib/python2.7/site-packages/sklearn/metrics/scorer.py:90: DeprecationWarning: Scoring method mean_squared_error was renamed to neg_mean_squared_error in version 0.18 and will be removed in 0.20.\n",
      "  sample_weight=sample_weight)\n",
      "/Users/Carter/anaconda/lib/python2.7/site-packages/sklearn/metrics/scorer.py:90: DeprecationWarning: Scoring method mean_squared_error was renamed to neg_mean_squared_error in version 0.18 and will be removed in 0.20.\n",
      "  sample_weight=sample_weight)\n",
      "/Users/Carter/anaconda/lib/python2.7/site-packages/sklearn/metrics/scorer.py:90: DeprecationWarning: Scoring method mean_squared_error was renamed to neg_mean_squared_error in version 0.18 and will be removed in 0.20.\n",
      "  sample_weight=sample_weight)\n",
      "/Users/Carter/anaconda/lib/python2.7/site-packages/sklearn/metrics/scorer.py:90: DeprecationWarning: Scoring method mean_squared_error was renamed to neg_mean_squared_error in version 0.18 and will be removed in 0.20.\n",
      "  sample_weight=sample_weight)\n",
      "/Users/Carter/anaconda/lib/python2.7/site-packages/sklearn/metrics/scorer.py:90: DeprecationWarning: Scoring method mean_squared_error was renamed to neg_mean_squared_error in version 0.18 and will be removed in 0.20.\n",
      "  sample_weight=sample_weight)\n",
      "/Users/Carter/anaconda/lib/python2.7/site-packages/sklearn/metrics/scorer.py:90: DeprecationWarning: Scoring method mean_squared_error was renamed to neg_mean_squared_error in version 0.18 and will be removed in 0.20.\n",
      "  sample_weight=sample_weight)\n",
      "/Users/Carter/anaconda/lib/python2.7/site-packages/sklearn/metrics/scorer.py:90: DeprecationWarning: Scoring method mean_squared_error was renamed to neg_mean_squared_error in version 0.18 and will be removed in 0.20.\n",
      "  sample_weight=sample_weight)\n",
      "/Users/Carter/anaconda/lib/python2.7/site-packages/sklearn/metrics/scorer.py:90: DeprecationWarning: Scoring method mean_squared_error was renamed to neg_mean_squared_error in version 0.18 and will be removed in 0.20.\n",
      "  sample_weight=sample_weight)\n",
      "/Users/Carter/anaconda/lib/python2.7/site-packages/sklearn/metrics/scorer.py:90: DeprecationWarning: Scoring method mean_squared_error was renamed to neg_mean_squared_error in version 0.18 and will be removed in 0.20.\n",
      "  sample_weight=sample_weight)\n",
      "/Users/Carter/anaconda/lib/python2.7/site-packages/sklearn/metrics/scorer.py:90: DeprecationWarning: Scoring method mean_squared_error was renamed to neg_mean_squared_error in version 0.18 and will be removed in 0.20.\n",
      "  sample_weight=sample_weight)\n",
      "/Users/Carter/anaconda/lib/python2.7/site-packages/sklearn/metrics/scorer.py:90: DeprecationWarning: Scoring method mean_squared_error was renamed to neg_mean_squared_error in version 0.18 and will be removed in 0.20.\n",
      "  sample_weight=sample_weight)\n",
      "/Users/Carter/anaconda/lib/python2.7/site-packages/sklearn/metrics/scorer.py:90: DeprecationWarning: Scoring method mean_squared_error was renamed to neg_mean_squared_error in version 0.18 and will be removed in 0.20.\n",
      "  sample_weight=sample_weight)\n",
      "/Users/Carter/anaconda/lib/python2.7/site-packages/sklearn/metrics/scorer.py:90: DeprecationWarning: Scoring method mean_squared_error was renamed to neg_mean_squared_error in version 0.18 and will be removed in 0.20.\n",
      "  sample_weight=sample_weight)\n",
      "/Users/Carter/anaconda/lib/python2.7/site-packages/sklearn/metrics/scorer.py:90: DeprecationWarning: Scoring method mean_squared_error was renamed to neg_mean_squared_error in version 0.18 and will be removed in 0.20.\n",
      "  sample_weight=sample_weight)\n",
      "/Users/Carter/anaconda/lib/python2.7/site-packages/sklearn/metrics/scorer.py:90: DeprecationWarning: Scoring method mean_squared_error was renamed to neg_mean_squared_error in version 0.18 and will be removed in 0.20.\n",
      "  sample_weight=sample_weight)\n",
      "/Users/Carter/anaconda/lib/python2.7/site-packages/sklearn/metrics/scorer.py:90: DeprecationWarning: Scoring method mean_squared_error was renamed to neg_mean_squared_error in version 0.18 and will be removed in 0.20.\n",
      "  sample_weight=sample_weight)\n",
      "/Users/Carter/anaconda/lib/python2.7/site-packages/sklearn/metrics/scorer.py:90: DeprecationWarning: Scoring method mean_squared_error was renamed to neg_mean_squared_error in version 0.18 and will be removed in 0.20.\n",
      "  sample_weight=sample_weight)\n",
      "/Users/Carter/anaconda/lib/python2.7/site-packages/sklearn/metrics/scorer.py:90: DeprecationWarning: Scoring method mean_squared_error was renamed to neg_mean_squared_error in version 0.18 and will be removed in 0.20.\n",
      "  sample_weight=sample_weight)\n",
      "/Users/Carter/anaconda/lib/python2.7/site-packages/sklearn/metrics/scorer.py:90: DeprecationWarning: Scoring method mean_squared_error was renamed to neg_mean_squared_error in version 0.18 and will be removed in 0.20.\n",
      "  sample_weight=sample_weight)\n",
      "/Users/Carter/anaconda/lib/python2.7/site-packages/sklearn/metrics/scorer.py:90: DeprecationWarning: Scoring method mean_squared_error was renamed to neg_mean_squared_error in version 0.18 and will be removed in 0.20.\n",
      "  sample_weight=sample_weight)\n",
      "/Users/Carter/anaconda/lib/python2.7/site-packages/sklearn/metrics/scorer.py:90: DeprecationWarning: Scoring method mean_squared_error was renamed to neg_mean_squared_error in version 0.18 and will be removed in 0.20.\n",
      "  sample_weight=sample_weight)\n",
      "/Users/Carter/anaconda/lib/python2.7/site-packages/sklearn/metrics/scorer.py:90: DeprecationWarning: Scoring method mean_squared_error was renamed to neg_mean_squared_error in version 0.18 and will be removed in 0.20.\n",
      "  sample_weight=sample_weight)\n",
      "/Users/Carter/anaconda/lib/python2.7/site-packages/sklearn/metrics/scorer.py:90: DeprecationWarning: Scoring method mean_squared_error was renamed to neg_mean_squared_error in version 0.18 and will be removed in 0.20.\n",
      "  sample_weight=sample_weight)\n",
      "/Users/Carter/anaconda/lib/python2.7/site-packages/sklearn/metrics/scorer.py:90: DeprecationWarning: Scoring method mean_squared_error was renamed to neg_mean_squared_error in version 0.18 and will be removed in 0.20.\n",
      "  sample_weight=sample_weight)\n",
      "/Users/Carter/anaconda/lib/python2.7/site-packages/sklearn/metrics/scorer.py:90: DeprecationWarning: Scoring method mean_squared_error was renamed to neg_mean_squared_error in version 0.18 and will be removed in 0.20.\n",
      "  sample_weight=sample_weight)\n",
      "/Users/Carter/anaconda/lib/python2.7/site-packages/sklearn/metrics/scorer.py:90: DeprecationWarning: Scoring method mean_squared_error was renamed to neg_mean_squared_error in version 0.18 and will be removed in 0.20.\n",
      "  sample_weight=sample_weight)\n",
      "/Users/Carter/anaconda/lib/python2.7/site-packages/sklearn/metrics/scorer.py:90: DeprecationWarning: Scoring method mean_squared_error was renamed to neg_mean_squared_error in version 0.18 and will be removed in 0.20.\n",
      "  sample_weight=sample_weight)\n",
      "/Users/Carter/anaconda/lib/python2.7/site-packages/sklearn/metrics/scorer.py:90: DeprecationWarning: Scoring method mean_squared_error was renamed to neg_mean_squared_error in version 0.18 and will be removed in 0.20.\n",
      "  sample_weight=sample_weight)\n",
      "/Users/Carter/anaconda/lib/python2.7/site-packages/sklearn/metrics/scorer.py:90: DeprecationWarning: Scoring method mean_squared_error was renamed to neg_mean_squared_error in version 0.18 and will be removed in 0.20.\n",
      "  sample_weight=sample_weight)\n",
      "/Users/Carter/anaconda/lib/python2.7/site-packages/sklearn/metrics/scorer.py:90: DeprecationWarning: Scoring method mean_squared_error was renamed to neg_mean_squared_error in version 0.18 and will be removed in 0.20.\n",
      "  sample_weight=sample_weight)\n",
      "/Users/Carter/anaconda/lib/python2.7/site-packages/sklearn/metrics/scorer.py:90: DeprecationWarning: Scoring method mean_squared_error was renamed to neg_mean_squared_error in version 0.18 and will be removed in 0.20.\n",
      "  sample_weight=sample_weight)\n",
      "/Users/Carter/anaconda/lib/python2.7/site-packages/sklearn/metrics/scorer.py:90: DeprecationWarning: Scoring method mean_squared_error was renamed to neg_mean_squared_error in version 0.18 and will be removed in 0.20.\n",
      "  sample_weight=sample_weight)\n",
      "/Users/Carter/anaconda/lib/python2.7/site-packages/sklearn/metrics/scorer.py:90: DeprecationWarning: Scoring method mean_squared_error was renamed to neg_mean_squared_error in version 0.18 and will be removed in 0.20.\n",
      "  sample_weight=sample_weight)\n",
      "/Users/Carter/anaconda/lib/python2.7/site-packages/sklearn/metrics/scorer.py:90: DeprecationWarning: Scoring method mean_squared_error was renamed to neg_mean_squared_error in version 0.18 and will be removed in 0.20.\n",
      "  sample_weight=sample_weight)\n",
      "/Users/Carter/anaconda/lib/python2.7/site-packages/sklearn/metrics/scorer.py:90: DeprecationWarning: Scoring method mean_squared_error was renamed to neg_mean_squared_error in version 0.18 and will be removed in 0.20.\n",
      "  sample_weight=sample_weight)\n",
      "/Users/Carter/anaconda/lib/python2.7/site-packages/sklearn/metrics/scorer.py:90: DeprecationWarning: Scoring method mean_squared_error was renamed to neg_mean_squared_error in version 0.18 and will be removed in 0.20.\n",
      "  sample_weight=sample_weight)\n",
      "/Users/Carter/anaconda/lib/python2.7/site-packages/sklearn/metrics/scorer.py:90: DeprecationWarning: Scoring method mean_squared_error was renamed to neg_mean_squared_error in version 0.18 and will be removed in 0.20.\n",
      "  sample_weight=sample_weight)\n",
      "/Users/Carter/anaconda/lib/python2.7/site-packages/sklearn/metrics/scorer.py:90: DeprecationWarning: Scoring method mean_squared_error was renamed to neg_mean_squared_error in version 0.18 and will be removed in 0.20.\n",
      "  sample_weight=sample_weight)\n",
      "/Users/Carter/anaconda/lib/python2.7/site-packages/sklearn/metrics/scorer.py:90: DeprecationWarning: Scoring method mean_squared_error was renamed to neg_mean_squared_error in version 0.18 and will be removed in 0.20.\n",
      "  sample_weight=sample_weight)\n",
      "/Users/Carter/anaconda/lib/python2.7/site-packages/sklearn/metrics/scorer.py:90: DeprecationWarning: Scoring method mean_squared_error was renamed to neg_mean_squared_error in version 0.18 and will be removed in 0.20.\n",
      "  sample_weight=sample_weight)\n",
      "/Users/Carter/anaconda/lib/python2.7/site-packages/sklearn/metrics/scorer.py:90: DeprecationWarning: Scoring method mean_squared_error was renamed to neg_mean_squared_error in version 0.18 and will be removed in 0.20.\n",
      "  sample_weight=sample_weight)\n",
      "/Users/Carter/anaconda/lib/python2.7/site-packages/sklearn/metrics/scorer.py:90: DeprecationWarning: Scoring method mean_squared_error was renamed to neg_mean_squared_error in version 0.18 and will be removed in 0.20.\n",
      "  sample_weight=sample_weight)\n"
     ]
    },
    {
     "data": {
      "text/plain": [
       "GridSearchCV(cv=None, error_score='raise',\n",
       "       estimator=Ridge(alpha=1.0, copy_X=True, fit_intercept=True, max_iter=None,\n",
       "   normalize=False, random_state=None, solver='auto', tol=0.001),\n",
       "       fit_params={}, iid=True, n_jobs=1,\n",
       "       param_grid={'alpha': array([  0.1    ,   0.12589,   0.15849,   0.19953,   0.25119,   0.31623,\n",
       "         0.39811,   0.50119,   0.63096,   0.79433,   1.     ,   1.25893,\n",
       "         1.58489,   1.99526,   2.51189,   3.16228,   3.98107,   5.01187,\n",
       "         6.30957,   7.94328,  10.     ])},\n",
       "       pre_dispatch='2*n_jobs', refit=True, scoring='mean_squared_error',\n",
       "       verbose=0)"
      ]
     },
     "execution_count": 105,
     "metadata": {},
     "output_type": "execute_result"
    }
   ],
   "source": [
    "from sklearn import grid_search\n",
    "\n",
    "alphas = np.logspace(-1, 1, 21)\n",
    "gs = grid_search.GridSearchCV(\n",
    "    estimator=linear_model.Ridge(),\n",
    "    param_grid={'alpha': alphas},\n",
    "    scoring='mean_squared_error')\n",
    "\n",
    "gs.fit(X, y)\n"
   ]
  },
  {
   "cell_type": "code",
   "execution_count": 106,
   "metadata": {
    "collapsed": false
   },
   "outputs": [
    {
     "name": "stdout",
     "output_type": "stream",
     "text": [
      "1.49259801916\n",
      "Ridge(alpha=0.39810717055349731, copy_X=True, fit_intercept=True,\n",
      "   max_iter=None, normalize=False, random_state=None, solver='auto',\n",
      "   tol=0.001)\n"
     ]
    }
   ],
   "source": [
    "print -gs.best_score_ \n",
    "print gs.best_estimator_ "
   ]
  },
  {
   "cell_type": "code",
   "execution_count": 26,
   "metadata": {
    "collapsed": false
   },
   "outputs": [],
   "source": []
  },
  {
   "cell_type": "code",
   "execution_count": 28,
   "metadata": {
    "collapsed": false
   },
   "outputs": [],
   "source": [
    "# knn = KNeighborsClassifier(n_neighbors=5)\n",
    "# cross_val_score(knn, X1, y, cv=10, scoring='accuracy').mean()"
   ]
  },
  {
   "cell_type": "markdown",
   "metadata": {},
   "source": [
    "### Due to fact that data set has so many variables, attempting PCA so reduce multicollinearity"
   ]
  },
  {
   "cell_type": "code",
   "execution_count": 45,
   "metadata": {
    "collapsed": false
   },
   "outputs": [
    {
     "name": "stdout",
     "output_type": "stream",
     "text": [
      "explained variance ratio (first two components): [ 0.56921224  0.29031321  0.06481396  0.03638333]\n"
     ]
    }
   ],
   "source": [
    "from sklearn import decomposition\n",
    "\n",
    "pca = decomposition.PCA(n_components=4)\n",
    "X_r = pca.fit_transform(X)\n",
    "\n",
    "# Percentage of variance explained for each components\n",
    "print('explained variance ratio (first two components): %s'\n",
    "      % str(pca.explained_variance_ratio_))"
   ]
  },
  {
   "cell_type": "code",
   "execution_count": 46,
   "metadata": {
    "collapsed": false
   },
   "outputs": [
    {
     "data": {
      "text/plain": [
       "array([ 2321450.86649755,  1184000.99657846,   264334.50031224,\n",
       "         148384.20198301])"
      ]
     },
     "execution_count": 46,
     "metadata": {},
     "output_type": "execute_result"
    }
   ],
   "source": [
    "pca.explained_variance_\n",
    "# below are eigan values\n"
   ]
  },
  {
   "cell_type": "code",
   "execution_count": 47,
   "metadata": {
    "collapsed": false
   },
   "outputs": [
    {
     "data": {
      "text/plain": [
       "<matplotlib.text.Text at 0x11eacde90>"
      ]
     },
     "execution_count": 47,
     "metadata": {},
     "output_type": "execute_result"
    },
    {
     "data": {
      "image/png": "[encoded data removed]",
      "text/plain": [
       "<matplotlib.figure.Figure at 0x11a33e5d0>"
      ]
     },
     "metadata": {},
     "output_type": "display_data"
    }
   ],
   "source": [
    "plt.plot(pca.explained_variance_ratio_)\n",
    "plt.title('Variance explained by each principal component')\n",
    "plt.ylabel(' % Variance Explained')\n",
    "plt.xlabel('Principal component')"
   ]
  },
  {
   "cell_type": "markdown",
   "metadata": {
    "collapsed": true
   },
   "source": [
    "#### Looks pretty good!"
   ]
  },
  {
   "cell_type": "code",
   "execution_count": null,
   "metadata": {
    "collapsed": true
   },
   "outputs": [],
   "source": []
  }
 ],
 "metadata": {
  "kernelspec": {
   "display_name": "Python 2",
   "language": "python",
   "name": "python2"
  },
  "language_info": {
   "codemirror_mode": {
    "name": "ipython",
    "version": 2
   },
   "file_extension": ".py",
   "mimetype": "text/x-python",
   "name": "python",
   "nbconvert_exporter": "python",
   "pygments_lexer": "ipython2",
   "version": "2.7.13"
  }
 },
 "nbformat": 4,
 "nbformat_minor": 2
}
