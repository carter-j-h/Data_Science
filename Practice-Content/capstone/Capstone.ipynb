{
 "cells": [
  {
   "cell_type": "markdown",
   "metadata": {},
   "source": [
    "# Import appropriate packages"
   ]
  },
  {
   "cell_type": "code",
   "execution_count": 1,
   "metadata": {
    "collapsed": false
   },
   "outputs": [
    {
     "name": "stderr",
     "output_type": "stream",
     "text": [
      "/Users/Carter/anaconda/lib/python2.7/site-packages/sklearn/cross_validation.py:44: DeprecationWarning: This module was deprecated in version 0.18 in favor of the model_selection module into which all the refactored classes and functions are moved. Also note that the interface of the new CV iterators are different from that of this module. This module will be removed in 0.20.\n",
      "  \"This module will be removed in 0.20.\", DeprecationWarning)\n"
     ]
    }
   ],
   "source": [
    "## Packages for data collection, exploration, and modeling\n",
    "import pandas as pd\n",
    "import numpy as np\n",
    "import datetime\n",
    "import matplotlib.pyplot as plt\n",
    "from scipy import stats\n",
    "import statsmodels.api as sm\n",
    "from sklearn import linear_model, metrics\n",
    "from sklearn.neighbors import KNeighborsClassifier\n",
    "from sklearn.model_selection import cross_val_score\n",
    "from sklearn import cross_validation\n",
    "from sklearn.model_selection import train_test_split\n",
    "from sklearn.linear_model import Lasso\n",
    "from sklearn.preprocessing import StandardScaler\n",
    "\n",
    "## Web Scraping Packages\n",
    "from scrapy.selector import Selector\n",
    "from scrapy.http import HtmlResponse\n",
    "import requests\n",
    "import time\n",
    "import random\n",
    "from bs4 import BeautifulSoup\n",
    "from selenium import webdriver\n",
    "from selenium.webdriver.chrome.options import Options\n",
    "\n",
    "chromedriver = \"/Users/Carter/Desktop/chromedriver\"\n",
    "\n",
    "## to fill in missing data\n",
    "from fancyimpute import KNN\n",
    "\n",
    "## Plotting\n",
    "import seaborn as sns\n",
    "%matplotlib inline"
   ]
  },
  {
   "cell_type": "markdown",
   "metadata": {},
   "source": [
    "## Notice: You will notice some of the data collection cells have not been run in this notebook.  That is because I completed them in a separate notebook and then copied them here for submission."
   ]
  },
  {
   "cell_type": "markdown",
   "metadata": {},
   "source": [
    "# Part 1- Data Collection and introduction to Web Scraping\n"
   ]
  },
  {
   "cell_type": "code",
   "execution_count": 2,
   "metadata": {
    "collapsed": true
   },
   "outputs": [],
   "source": [
    "# initiate webdrive and add extension that blocks ads.  This increases the speed of how fast\n",
    "# each html page loads\n",
    "chop = webdriver.ChromeOptions()\n",
    "chop.add_extension('/Users/Carter/Desktop/Adblock-Plus_v1.13.2.crx')"
   ]
  },
  {
   "cell_type": "markdown",
   "metadata": {},
   "source": [
    "### Part 1 Step 1: Scrape to get URL's of all basketball players on website\n",
    "#### Takes ~45 minutes to run on my machine"
   ]
  },
  {
   "cell_type": "code",
   "execution_count": null,
   "metadata": {
    "collapsed": true
   },
   "outputs": [],
   "source": []
  },
  {
   "cell_type": "code",
   "execution_count": null,
   "metadata": {
    "collapsed": true
   },
   "outputs": [],
   "source": [
    "browser = webdriver.Chrome(executable_path = chromedriver, chrome_options = chop)\n",
    "\n",
    "#empty array where we will store player data\n",
    "player_links = []\n",
    "\n",
    "page_letters = list(\"abcdefghijklmnopqrstuvwxyz\")\n",
    "\n",
    "for letter in page_letters:\n",
    "    \n",
    "    url = \"http://www.basketball-reference.com/players/%s/\" % letter\n",
    "    \n",
    "    browser.get(url)\n",
    "    \n",
    "    html = browser.page_source\n",
    "    \n",
    "    # grab inactive players without the strong html tag\n",
    "    links = Selector(text=html).xpath(\"//th[@class='left ']/a/@href\").extract()\n",
    "    \n",
    "    # then grap active players with the strong html tag\n",
    "    links1 = Selector(text=html).xpath(\"//th[@class='left ']/strong/a/@href\").extract()\n",
    "    \n",
    "    #combine the two separate links into one\n",
    "    links = links + links1\n",
    "   \n",
    "    player_links.append(links)\n",
    "    \n",
    "    # set up random time interval to mitigate risk of being blocked by the domain\n",
    "    time.sleep(2*np.random.rand())\n",
    "\n",
    "browser.quit()"
   ]
  },
  {
   "cell_type": "code",
   "execution_count": null,
   "metadata": {
    "collapsed": true
   },
   "outputs": [],
   "source": [
    "# create a test links to validate data collection\n",
    "test_list = player_links[:]"
   ]
  },
  {
   "cell_type": "code",
   "execution_count": null,
   "metadata": {
    "collapsed": true
   },
   "outputs": [],
   "source": [
    "import itertools\n",
    "list2d = test_list\n",
    "merged = list(itertools.chain(*list2d))\n",
    "\n",
    "# verify list is accurate in terms of length comparted to what the website says.\n",
    "# will use this link list for data collection on each player\n",
    "player_links = merged[:]\n",
    "len(player_links)"
   ]
  },
  {
   "cell_type": "markdown",
   "metadata": {},
   "source": [
    "### Part 1 Step 2: Iterate through all links to grab each players Stats- NBA general stats, NBA advanced stats, and (if present) College Stats\n",
    "#### Takes ~3hrs on my machine to run"
   ]
  },
  {
   "cell_type": "code",
   "execution_count": null,
   "metadata": {
    "collapsed": true
   },
   "outputs": [],
   "source": [
    "browser = webdriver.Chrome(executable_path = chromedriver, chrome_options = chop)\n",
    "\n",
    "player_stats = []\n",
    "\n",
    "print datetime.datetime.now().time()\n",
    "\n",
    "for l in player_links:\n",
    "    \n",
    "    player_url = \"http://www.basketball-reference.com%s\" % l\n",
    "    \n",
    "    # get the html of the player page\n",
    "    browser.get(player_url)\n",
    "    \n",
    "    # pull the page source so I can access the data via xpath selector\n",
    "    player_html = browser.page_source\n",
    "    \n",
    "    # grab the name of the player\n",
    "    name = Selector(text=player_html).xpath(\"//h1/text()\").extract()\n",
    "    \n",
    "    # check if 'college' appears on their page\n",
    "    college = Selector(text=player_html).xpath(\"//div[@id='all_all_college_stats']/div[@class='section_heading']//h2/text()\").extract()\n",
    "    if not college:\n",
    "        pass\n",
    "    else:\n",
    "    \n",
    "        player_stats.append({\n",
    "            \"Name\": name[0],\n",
    "            \"Lg\": Selector(text=player_html).xpath(\"//table[@id='per_game']/tfoot/tr[1]//td[@data-stat='lg_id']/text()\").extract(),\n",
    "            \"G\": Selector(text=player_html).xpath(\"//table[@id='per_game']/tfoot/tr[1]//td[@data-stat='g']/text()\").extract(),\n",
    "            \"GS\": Selector(text=player_html).xpath(\"//table[@id='per_game']/tfoot/tr[1]//td[@data-stat='gs']/text()\").extract(),\n",
    "            \"MP\": Selector(text=player_html).xpath(\"//table[@id='per_game']/tfoot/tr[1]//td[@data-stat='mp_per_g']/text()\").extract(),\n",
    "            \"FG\": Selector(text=player_html).xpath(\"//table[@id='per_game']/tfoot/tr[1]//td[@data-stat='fg_per_g']/text()\").extract(),\n",
    "            \"FGA\": Selector(text=player_html).xpath(\"//table[@id='per_game']/tfoot/tr[1]//td[@data-stat='fga_per_g']/text()\").extract(),\n",
    "            \"FG%\": Selector(text=player_html).xpath(\"//table[@id='per_game']/tfoot/tr[1]//td[@data-stat='fg_pct']/text()\").extract(),\n",
    "            \"3P\": Selector(text=player_html).xpath(\"//table[@id='per_game']/tfoot/tr[1]//td[@data-stat='fg3_per_g']/text()\").extract(),\n",
    "            \"3PA\": Selector(text=player_html).xpath(\"//table[@id='per_game']/tfoot/tr[1]//td[@data-stat='fg3a_per_g']/text()\").extract(),\n",
    "            \"3P%\": Selector(text=player_html).xpath(\"//table[@id='per_game']/tfoot/tr[1]//td[@data-stat='fg3_pct']/text()\").extract(),\n",
    "            \"2P\": Selector(text=player_html).xpath(\"//table[@id='per_game']/tfoot/tr[1]//td[@data-stat='fg2_per_g']/text()\").extract(),\n",
    "            \"2PA\": Selector(text=player_html).xpath(\"//table[@id='per_game']/tfoot/tr[1]//td[@data-stat='fg2a_per_g']/text()\").extract(),\n",
    "            \"2P%\": Selector(text=player_html).xpath(\"//table[@id='per_game']/tfoot/tr[1]//td[@data-stat='fg2_pct']/text()\").extract(),\n",
    "            \"eFG%\": Selector(text=player_html).xpath(\"//table[@id='per_game']/tfoot/tr[1]//td[@data-stat='efg_pct']/text()\").extract(),\n",
    "            \"FT\": Selector(text=player_html).xpath(\"//table[@id='per_game']/tfoot/tr[1]//td[@data-stat='ft_per_g']/text()\").extract(),\n",
    "            \"FTA\": Selector(text=player_html).xpath(\"//table[@id='per_game']/tfoot/tr[1]//td[@data-stat='fta_per_g']/text()\").extract(),\n",
    "            \"FT%\": Selector(text=player_html).xpath(\"//table[@id='per_game']/tfoot/tr[1]//td[@data-stat='ft_pct']/text()\").extract(),\n",
    "            \"ORB\": Selector(text=player_html).xpath(\"//table[@id='per_game']/tfoot/tr[1]//td[@data-stat='orb_per_g']/text()\").extract(),\n",
    "            \"DRB\": Selector(text=player_html).xpath(\"//table[@id='per_game']/tfoot/tr[1]//td[@data-stat='drb_per_g']/text()\").extract(),\n",
    "            \"TRB\": Selector(text=player_html).xpath(\"//table[@id='per_game']/tfoot/tr[1]//td[@data-stat='trb_per_g']/text()\").extract(),\n",
    "            \"AST\": Selector(text=player_html).xpath(\"//table[@id='per_game']/tfoot/tr[1]//td[@data-stat='ast_per_g']/text()\").extract(),\n",
    "            \"STL\": Selector(text=player_html).xpath(\"//table[@id='per_game']/tfoot/tr[1]//td[@data-stat='stl_per_g']/text()\").extract(),\n",
    "            \"BLK\": Selector(text=player_html).xpath(\"//table[@id='per_game']/tfoot/tr[1]//td[@data-stat='blk_per_g']/text()\").extract(),\n",
    "            \"TOV\": Selector(text=player_html).xpath(\"//table[@id='per_game']/tfoot/tr[1]//td[@data-stat='tov_per_g']/text()\").extract(),\n",
    "            \"PF\": Selector(text=player_html).xpath(\"//table[@id='per_game']/tfoot/tr[1]//td[@data-stat='pf_per_g']/text()\").extract(),\n",
    "            \"PTS\": Selector(text=player_html).xpath(\"//table[@id='per_game']/tfoot/tr[1]//td[@data-stat='pts_per_g']/text()\").extract(),\n",
    "            \"PER\": Selector(text=player_html).xpath(\"//table[@id='advanced']/tfoot/tr[1]//td[@data-stat='per']/text()\").extract(),\n",
    "            \"TS%\": Selector(text=player_html).xpath(\"//table[@id='advanced']/tfoot/tr[1]//td[@data-stat='ts_pct']/text()\").extract(),\n",
    "            \"3PAr\": Selector(text=player_html).xpath(\"//table[@id='advanced']/tfoot/tr[1]//td[@data-stat='fg3a_per_fga_pct']/text()\").extract(),\n",
    "            \"FTr\": Selector(text=player_html).xpath(\"//table[@id='advanced']/tfoot/tr[1]//td[@data-stat='fta_per_fga_pct']/text()\").extract(),\n",
    "            \"ORB%\": Selector(text=player_html).xpath(\"//table[@id='advanced']/tfoot/tr[1]//td[@data-stat='orb_pct']/text()\").extract(),\n",
    "            \"DRB%\": Selector(text=player_html).xpath(\"//table[@id='advanced']/tfoot/tr[1]//td[@data-stat='drb_pct']/text()\").extract(),\n",
    "            \"TRB%\": Selector(text=player_html).xpath(\"//table[@id='advanced']/tfoot/tr[1]//td[@data-stat='trb_pct']/text()\").extract(),\n",
    "            \"AST%\": Selector(text=player_html).xpath(\"//table[@id='advanced']/tfoot/tr[1]//td[@data-stat='ast_pct']/text()\").extract(),\n",
    "            \"STL%\": Selector(text=player_html).xpath(\"//table[@id='advanced']/tfoot/tr[1]//td[@data-stat='stl_pct']/text()\").extract(),\n",
    "            \"BLK%\": Selector(text=player_html).xpath(\"//table[@id='advanced']/tfoot/tr[1]//td[@data-stat='blk_pct']/text()\").extract(),\n",
    "            \"TOV%\": Selector(text=player_html).xpath(\"//table[@id='advanced']/tfoot/tr[1]//td[@data-stat='tov_pct']/text()\").extract(),\n",
    "            \"USG%\": Selector(text=player_html).xpath(\"//table[@id='advanced']/tfoot/tr[1]//td[@data-stat='usg_pct']/text()\").extract(),\n",
    "            \"OWS\": Selector(text=player_html).xpath(\"//table[@id='advanced']/tfoot/tr[1]//td[@data-stat='ows']/text()\").extract(),\n",
    "            \"DWS\": Selector(text=player_html).xpath(\"//table[@id='advanced']/tfoot/tr[1]//td[@data-stat='dws']/text()\").extract(),\n",
    "            \"WS\": Selector(text=player_html).xpath(\"//table[@id='advanced']/tfoot/tr[1]//td[@data-stat='ws']/text()\").extract(),\n",
    "            \"WS/48\": Selector(text=player_html).xpath(\"//table[@id='advanced']/tfoot/tr[1]//td[@data-stat='ws_per_48']/text()\").extract(),\n",
    "            \"OBPM\": Selector(text=player_html).xpath(\"//table[@id='advanced']/tfoot/tr[1]//td[@data-stat='obpm']/text()\").extract(),\n",
    "            \"DBPM\": Selector(text=player_html).xpath(\"//table[@id='advanced']/tfoot/tr[1]//td[@data-stat='dbpm']/text()\").extract(),\n",
    "            \"BPM\": Selector(text=player_html).xpath(\"//table[@id='advanced']/tfoot/tr[1]//td[@data-stat='bpm']/text()\").extract(),\n",
    "            \"VORP\": Selector(text=player_html).xpath(\"//table[@id='advanced']/tfoot/tr[1]//td[@data-stat='vorp']/text()\").extract()\n",
    "            \"G\": Selector(text=player_html).xpath(\"//table[@id='all_college_stats']/tfoot/tr[1]//td[@data-stat='g']/text()\").extract(),\n",
    "            \"MP\": Selector(text=player_html).xpath(\"//table[@id='all_college_stats']/tfoot/tr[1]//td[@data-stat='mp']/text()\").extract(),\n",
    "            \"FG\": Selector(text=player_html).xpath(\"//table[@id='all_college_stats']/tfoot/tr[1]//td[@data-stat='fg']/text()\").extract(),\n",
    "            \"FGA\": Selector(text=player_html).xpath(\"//table[@id='all_college_stats']/tfoot/tr[1]//td[@data-stat='fga']/text()\").extract(),\n",
    "            \"3P\": Selector(text=player_html).xpath(\"//table[@id='all_college_stats']/tfoot/tr[1]//td[@data-stat='fg3']/text()\").extract(),\n",
    "            \"3PA\": Selector(text=player_html).xpath(\"//table[@id='all_college_stats']/tfoot/tr[1]//td[@data-stat='fg3a']/text()\").extract(),\n",
    "            \"FT\": Selector(text=player_html).xpath(\"//table[@id='all_college_stats']/tfoot/tr[1]//td[@data-stat='ft']/text()\").extract(),\n",
    "            \"FTA\": Selector(text=player_html).xpath(\"//table[@id='all_college_stats']/tfoot/tr[1]//td[@data-stat='fta']/text()\").extract(),\n",
    "            \"ORB\": Selector(text=player_html).xpath(\"//table[@id='all_college_stats']/tfoot/tr[1]//td[@data-stat='orb']/text()\").extract(),\n",
    "            \"TRB\": Selector(text=player_html).xpath(\"//table[@id='all_college_stats']/tfoot/tr[1]//td[@data-stat='trb']/text()\").extract(),\n",
    "            \"AST\": Selector(text=player_html).xpath(\"//table[@id='all_college_stats']/tfoot/tr[1]//td[@data-stat='ast']/text()\").extract(),\n",
    "            \"STL\": Selector(text=player_html).xpath(\"//table[@id='all_college_stats']/tfoot/tr[1]//td[@data-stat='stl']/text()\").extract(),\n",
    "            \"BLK\": Selector(text=player_html).xpath(\"//table[@id='all_college_stats']/tfoot/tr[1]//td[@data-stat='blk']/text()\").extract(),\n",
    "            \"TOV\": Selector(text=player_html).xpath(\"//table[@id='all_college_stats']/tfoot/tr[1]//td[@data-stat='tov']/text()\").extract(),\n",
    "            \"PF\": Selector(text=player_html).xpath(\"//table[@id='all_college_stats']/tfoot/tr[1]//td[@data-stat='pf']/text()\").extract(),\n",
    "            \"PTS\": Selector(text=player_html).xpath(\"//table[@id='all_college_stats']/tfoot/tr[1]//td[@data-stat='pts']/text()\").extract(),\n",
    "            \"FG%\": Selector(text=player_html).xpath(\"//table[@id='all_college_stats']/tfoot/tr[1]//td[@data-stat='fg_pct']/text()\").extract(),\n",
    "            \"3P%\": Selector(text=player_html).xpath(\"//table[@id='all_college_stats']/tfoot/tr[1]//td[@data-stat='fg3_pct']/text()\").extract(),\n",
    "            \"FT%\": Selector(text=player_html).xpath(\"//table[@id='all_college_stats']/tfoot/tr[1]//td[@data-stat='ft_pct']/text()\").extract(),\n",
    "            \"MP_per_g\": Selector(text=player_html).xpath(\"//table[@id='all_college_stats']/tfoot/tr[1]//td[@data-stat='mp_per_g']/text()\").extract(),\n",
    "            \"PTS_per_g\": Selector(text=player_html).xpath(\"//table[@id='all_college_stats']/tfoot/tr[1]//td[@data-stat='pts_per_g']/text()\").extract(),\n",
    "            \"TRB_per_g\": Selector(text=player_html).xpath(\"//table[@id='all_college_stats']/tfoot/tr[1]//td[@data-stat='trb_per_g']/text()\").extract(),\n",
    "            \"AST_per_g\": Selector(text=player_html).xpath(\"//table[@id='all_college_stats']/tfoot/tr[1]//td[@data-stat='ast_per_g']/text()\").extract()\n",
    "            })\n",
    "    \n",
    "    # put in random alert ot make sure program is still functioning correctly\n",
    "    chance = (random.randint(1,100))    \n",
    "    if chance <= 1:\n",
    "        print (\"1% chance of getting this-- still running\")\n",
    "\n",
    "print datetime.datetime.now().time()\n",
    "browser.quit()"
   ]
  },
  {
   "cell_type": "code",
   "execution_count": null,
   "metadata": {
    "collapsed": true
   },
   "outputs": [],
   "source": [
    "# save uncleaned dataframe just in case-- this will make it so I wont have to run scrape program\n",
    "# again unnecessarily\n",
    "df = pd.DataFrame(player_stats)\n",
    "df.shape\n",
    "\n",
    "df.to_csv(path_or_buf= 'pro_players_v1.csv')"
   ]
  },
  {
   "cell_type": "code",
   "execution_count": null,
   "metadata": {
    "collapsed": true
   },
   "outputs": [],
   "source": [
    "# start work to clean up player stats\n",
    "v1 = player_stats[:]"
   ]
  },
  {
   "cell_type": "code",
   "execution_count": null,
   "metadata": {
    "collapsed": true
   },
   "outputs": [],
   "source": [
    "# function to clean up data\n",
    "for index, row in enumerate(v1):\n",
    "    \n",
    "    for key, value in row.items():\n",
    "        \n",
    "        if len(value) < 1:\n",
    "            v1[index][key] = \"\"\n",
    "        elif type(value) == list:\n",
    "            v1[index][key] = value[0]\n",
    "        else:\n",
    "            v1[index][key] = value"
   ]
  },
  {
   "cell_type": "code",
   "execution_count": null,
   "metadata": {
    "collapsed": true
   },
   "outputs": [],
   "source": [
    "# cleaner dataframe now\n",
    "df2 = pd.DataFrame(v1)\n",
    "df2.shape\n",
    "\n",
    "df2.to_csv(path_or_buf= 'pro_players_v2.csv')"
   ]
  },
  {
   "cell_type": "markdown",
   "metadata": {},
   "source": [
    "## End of copying the other Jupyter notebook into this one"
   ]
  },
  {
   "cell_type": "code",
   "execution_count": null,
   "metadata": {
    "collapsed": true
   },
   "outputs": [],
   "source": []
  },
  {
   "cell_type": "markdown",
   "metadata": {},
   "source": [
    "#### Reading in data that was collected in other jupyter notebook and saved into CSV files"
   ]
  },
  {
   "cell_type": "code",
   "execution_count": 2,
   "metadata": {
    "collapsed": false
   },
   "outputs": [],
   "source": [
    "nba = pd.read_csv('old/players_combined.csv')"
   ]
  },
  {
   "cell_type": "code",
   "execution_count": 3,
   "metadata": {
    "collapsed": false
   },
   "outputs": [],
   "source": [
    "college = pd.read_csv('old/college_stats.csv')"
   ]
  },
  {
   "cell_type": "code",
   "execution_count": 4,
   "metadata": {
    "collapsed": true
   },
   "outputs": [],
   "source": [
    "position = pd.read_csv('old/player_positions.csv')"
   ]
  },
  {
   "cell_type": "code",
   "execution_count": 5,
   "metadata": {
    "collapsed": true
   },
   "outputs": [],
   "source": [
    "holder = []\n",
    "for x in position['Position']:\n",
    "    if type(x) == float:\n",
    "        holder.append(str(x))\n",
    "    else:\n",
    "        holder.append(x)\n",
    "\n",
    "position['Position'] = holder"
   ]
  },
  {
   "cell_type": "code",
   "execution_count": 6,
   "metadata": {
    "collapsed": false
   },
   "outputs": [],
   "source": [
    "position['Position']= position['Position'].apply(lambda x: x.replace(\"C-PF\", \"C\").replace(\"PF-C\", \"C\").replace(\"PF-SF\", \"PF\").replace(\"PG-SG\", \"PG\").replace(\"SF-PF\", \"SF\").replace(\"SF-SG\", \"SG\").replace(\"SG-PG\", \"PG\").replace(\"SG-SF\", \"SG\"))"
   ]
  },
  {
   "cell_type": "code",
   "execution_count": 7,
   "metadata": {
    "collapsed": false,
    "scrolled": true
   },
   "outputs": [
    {
     "data": {
      "text/html": [
       "<div>\n",
       "<table border=\"1\" class=\"dataframe\">\n",
       "  <thead>\n",
       "    <tr style=\"text-align: right;\">\n",
       "      <th></th>\n",
       "      <th>Unnamed: 0</th>\n",
       "      <th>Name</th>\n",
       "    </tr>\n",
       "    <tr>\n",
       "      <th>Position</th>\n",
       "      <th></th>\n",
       "      <th></th>\n",
       "    </tr>\n",
       "  </thead>\n",
       "  <tbody>\n",
       "    <tr>\n",
       "      <th>C</th>\n",
       "      <td>700</td>\n",
       "      <td>700</td>\n",
       "    </tr>\n",
       "    <tr>\n",
       "      <th>PF</th>\n",
       "      <td>786</td>\n",
       "      <td>786</td>\n",
       "    </tr>\n",
       "    <tr>\n",
       "      <th>PG</th>\n",
       "      <td>713</td>\n",
       "      <td>713</td>\n",
       "    </tr>\n",
       "    <tr>\n",
       "      <th>SF</th>\n",
       "      <td>820</td>\n",
       "      <td>820</td>\n",
       "    </tr>\n",
       "    <tr>\n",
       "      <th>SG</th>\n",
       "      <td>890</td>\n",
       "      <td>890</td>\n",
       "    </tr>\n",
       "    <tr>\n",
       "      <th>nan</th>\n",
       "      <td>551</td>\n",
       "      <td>551</td>\n",
       "    </tr>\n",
       "  </tbody>\n",
       "</table>\n",
       "</div>"
      ],
      "text/plain": [
       "          Unnamed: 0  Name\n",
       "Position                  \n",
       "C                700   700\n",
       "PF               786   786\n",
       "PG               713   713\n",
       "SF               820   820\n",
       "SG               890   890\n",
       "nan              551   551"
      ]
     },
     "execution_count": 7,
     "metadata": {},
     "output_type": "execute_result"
    }
   ],
   "source": [
    "position.groupby('Position').count()"
   ]
  },
  {
   "cell_type": "code",
   "execution_count": 8,
   "metadata": {
    "collapsed": true
   },
   "outputs": [],
   "source": [
    "df_position = pd.get_dummies(position['Position'])"
   ]
  },
  {
   "cell_type": "code",
   "execution_count": 9,
   "metadata": {
    "collapsed": false,
    "scrolled": true
   },
   "outputs": [
    {
     "data": {
      "text/html": [
       "<div>\n",
       "<table border=\"1\" class=\"dataframe\">\n",
       "  <thead>\n",
       "    <tr style=\"text-align: right;\">\n",
       "      <th></th>\n",
       "      <th>C</th>\n",
       "      <th>PF</th>\n",
       "      <th>PG</th>\n",
       "      <th>SF</th>\n",
       "      <th>SG</th>\n",
       "      <th>nan</th>\n",
       "    </tr>\n",
       "  </thead>\n",
       "  <tbody>\n",
       "    <tr>\n",
       "      <th>0</th>\n",
       "      <td>0</td>\n",
       "      <td>1</td>\n",
       "      <td>0</td>\n",
       "      <td>0</td>\n",
       "      <td>0</td>\n",
       "      <td>0</td>\n",
       "    </tr>\n",
       "    <tr>\n",
       "      <th>1</th>\n",
       "      <td>1</td>\n",
       "      <td>0</td>\n",
       "      <td>0</td>\n",
       "      <td>0</td>\n",
       "      <td>0</td>\n",
       "      <td>0</td>\n",
       "    </tr>\n",
       "    <tr>\n",
       "      <th>2</th>\n",
       "      <td>1</td>\n",
       "      <td>0</td>\n",
       "      <td>0</td>\n",
       "      <td>0</td>\n",
       "      <td>0</td>\n",
       "      <td>0</td>\n",
       "    </tr>\n",
       "    <tr>\n",
       "      <th>3</th>\n",
       "      <td>0</td>\n",
       "      <td>0</td>\n",
       "      <td>1</td>\n",
       "      <td>0</td>\n",
       "      <td>0</td>\n",
       "      <td>0</td>\n",
       "    </tr>\n",
       "    <tr>\n",
       "      <th>4</th>\n",
       "      <td>0</td>\n",
       "      <td>0</td>\n",
       "      <td>0</td>\n",
       "      <td>0</td>\n",
       "      <td>1</td>\n",
       "      <td>0</td>\n",
       "    </tr>\n",
       "  </tbody>\n",
       "</table>\n",
       "</div>"
      ],
      "text/plain": [
       "   C  PF  PG  SF  SG  nan\n",
       "0  0   1   0   0   0    0\n",
       "1  1   0   0   0   0    0\n",
       "2  1   0   0   0   0    0\n",
       "3  0   0   1   0   0    0\n",
       "4  0   0   0   0   1    0"
      ]
     },
     "execution_count": 9,
     "metadata": {},
     "output_type": "execute_result"
    }
   ],
   "source": [
    "df_position.head()"
   ]
  },
  {
   "cell_type": "code",
   "execution_count": 10,
   "metadata": {
    "collapsed": true
   },
   "outputs": [],
   "source": [
    "pos_final = pd.concat([position, df_position], axis=1)"
   ]
  },
  {
   "cell_type": "code",
   "execution_count": null,
   "metadata": {
    "collapsed": true
   },
   "outputs": [],
   "source": [
    "### Should I have dropped 1 dummy variable column?  "
   ]
  },
  {
   "cell_type": "markdown",
   "metadata": {},
   "source": [
    "#### Add prefix on college stats to differentiate after merge"
   ]
  },
  {
   "cell_type": "code",
   "execution_count": 11,
   "metadata": {
    "collapsed": false
   },
   "outputs": [],
   "source": [
    "college.add_prefix('[C]')\n",
    "college = college.rename(columns={'[C]Name': 'Name'})"
   ]
  },
  {
   "cell_type": "markdown",
   "metadata": {},
   "source": [
    "### Add position data to existing NBA dataframe"
   ]
  },
  {
   "cell_type": "code",
   "execution_count": 12,
   "metadata": {
    "collapsed": false
   },
   "outputs": [],
   "source": [
    "nba = pd.merge(nba, pos_final, on='Name', how='left')"
   ]
  },
  {
   "cell_type": "code",
   "execution_count": 13,
   "metadata": {
    "collapsed": true
   },
   "outputs": [],
   "source": [
    "nba.to_csv(path_or_buf= 'carter-working.csv')"
   ]
  },
  {
   "cell_type": "markdown",
   "metadata": {},
   "source": [
    "### Inner join two files to get less missing data"
   ]
  },
  {
   "cell_type": "code",
   "execution_count": 14,
   "metadata": {
    "collapsed": false
   },
   "outputs": [
    {
     "name": "stdout",
     "output_type": "stream",
     "text": [
      "(4761, 56)\n",
      "(2622, 25)\n"
     ]
    }
   ],
   "source": [
    "print nba.shape\n",
    "print college.shape"
   ]
  },
  {
   "cell_type": "code",
   "execution_count": 15,
   "metadata": {
    "collapsed": false
   },
   "outputs": [],
   "source": [
    "df_inner = pd.merge(nba, college, on='Name', how='inner', suffixes=('_NBA', '_C'))"
   ]
  },
  {
   "cell_type": "code",
   "execution_count": 16,
   "metadata": {
    "collapsed": false
   },
   "outputs": [
    {
     "data": {
      "text/plain": [
       "(3168, 80)"
      ]
     },
     "execution_count": 16,
     "metadata": {},
     "output_type": "execute_result"
    }
   ],
   "source": [
    "df_inner.shape"
   ]
  },
  {
   "cell_type": "code",
   "execution_count": 17,
   "metadata": {
    "collapsed": false
   },
   "outputs": [],
   "source": [
    "df_inner.to_csv(path_or_buf='df_inner.csv')"
   ]
  },
  {
   "cell_type": "code",
   "execution_count": 18,
   "metadata": {
    "collapsed": false
   },
   "outputs": [
    {
     "data": {
      "text/plain": [
       "158.4"
      ]
     },
     "execution_count": 18,
     "metadata": {},
     "output_type": "execute_result"
    }
   ],
   "source": [
    "(len(df_inner)*0.05)"
   ]
  },
  {
   "cell_type": "markdown",
   "metadata": {},
   "source": [
    "## Fill missing values of column if less than 40% of values are missing.  Replace with average value BY POSITION of that column.  I need to take this measure to run models "
   ]
  },
  {
   "cell_type": "code",
   "execution_count": 19,
   "metadata": {
    "collapsed": false
   },
   "outputs": [],
   "source": [
    "for col in df_inner.columns:\n",
    "    nulnum = df_inner[col].isnull().sum() \n",
    "#     print col, nulnum\n",
    "    if 0 < nulnum <= (len(df_inner)*.40):\n",
    "        df_inner[col].fillna(df_inner.groupby('Position')[col].transform(\"mean\"), inplace=True)\n",
    "    "
   ]
  },
  {
   "cell_type": "markdown",
   "metadata": {},
   "source": [
    "### Dropping the rest of the columns that did not make cut in terms of percentage of missing data"
   ]
  },
  {
   "cell_type": "code",
   "execution_count": 20,
   "metadata": {
    "collapsed": false
   },
   "outputs": [],
   "source": [
    "data = df_inner.drop(['ORB_C', 'PF', 'TOV_C', 'Name', 'Lg'], axis=1)"
   ]
  },
  {
   "cell_type": "code",
   "execution_count": 21,
   "metadata": {
    "collapsed": false
   },
   "outputs": [],
   "source": [
    "data = data.fillna(0)"
   ]
  },
  {
   "cell_type": "code",
   "execution_count": 22,
   "metadata": {
    "collapsed": false
   },
   "outputs": [],
   "source": [
    "data.to_csv(path_or_buf='data.csv')"
   ]
  },
  {
   "cell_type": "code",
   "execution_count": 23,
   "metadata": {
    "collapsed": true
   },
   "outputs": [],
   "source": [
    "data = data.drop('Unnamed: 0_x', 1)"
   ]
  },
  {
   "cell_type": "code",
   "execution_count": 24,
   "metadata": {
    "collapsed": true
   },
   "outputs": [],
   "source": [
    "data = data.drop('Unnamed: 0_y', 1)"
   ]
  },
  {
   "cell_type": "markdown",
   "metadata": {},
   "source": [
    "#### For some reason adding the suffix's did not work on all columns-- standardizing now for readiability purposes"
   ]
  },
  {
   "cell_type": "code",
   "execution_count": 25,
   "metadata": {
    "collapsed": true
   },
   "outputs": [],
   "source": [
    "columns ={\n",
    "    '2P': '2P_NBA',\n",
    "    '2P%': '2P%_NBA',\n",
    "    '2PA': '2PA_NBA',\n",
    "    'DRB': 'DRB_NBA',\n",
    "    'GS': 'GS_NBA',\n",
    "    'PF_x': 'PF_NBA',\n",
    "    'eFG%': 'eFG%_NBA',\n",
    "    '3PAr': '3PAr_NBA',\n",
    "    'AST%': 'AST%_NBA',\n",
    "    'BLK%': 'BLK%_NBA',\n",
    "    'BPM': 'BPM_NBA',\n",
    "    'DBPM': 'DBPM_NBA',\n",
    "    'DRB%': 'DRB%_NBA',\n",
    "    'DWS': 'DWS_NBA',\n",
    "    'FTr': 'FTr_NBA',\n",
    "    'OBPM': 'OBPM_NBA',\n",
    "    'ORB%': 'ORB%_NBA',\n",
    "    'OWS': 'OWS_NBA',\n",
    "    'PER': 'PER_NBA',\n",
    "    'STL%': 'STL%_NBA',\n",
    "    'TOV%': 'TOV%_NBA',\n",
    "    'TRB%':'TRB%_NBA',\n",
    "    'TS%': 'TS%_NBA',\n",
    "    'USG%': 'USG%_NBA',\n",
    "    'VORP': 'VORP_NBA',\n",
    "    'WS': 'WS_NBA',\n",
    "    'WS/48': 'WS/48_NBA',\n",
    "    'PF_y': 'PF',\n",
    "    'AST_per_g': 'AST_per_g_C',\n",
    "    'MP_per_g': 'MP_per_g_C',\n",
    "    'PTS_per_g':'PTS_per_g_C' ,\n",
    "    'TRB_per_g': 'TRB_per_g_C'\n",
    "}"
   ]
  },
  {
   "cell_type": "code",
   "execution_count": 45,
   "metadata": {
    "collapsed": true
   },
   "outputs": [],
   "source": [
    "data = data.rename(columns=columns)"
   ]
  },
  {
   "cell_type": "code",
   "execution_count": 27,
   "metadata": {
    "collapsed": true
   },
   "outputs": [],
   "source": [
    "data.to_csv(path_or_buf='data_final.csv')"
   ]
  },
  {
   "cell_type": "code",
   "execution_count": 28,
   "metadata": {
    "collapsed": false
   },
   "outputs": [],
   "source": [
    "### Just in case - can read in dataset directly from here with completed cleanup"
   ]
  },
  {
   "cell_type": "code",
   "execution_count": 6,
   "metadata": {
    "collapsed": true
   },
   "outputs": [],
   "source": [
    "data = pd.read_csv('data_final.csv')"
   ]
  },
  {
   "cell_type": "code",
   "execution_count": 7,
   "metadata": {
    "collapsed": false
   },
   "outputs": [
    {
     "data": {
      "text/plain": [
       "(3168, 74)"
      ]
     },
     "execution_count": 7,
     "metadata": {},
     "output_type": "execute_result"
    }
   ],
   "source": [
    "data.shape"
   ]
  },
  {
   "cell_type": "code",
   "execution_count": null,
   "metadata": {
    "collapsed": false
   },
   "outputs": [],
   "source": []
  },
  {
   "cell_type": "code",
   "execution_count": 8,
   "metadata": {
    "collapsed": false
   },
   "outputs": [],
   "source": [
    "data = data[data.Position != 'nan']"
   ]
  },
  {
   "cell_type": "code",
   "execution_count": 9,
   "metadata": {
    "collapsed": false
   },
   "outputs": [
    {
     "data": {
      "text/plain": [
       "(3168, 74)"
      ]
     },
     "execution_count": 9,
     "metadata": {},
     "output_type": "execute_result"
    }
   ],
   "source": [
    "data.shape"
   ]
  },
  {
   "cell_type": "markdown",
   "metadata": {
    "collapsed": false
   },
   "source": [
    "### Defining outcome variable"
   ]
  },
  {
   "cell_type": "code",
   "execution_count": 10,
   "metadata": {
    "collapsed": false
   },
   "outputs": [],
   "source": [
    "Y1 = data['PER_NBA']"
   ]
  },
  {
   "cell_type": "code",
   "execution_count": 11,
   "metadata": {
    "collapsed": false
   },
   "outputs": [
    {
     "data": {
      "text/plain": [
       "count    3168.000000\n",
       "mean       11.792165\n",
       "std         6.027877\n",
       "min       -46.600000\n",
       "25%         9.400000\n",
       "50%        12.000000\n",
       "75%        14.500000\n",
       "max        88.300000\n",
       "Name: PER_NBA, dtype: float64"
      ]
     },
     "execution_count": 11,
     "metadata": {},
     "output_type": "execute_result"
    }
   ],
   "source": [
    "Y1.describe()"
   ]
  },
  {
   "cell_type": "code",
   "execution_count": 27,
   "metadata": {
    "collapsed": false
   },
   "outputs": [],
   "source": [
    "X1 = data[['C','PF','PG','SF','SG','nan','3P_C','3P%_C','3PA_C','AST_C','AST_per_g_C','BLK_C','FG_C','FG%_C','FGA_C','FT_C','FT%_C','FTA_C','G_C', 'MP_C','MP_per_g_C','PTS_C','PTS_per_g_C','STL_C','TRB_C','TRB_per_g_C']]"
   ]
  },
  {
   "cell_type": "code",
   "execution_count": 28,
   "metadata": {
    "collapsed": false
   },
   "outputs": [
    {
     "data": {
      "text/plain": [
       "C              float64\n",
       "PF             float64\n",
       "PG             float64\n",
       "SF             float64\n",
       "SG             float64\n",
       "nan            float64\n",
       "3P_C           float64\n",
       "3P%_C          float64\n",
       "3PA_C          float64\n",
       "AST_C          float64\n",
       "AST_per_g_C    float64\n",
       "BLK_C          float64\n",
       "FG_C           float64\n",
       "FG%_C          float64\n",
       "FGA_C          float64\n",
       "FT_C           float64\n",
       "FT%_C          float64\n",
       "FTA_C          float64\n",
       "G_C              int64\n",
       "MP_C           float64\n",
       "MP_per_g_C     float64\n",
       "PTS_C            int64\n",
       "PTS_per_g_C    float64\n",
       "STL_C          float64\n",
       "TRB_C          float64\n",
       "TRB_per_g_C    float64\n",
       "dtype: object"
      ]
     },
     "execution_count": 28,
     "metadata": {},
     "output_type": "execute_result"
    }
   ],
   "source": [
    "X1.dtypes"
   ]
  },
  {
   "cell_type": "code",
   "execution_count": null,
   "metadata": {
    "collapsed": false
   },
   "outputs": [],
   "source": []
  },
  {
   "cell_type": "code",
   "execution_count": 30,
   "metadata": {
    "collapsed": false
   },
   "outputs": [
    {
     "name": "stdout",
     "output_type": "stream",
     "text": [
      "(3168,)\n",
      "(3168, 26)\n"
     ]
    }
   ],
   "source": [
    "print Y1.shape\n",
    "print X1.shape"
   ]
  },
  {
   "cell_type": "markdown",
   "metadata": {},
   "source": [
    "### Creating own df for data to run models on"
   ]
  },
  {
   "cell_type": "code",
   "execution_count": 31,
   "metadata": {
    "collapsed": true
   },
   "outputs": [],
   "source": [
    "df = pd.concat([Y1, X1], axis=1)"
   ]
  },
  {
   "cell_type": "code",
   "execution_count": 32,
   "metadata": {
    "collapsed": false
   },
   "outputs": [
    {
     "data": {
      "text/plain": [
       "(3168, 27)"
      ]
     },
     "execution_count": 32,
     "metadata": {},
     "output_type": "execute_result"
    }
   ],
   "source": [
    "df.shape"
   ]
  },
  {
   "cell_type": "markdown",
   "metadata": {},
   "source": [
    "# Part 2: EDA- Initial Exploration of the Data "
   ]
  },
  {
   "cell_type": "code",
   "execution_count": 24,
   "metadata": {
    "collapsed": false
   },
   "outputs": [
    {
     "data": {
      "image/png": "[encoded data removed]",
      "text/plain": [
       "<matplotlib.figure.Figure at 0x113b0b190>"
      ]
     },
     "metadata": {},
     "output_type": "display_data"
    }
   ],
   "source": [
    "plt.figure(figsize=(8,10))\n",
    "sns.set_style(\"whitegrid\")\n",
    "\n",
    "plot1 = sns.boxplot(x=\"Position\", y=\"PER_NBA\", data=data)\n",
    "boxplot = plot1.get_figure()\n",
    "boxplot.savefig(\"boxplot.png\")\n"
   ]
  },
  {
   "cell_type": "code",
   "execution_count": 49,
   "metadata": {
    "collapsed": false
   },
   "outputs": [
    {
     "data": {
      "image/png": "[encoded data removed]",
      "text/plain": [
       "<matplotlib.figure.Figure at 0x112bc9610>"
      ]
     },
     "metadata": {},
     "output_type": "display_data"
    }
   ],
   "source": [
    "corrmat = df.corr(method='pearson')\n",
    "\n",
    "fig = plt.figure(figsize=(20,15))\n",
    "\n",
    "ax= fig.gca()\n",
    "\n",
    "mask = np.zeros_like(corrmat, dtype=np.bool)\n",
    "mask[np.triu_indices_from(mask)] = True\n",
    "ax= sns.heatmap(corrmat, vmin=0, vmax=1, square=True, mask=mask)\n",
    "\n",
    "heatmap = ax.get_figure()\n",
    "heatmap.savefig(\"heatmap.png\")\n"
   ]
  },
  {
   "cell_type": "code",
   "execution_count": null,
   "metadata": {
    "collapsed": false,
    "scrolled": false
   },
   "outputs": [],
   "source": []
  },
  {
   "cell_type": "code",
   "execution_count": 13,
   "metadata": {
    "collapsed": false
   },
   "outputs": [],
   "source": [
    "### Inital Regression"
   ]
  },
  {
   "cell_type": "code",
   "execution_count": 55,
   "metadata": {
    "collapsed": false
   },
   "outputs": [
    {
     "name": "stdout",
     "output_type": "stream",
     "text": [
      "                            OLS Regression Results                            \n",
      "==============================================================================\n",
      "Dep. Variable:                PER_NBA   R-squared:                       0.092\n",
      "Model:                            OLS   Adj. R-squared:                  0.085\n",
      "Method:                 Least Squares   F-statistic:                     13.21\n",
      "Date:                Thu, 20 Apr 2017   Prob (F-statistic):           4.22e-50\n",
      "Time:                        17:03:46   Log-Likelihood:                -10015.\n",
      "No. Observations:                3163   AIC:                         2.008e+04\n",
      "Df Residuals:                    3138   BIC:                         2.023e+04\n",
      "Df Model:                          24                                         \n",
      "Covariance Type:            nonrobust                                         \n",
      "===============================================================================\n",
      "                  coef    std err          t      P>|t|      [95.0% Conf. Int.]\n",
      "-------------------------------------------------------------------------------\n",
      "C               2.9192      2.561      1.140      0.254        -2.102     7.940\n",
      "PF              3.5484      2.564      1.384      0.166        -1.479     8.576\n",
      "PG              3.7307      2.594      1.438      0.151        -1.356     8.818\n",
      "SF              3.3391      2.559      1.305      0.192        -1.678     8.356\n",
      "SG              2.9840      2.568      1.162      0.245        -2.052     8.020\n",
      "nan          2.797e-13   2.12e-13      1.318      0.188     -1.36e-13  6.96e-13\n",
      "3P_C            0.0048      0.012      0.415      0.678        -0.018     0.028\n",
      "3P%_C           0.7472      1.132      0.660      0.509        -1.473     2.967\n",
      "3PA_C          -0.0023      0.004     -0.536      0.592        -0.011     0.006\n",
      "AST_C          -0.0031      0.002     -1.338      0.181        -0.008     0.001\n",
      "AST_per_g_C     0.3850      0.240      1.606      0.108        -0.085     0.855\n",
      "BLK_C           0.0075      0.002      3.999      0.000         0.004     0.011\n",
      "FG_C            0.0008      0.005      0.171      0.864        -0.009     0.010\n",
      "FG%_C          10.4503      3.433      3.044      0.002         3.720    17.181\n",
      "FGA_C           0.0003      0.002      0.179      0.858        -0.003     0.004\n",
      "FT_C            0.0091      0.006      1.438      0.151        -0.003     0.022\n",
      "FT%_C          -1.3696      2.250     -0.609      0.543        -5.780     3.041\n",
      "FTA_C          -0.0070      0.004     -1.577      0.115        -0.016     0.002\n",
      "G_C            -0.0124      0.013     -0.957      0.339        -0.038     0.013\n",
      "MP_C            0.0004      0.000      2.421      0.016      7.92e-05     0.001\n",
      "MP_per_g_C     -0.0310      0.032     -0.972      0.331        -0.093     0.032\n",
      "PTS_C          -0.0006      0.002     -0.322      0.748        -0.005     0.003\n",
      "PTS_per_g_C     0.1747      0.090      1.933      0.053        -0.003     0.352\n",
      "STL_C           0.0112      0.003      3.696      0.000         0.005     0.017\n",
      "TRB_C          -0.0027      0.002     -1.726      0.084        -0.006     0.000\n",
      "TRB_per_g_C     0.4388      0.145      3.028      0.002         0.155     0.723\n",
      "==============================================================================\n",
      "Omnibus:                     1378.872   Durbin-Watson:                   1.824\n",
      "Prob(Omnibus):                  0.000   Jarque-Bera (JB):           177096.042\n",
      "Skew:                           1.046   Prob(JB):                         0.00\n",
      "Kurtosis:                      39.598   Cond. No.                     1.07e+16\n",
      "==============================================================================\n",
      "\n",
      "Warnings:\n",
      "[1] Standard Errors assume that the covariance matrix of the errors is correctly specified.\n",
      "[2] The smallest eigenvalue is 3.34e-22. This might indicate that there are\n",
      "strong multicollinearity problems or that the design matrix is singular.\n"
     ]
    }
   ],
   "source": [
    "model = sm.OLS(Y1, X1, missing='drop')\n",
    "results = model.fit()\n",
    "print(results.summary())"
   ]
  },
  {
   "cell_type": "markdown",
   "metadata": {
    "collapsed": false
   },
   "source": [
    "### Start Regularization via Lasso Regression"
   ]
  },
  {
   "cell_type": "code",
   "execution_count": 38,
   "metadata": {
    "collapsed": false
   },
   "outputs": [],
   "source": [
    "# Create a function called lasso,\n",
    "def lasso(alphas):\n",
    "   \n",
    "    reg = pd.DataFrame()\n",
    "    reg['Feature Name'] = X1.columns.tolist()\n",
    "    \n",
    "    for alpha in alphas:\n",
    "        lasso = Lasso(alpha=alpha)\n",
    "\n",
    "        lasso.fit(X1, Y1)\n",
    "\n",
    "        column_name = 'Alpha = %f' % alpha\n",
    "\n",
    "        reg[column_name] = lasso.coef_\n",
    "\n",
    "    return reg"
   ]
  },
  {
   "cell_type": "code",
   "execution_count": 39,
   "metadata": {
    "collapsed": false
   },
   "outputs": [
    {
     "data": {
      "text/html": [
       "<div>\n",
       "<table border=\"1\" class=\"dataframe\">\n",
       "  <thead>\n",
       "    <tr style=\"text-align: right;\">\n",
       "      <th></th>\n",
       "      <th>Feature Name</th>\n",
       "      <th>Alpha = 0.001000</th>\n",
       "      <th>Alpha = 0.050000</th>\n",
       "      <th>Alpha = 0.100000</th>\n",
       "    </tr>\n",
       "  </thead>\n",
       "  <tbody>\n",
       "    <tr>\n",
       "      <th>0</th>\n",
       "      <td>C</td>\n",
       "      <td>-0.404781</td>\n",
       "      <td>-0.000000</td>\n",
       "      <td>-0.000000</td>\n",
       "    </tr>\n",
       "    <tr>\n",
       "      <th>1</th>\n",
       "      <td>PF</td>\n",
       "      <td>0.210008</td>\n",
       "      <td>0.053529</td>\n",
       "      <td>0.000000</td>\n",
       "    </tr>\n",
       "    <tr>\n",
       "      <th>2</th>\n",
       "      <td>PG</td>\n",
       "      <td>0.373133</td>\n",
       "      <td>0.000000</td>\n",
       "      <td>0.000000</td>\n",
       "    </tr>\n",
       "    <tr>\n",
       "      <th>3</th>\n",
       "      <td>SF</td>\n",
       "      <td>-0.000000</td>\n",
       "      <td>-0.000000</td>\n",
       "      <td>-0.000000</td>\n",
       "    </tr>\n",
       "    <tr>\n",
       "      <th>4</th>\n",
       "      <td>SG</td>\n",
       "      <td>-0.358975</td>\n",
       "      <td>-0.233615</td>\n",
       "      <td>-0.000000</td>\n",
       "    </tr>\n",
       "    <tr>\n",
       "      <th>5</th>\n",
       "      <td>nan</td>\n",
       "      <td>7.493694</td>\n",
       "      <td>0.000000</td>\n",
       "      <td>0.000000</td>\n",
       "    </tr>\n",
       "    <tr>\n",
       "      <th>6</th>\n",
       "      <td>3P_C</td>\n",
       "      <td>0.005063</td>\n",
       "      <td>0.005586</td>\n",
       "      <td>0.004606</td>\n",
       "    </tr>\n",
       "    <tr>\n",
       "      <th>7</th>\n",
       "      <td>3P%_C</td>\n",
       "      <td>0.550421</td>\n",
       "      <td>0.000000</td>\n",
       "      <td>-0.000000</td>\n",
       "    </tr>\n",
       "    <tr>\n",
       "      <th>8</th>\n",
       "      <td>3PA_C</td>\n",
       "      <td>-0.002385</td>\n",
       "      <td>-0.002596</td>\n",
       "      <td>-0.002413</td>\n",
       "    </tr>\n",
       "    <tr>\n",
       "      <th>9</th>\n",
       "      <td>AST_C</td>\n",
       "      <td>-0.002951</td>\n",
       "      <td>0.000814</td>\n",
       "      <td>0.000995</td>\n",
       "    </tr>\n",
       "    <tr>\n",
       "      <th>10</th>\n",
       "      <td>AST_per_g_C</td>\n",
       "      <td>0.369466</td>\n",
       "      <td>0.000000</td>\n",
       "      <td>0.000000</td>\n",
       "    </tr>\n",
       "    <tr>\n",
       "      <th>11</th>\n",
       "      <td>BLK_C</td>\n",
       "      <td>0.007472</td>\n",
       "      <td>0.006594</td>\n",
       "      <td>0.006674</td>\n",
       "    </tr>\n",
       "    <tr>\n",
       "      <th>12</th>\n",
       "      <td>FG_C</td>\n",
       "      <td>0.001884</td>\n",
       "      <td>0.009065</td>\n",
       "      <td>0.008674</td>\n",
       "    </tr>\n",
       "    <tr>\n",
       "      <th>13</th>\n",
       "      <td>FG%_C</td>\n",
       "      <td>9.225276</td>\n",
       "      <td>0.000000</td>\n",
       "      <td>0.000000</td>\n",
       "    </tr>\n",
       "    <tr>\n",
       "      <th>14</th>\n",
       "      <td>FGA_C</td>\n",
       "      <td>-0.000206</td>\n",
       "      <td>-0.004173</td>\n",
       "      <td>-0.004276</td>\n",
       "    </tr>\n",
       "    <tr>\n",
       "      <th>15</th>\n",
       "      <td>FT_C</td>\n",
       "      <td>0.008010</td>\n",
       "      <td>0.005905</td>\n",
       "      <td>0.005689</td>\n",
       "    </tr>\n",
       "    <tr>\n",
       "      <th>16</th>\n",
       "      <td>FT%_C</td>\n",
       "      <td>-0.830746</td>\n",
       "      <td>0.000000</td>\n",
       "      <td>0.000000</td>\n",
       "    </tr>\n",
       "    <tr>\n",
       "      <th>17</th>\n",
       "      <td>FTA_C</td>\n",
       "      <td>-0.006241</td>\n",
       "      <td>-0.004643</td>\n",
       "      <td>-0.004696</td>\n",
       "    </tr>\n",
       "    <tr>\n",
       "      <th>18</th>\n",
       "      <td>G_C</td>\n",
       "      <td>-0.013048</td>\n",
       "      <td>-0.026257</td>\n",
       "      <td>-0.030757</td>\n",
       "    </tr>\n",
       "    <tr>\n",
       "      <th>19</th>\n",
       "      <td>MP_C</td>\n",
       "      <td>0.000412</td>\n",
       "      <td>0.000382</td>\n",
       "      <td>0.000373</td>\n",
       "    </tr>\n",
       "    <tr>\n",
       "      <th>20</th>\n",
       "      <td>MP_per_g_C</td>\n",
       "      <td>-0.032901</td>\n",
       "      <td>-0.046582</td>\n",
       "      <td>-0.042931</td>\n",
       "    </tr>\n",
       "    <tr>\n",
       "      <th>21</th>\n",
       "      <td>PTS_C</td>\n",
       "      <td>-0.000574</td>\n",
       "      <td>-0.000462</td>\n",
       "      <td>-0.000085</td>\n",
       "    </tr>\n",
       "    <tr>\n",
       "      <th>22</th>\n",
       "      <td>PTS_per_g_C</td>\n",
       "      <td>0.168946</td>\n",
       "      <td>0.200804</td>\n",
       "      <td>0.187041</td>\n",
       "    </tr>\n",
       "    <tr>\n",
       "      <th>23</th>\n",
       "      <td>STL_C</td>\n",
       "      <td>0.011196</td>\n",
       "      <td>0.011434</td>\n",
       "      <td>0.011087</td>\n",
       "    </tr>\n",
       "    <tr>\n",
       "      <th>24</th>\n",
       "      <td>TRB_C</td>\n",
       "      <td>-0.002764</td>\n",
       "      <td>-0.001227</td>\n",
       "      <td>-0.000646</td>\n",
       "    </tr>\n",
       "    <tr>\n",
       "      <th>25</th>\n",
       "      <td>TRB_per_g_C</td>\n",
       "      <td>0.444591</td>\n",
       "      <td>0.268328</td>\n",
       "      <td>0.218983</td>\n",
       "    </tr>\n",
       "  </tbody>\n",
       "</table>\n",
       "</div>"
      ],
      "text/plain": [
       "   Feature Name  Alpha = 0.001000  Alpha = 0.050000  Alpha = 0.100000\n",
       "0             C         -0.404781         -0.000000         -0.000000\n",
       "1            PF          0.210008          0.053529          0.000000\n",
       "2            PG          0.373133          0.000000          0.000000\n",
       "3            SF         -0.000000         -0.000000         -0.000000\n",
       "4            SG         -0.358975         -0.233615         -0.000000\n",
       "5           nan          7.493694          0.000000          0.000000\n",
       "6          3P_C          0.005063          0.005586          0.004606\n",
       "7         3P%_C          0.550421          0.000000         -0.000000\n",
       "8         3PA_C         -0.002385         -0.002596         -0.002413\n",
       "9         AST_C         -0.002951          0.000814          0.000995\n",
       "10  AST_per_g_C          0.369466          0.000000          0.000000\n",
       "11        BLK_C          0.007472          0.006594          0.006674\n",
       "12         FG_C          0.001884          0.009065          0.008674\n",
       "13        FG%_C          9.225276          0.000000          0.000000\n",
       "14        FGA_C         -0.000206         -0.004173         -0.004276\n",
       "15         FT_C          0.008010          0.005905          0.005689\n",
       "16        FT%_C         -0.830746          0.000000          0.000000\n",
       "17        FTA_C         -0.006241         -0.004643         -0.004696\n",
       "18          G_C         -0.013048         -0.026257         -0.030757\n",
       "19         MP_C          0.000412          0.000382          0.000373\n",
       "20   MP_per_g_C         -0.032901         -0.046582         -0.042931\n",
       "21        PTS_C         -0.000574         -0.000462         -0.000085\n",
       "22  PTS_per_g_C          0.168946          0.200804          0.187041\n",
       "23        STL_C          0.011196          0.011434          0.011087\n",
       "24        TRB_C         -0.002764         -0.001227         -0.000646\n",
       "25  TRB_per_g_C          0.444591          0.268328          0.218983"
      ]
     },
     "execution_count": 39,
     "metadata": {},
     "output_type": "execute_result"
    }
   ],
   "source": [
    "lasso([0.001, 0.05, .1])\n"
   ]
  },
  {
   "cell_type": "markdown",
   "metadata": {
    "collapsed": false
   },
   "source": [
    "### Does SK Learn yield different results?"
   ]
  },
  {
   "cell_type": "code",
   "execution_count": 40,
   "metadata": {
    "collapsed": false
   },
   "outputs": [
    {
     "name": "stdout",
     "output_type": "stream",
     "text": [
      "32.911285244 0.0939478390729\n"
     ]
    }
   ],
   "source": [
    "lm = linear_model.LinearRegression(normalize=True).fit(X1, Y1)\n",
    "print metrics.mean_squared_error(Y1, lm.predict(X1)), lm.score(X1, Y1)\n"
   ]
  },
  {
   "cell_type": "markdown",
   "metadata": {},
   "source": [
    "### What about different types of Regressions?"
   ]
  },
  {
   "cell_type": "code",
   "execution_count": 41,
   "metadata": {
    "collapsed": false
   },
   "outputs": [
    {
     "name": "stdout",
     "output_type": "stream",
     "text": [
      "~~~ OLS ~~~\n",
      "OLS MSE:  32.9110651238\n",
      "OLS R2: 0.0939538990116\n",
      "~~~ Lasso ~~~\n",
      "Lasso MSE:  33.5062652746\n",
      "Lasso R2: 0.0775679578749\n",
      "~~~ Ridge ~~~\n",
      "Ridge MSE:  32.9192158718\n",
      "Ridge R2: 0.0937295078125\n"
     ]
    }
   ],
   "source": [
    "lm = linear_model.LinearRegression().fit(X1, Y1)\n",
    "print \"~~~ OLS ~~~\"\n",
    "print 'OLS MSE: ', metrics.mean_squared_error(Y1, lm.predict(X1))\n",
    "print 'OLS R2:', lm.score(X1, Y1)\n",
    "\n",
    "lm = linear_model.Lasso().fit(X1, Y1)\n",
    "print \"~~~ Lasso ~~~\"\n",
    "print 'Lasso MSE: ', metrics.mean_squared_error(Y1, lm.predict(X1))\n",
    "print 'Lasso R2:', lm.score(X1, Y1)\n",
    "\n",
    "lm = linear_model.Ridge().fit(X1, Y1)\n",
    "print \"~~~ Ridge ~~~\"\n",
    "print 'Ridge MSE: ', metrics.mean_squared_error(Y1, lm.predict(X1))\n",
    "print 'Ridge R2:', lm.score(X1, Y1)"
   ]
  },
  {
   "cell_type": "markdown",
   "metadata": {},
   "source": [
    "### Grid Search "
   ]
  },
  {
   "cell_type": "code",
   "execution_count": 42,
   "metadata": {
    "collapsed": false
   },
   "outputs": [
    {
     "name": "stderr",
     "output_type": "stream",
     "text": [
      "/Users/Carter/anaconda/lib/python2.7/site-packages/sklearn/grid_search.py:43: DeprecationWarning: This module was deprecated in version 0.18 in favor of the model_selection module into which all the refactored classes and functions are moved. This module will be removed in 0.20.\n",
      "  DeprecationWarning)\n",
      "/Users/Carter/anaconda/lib/python2.7/site-packages/sklearn/metrics/scorer.py:90: DeprecationWarning: Scoring method mean_squared_error was renamed to neg_mean_squared_error in version 0.18 and will be removed in 0.20.\n",
      "  sample_weight=sample_weight)\n",
      "/Users/Carter/anaconda/lib/python2.7/site-packages/sklearn/metrics/scorer.py:90: DeprecationWarning: Scoring method mean_squared_error was renamed to neg_mean_squared_error in version 0.18 and will be removed in 0.20.\n",
      "  sample_weight=sample_weight)\n",
      "/Users/Carter/anaconda/lib/python2.7/site-packages/sklearn/metrics/scorer.py:90: DeprecationWarning: Scoring method mean_squared_error was renamed to neg_mean_squared_error in version 0.18 and will be removed in 0.20.\n",
      "  sample_weight=sample_weight)\n",
      "/Users/Carter/anaconda/lib/python2.7/site-packages/sklearn/metrics/scorer.py:90: DeprecationWarning: Scoring method mean_squared_error was renamed to neg_mean_squared_error in version 0.18 and will be removed in 0.20.\n",
      "  sample_weight=sample_weight)\n",
      "/Users/Carter/anaconda/lib/python2.7/site-packages/sklearn/metrics/scorer.py:90: DeprecationWarning: Scoring method mean_squared_error was renamed to neg_mean_squared_error in version 0.18 and will be removed in 0.20.\n",
      "  sample_weight=sample_weight)\n",
      "/Users/Carter/anaconda/lib/python2.7/site-packages/sklearn/metrics/scorer.py:90: DeprecationWarning: Scoring method mean_squared_error was renamed to neg_mean_squared_error in version 0.18 and will be removed in 0.20.\n",
      "  sample_weight=sample_weight)\n",
      "/Users/Carter/anaconda/lib/python2.7/site-packages/sklearn/metrics/scorer.py:90: DeprecationWarning: Scoring method mean_squared_error was renamed to neg_mean_squared_error in version 0.18 and will be removed in 0.20.\n",
      "  sample_weight=sample_weight)\n",
      "/Users/Carter/anaconda/lib/python2.7/site-packages/sklearn/metrics/scorer.py:90: DeprecationWarning: Scoring method mean_squared_error was renamed to neg_mean_squared_error in version 0.18 and will be removed in 0.20.\n",
      "  sample_weight=sample_weight)\n",
      "/Users/Carter/anaconda/lib/python2.7/site-packages/sklearn/metrics/scorer.py:90: DeprecationWarning: Scoring method mean_squared_error was renamed to neg_mean_squared_error in version 0.18 and will be removed in 0.20.\n",
      "  sample_weight=sample_weight)\n",
      "/Users/Carter/anaconda/lib/python2.7/site-packages/sklearn/metrics/scorer.py:90: DeprecationWarning: Scoring method mean_squared_error was renamed to neg_mean_squared_error in version 0.18 and will be removed in 0.20.\n",
      "  sample_weight=sample_weight)\n",
      "/Users/Carter/anaconda/lib/python2.7/site-packages/sklearn/metrics/scorer.py:90: DeprecationWarning: Scoring method mean_squared_error was renamed to neg_mean_squared_error in version 0.18 and will be removed in 0.20.\n",
      "  sample_weight=sample_weight)\n",
      "/Users/Carter/anaconda/lib/python2.7/site-packages/sklearn/metrics/scorer.py:90: DeprecationWarning: Scoring method mean_squared_error was renamed to neg_mean_squared_error in version 0.18 and will be removed in 0.20.\n",
      "  sample_weight=sample_weight)\n",
      "/Users/Carter/anaconda/lib/python2.7/site-packages/sklearn/metrics/scorer.py:90: DeprecationWarning: Scoring method mean_squared_error was renamed to neg_mean_squared_error in version 0.18 and will be removed in 0.20.\n",
      "  sample_weight=sample_weight)\n",
      "/Users/Carter/anaconda/lib/python2.7/site-packages/sklearn/metrics/scorer.py:90: DeprecationWarning: Scoring method mean_squared_error was renamed to neg_mean_squared_error in version 0.18 and will be removed in 0.20.\n",
      "  sample_weight=sample_weight)\n",
      "/Users/Carter/anaconda/lib/python2.7/site-packages/sklearn/metrics/scorer.py:90: DeprecationWarning: Scoring method mean_squared_error was renamed to neg_mean_squared_error in version 0.18 and will be removed in 0.20.\n",
      "  sample_weight=sample_weight)\n",
      "/Users/Carter/anaconda/lib/python2.7/site-packages/sklearn/metrics/scorer.py:90: DeprecationWarning: Scoring method mean_squared_error was renamed to neg_mean_squared_error in version 0.18 and will be removed in 0.20.\n",
      "  sample_weight=sample_weight)\n",
      "/Users/Carter/anaconda/lib/python2.7/site-packages/sklearn/metrics/scorer.py:90: DeprecationWarning: Scoring method mean_squared_error was renamed to neg_mean_squared_error in version 0.18 and will be removed in 0.20.\n",
      "  sample_weight=sample_weight)\n",
      "/Users/Carter/anaconda/lib/python2.7/site-packages/sklearn/metrics/scorer.py:90: DeprecationWarning: Scoring method mean_squared_error was renamed to neg_mean_squared_error in version 0.18 and will be removed in 0.20.\n",
      "  sample_weight=sample_weight)\n",
      "/Users/Carter/anaconda/lib/python2.7/site-packages/sklearn/metrics/scorer.py:90: DeprecationWarning: Scoring method mean_squared_error was renamed to neg_mean_squared_error in version 0.18 and will be removed in 0.20.\n",
      "  sample_weight=sample_weight)\n",
      "/Users/Carter/anaconda/lib/python2.7/site-packages/sklearn/metrics/scorer.py:90: DeprecationWarning: Scoring method mean_squared_error was renamed to neg_mean_squared_error in version 0.18 and will be removed in 0.20.\n",
      "  sample_weight=sample_weight)\n",
      "/Users/Carter/anaconda/lib/python2.7/site-packages/sklearn/metrics/scorer.py:90: DeprecationWarning: Scoring method mean_squared_error was renamed to neg_mean_squared_error in version 0.18 and will be removed in 0.20.\n",
      "  sample_weight=sample_weight)\n",
      "/Users/Carter/anaconda/lib/python2.7/site-packages/sklearn/metrics/scorer.py:90: DeprecationWarning: Scoring method mean_squared_error was renamed to neg_mean_squared_error in version 0.18 and will be removed in 0.20.\n",
      "  sample_weight=sample_weight)\n",
      "/Users/Carter/anaconda/lib/python2.7/site-packages/sklearn/metrics/scorer.py:90: DeprecationWarning: Scoring method mean_squared_error was renamed to neg_mean_squared_error in version 0.18 and will be removed in 0.20.\n",
      "  sample_weight=sample_weight)\n",
      "/Users/Carter/anaconda/lib/python2.7/site-packages/sklearn/metrics/scorer.py:90: DeprecationWarning: Scoring method mean_squared_error was renamed to neg_mean_squared_error in version 0.18 and will be removed in 0.20.\n",
      "  sample_weight=sample_weight)\n",
      "/Users/Carter/anaconda/lib/python2.7/site-packages/sklearn/metrics/scorer.py:90: DeprecationWarning: Scoring method mean_squared_error was renamed to neg_mean_squared_error in version 0.18 and will be removed in 0.20.\n",
      "  sample_weight=sample_weight)\n",
      "/Users/Carter/anaconda/lib/python2.7/site-packages/sklearn/metrics/scorer.py:90: DeprecationWarning: Scoring method mean_squared_error was renamed to neg_mean_squared_error in version 0.18 and will be removed in 0.20.\n",
      "  sample_weight=sample_weight)\n",
      "/Users/Carter/anaconda/lib/python2.7/site-packages/sklearn/metrics/scorer.py:90: DeprecationWarning: Scoring method mean_squared_error was renamed to neg_mean_squared_error in version 0.18 and will be removed in 0.20.\n",
      "  sample_weight=sample_weight)\n",
      "/Users/Carter/anaconda/lib/python2.7/site-packages/sklearn/metrics/scorer.py:90: DeprecationWarning: Scoring method mean_squared_error was renamed to neg_mean_squared_error in version 0.18 and will be removed in 0.20.\n",
      "  sample_weight=sample_weight)\n",
      "/Users/Carter/anaconda/lib/python2.7/site-packages/sklearn/metrics/scorer.py:90: DeprecationWarning: Scoring method mean_squared_error was renamed to neg_mean_squared_error in version 0.18 and will be removed in 0.20.\n",
      "  sample_weight=sample_weight)\n",
      "/Users/Carter/anaconda/lib/python2.7/site-packages/sklearn/metrics/scorer.py:90: DeprecationWarning: Scoring method mean_squared_error was renamed to neg_mean_squared_error in version 0.18 and will be removed in 0.20.\n",
      "  sample_weight=sample_weight)\n",
      "/Users/Carter/anaconda/lib/python2.7/site-packages/sklearn/metrics/scorer.py:90: DeprecationWarning: Scoring method mean_squared_error was renamed to neg_mean_squared_error in version 0.18 and will be removed in 0.20.\n",
      "  sample_weight=sample_weight)\n",
      "/Users/Carter/anaconda/lib/python2.7/site-packages/sklearn/metrics/scorer.py:90: DeprecationWarning: Scoring method mean_squared_error was renamed to neg_mean_squared_error in version 0.18 and will be removed in 0.20.\n",
      "  sample_weight=sample_weight)\n",
      "/Users/Carter/anaconda/lib/python2.7/site-packages/sklearn/metrics/scorer.py:90: DeprecationWarning: Scoring method mean_squared_error was renamed to neg_mean_squared_error in version 0.18 and will be removed in 0.20.\n",
      "  sample_weight=sample_weight)\n",
      "/Users/Carter/anaconda/lib/python2.7/site-packages/sklearn/metrics/scorer.py:90: DeprecationWarning: Scoring method mean_squared_error was renamed to neg_mean_squared_error in version 0.18 and will be removed in 0.20.\n",
      "  sample_weight=sample_weight)\n",
      "/Users/Carter/anaconda/lib/python2.7/site-packages/sklearn/metrics/scorer.py:90: DeprecationWarning: Scoring method mean_squared_error was renamed to neg_mean_squared_error in version 0.18 and will be removed in 0.20.\n",
      "  sample_weight=sample_weight)\n",
      "/Users/Carter/anaconda/lib/python2.7/site-packages/sklearn/metrics/scorer.py:90: DeprecationWarning: Scoring method mean_squared_error was renamed to neg_mean_squared_error in version 0.18 and will be removed in 0.20.\n",
      "  sample_weight=sample_weight)\n",
      "/Users/Carter/anaconda/lib/python2.7/site-packages/sklearn/metrics/scorer.py:90: DeprecationWarning: Scoring method mean_squared_error was renamed to neg_mean_squared_error in version 0.18 and will be removed in 0.20.\n",
      "  sample_weight=sample_weight)\n",
      "/Users/Carter/anaconda/lib/python2.7/site-packages/sklearn/metrics/scorer.py:90: DeprecationWarning: Scoring method mean_squared_error was renamed to neg_mean_squared_error in version 0.18 and will be removed in 0.20.\n",
      "  sample_weight=sample_weight)\n",
      "/Users/Carter/anaconda/lib/python2.7/site-packages/sklearn/metrics/scorer.py:90: DeprecationWarning: Scoring method mean_squared_error was renamed to neg_mean_squared_error in version 0.18 and will be removed in 0.20.\n",
      "  sample_weight=sample_weight)\n",
      "/Users/Carter/anaconda/lib/python2.7/site-packages/sklearn/metrics/scorer.py:90: DeprecationWarning: Scoring method mean_squared_error was renamed to neg_mean_squared_error in version 0.18 and will be removed in 0.20.\n",
      "  sample_weight=sample_weight)\n",
      "/Users/Carter/anaconda/lib/python2.7/site-packages/sklearn/metrics/scorer.py:90: DeprecationWarning: Scoring method mean_squared_error was renamed to neg_mean_squared_error in version 0.18 and will be removed in 0.20.\n",
      "  sample_weight=sample_weight)\n",
      "/Users/Carter/anaconda/lib/python2.7/site-packages/sklearn/metrics/scorer.py:90: DeprecationWarning: Scoring method mean_squared_error was renamed to neg_mean_squared_error in version 0.18 and will be removed in 0.20.\n",
      "  sample_weight=sample_weight)\n",
      "/Users/Carter/anaconda/lib/python2.7/site-packages/sklearn/metrics/scorer.py:90: DeprecationWarning: Scoring method mean_squared_error was renamed to neg_mean_squared_error in version 0.18 and will be removed in 0.20.\n",
      "  sample_weight=sample_weight)\n",
      "/Users/Carter/anaconda/lib/python2.7/site-packages/sklearn/metrics/scorer.py:90: DeprecationWarning: Scoring method mean_squared_error was renamed to neg_mean_squared_error in version 0.18 and will be removed in 0.20.\n",
      "  sample_weight=sample_weight)\n",
      "/Users/Carter/anaconda/lib/python2.7/site-packages/sklearn/metrics/scorer.py:90: DeprecationWarning: Scoring method mean_squared_error was renamed to neg_mean_squared_error in version 0.18 and will be removed in 0.20.\n",
      "  sample_weight=sample_weight)\n",
      "/Users/Carter/anaconda/lib/python2.7/site-packages/sklearn/metrics/scorer.py:90: DeprecationWarning: Scoring method mean_squared_error was renamed to neg_mean_squared_error in version 0.18 and will be removed in 0.20.\n",
      "  sample_weight=sample_weight)\n",
      "/Users/Carter/anaconda/lib/python2.7/site-packages/sklearn/metrics/scorer.py:90: DeprecationWarning: Scoring method mean_squared_error was renamed to neg_mean_squared_error in version 0.18 and will be removed in 0.20.\n",
      "  sample_weight=sample_weight)\n",
      "/Users/Carter/anaconda/lib/python2.7/site-packages/sklearn/metrics/scorer.py:90: DeprecationWarning: Scoring method mean_squared_error was renamed to neg_mean_squared_error in version 0.18 and will be removed in 0.20.\n",
      "  sample_weight=sample_weight)\n",
      "/Users/Carter/anaconda/lib/python2.7/site-packages/sklearn/metrics/scorer.py:90: DeprecationWarning: Scoring method mean_squared_error was renamed to neg_mean_squared_error in version 0.18 and will be removed in 0.20.\n",
      "  sample_weight=sample_weight)\n",
      "/Users/Carter/anaconda/lib/python2.7/site-packages/sklearn/metrics/scorer.py:90: DeprecationWarning: Scoring method mean_squared_error was renamed to neg_mean_squared_error in version 0.18 and will be removed in 0.20.\n",
      "  sample_weight=sample_weight)\n",
      "/Users/Carter/anaconda/lib/python2.7/site-packages/sklearn/metrics/scorer.py:90: DeprecationWarning: Scoring method mean_squared_error was renamed to neg_mean_squared_error in version 0.18 and will be removed in 0.20.\n",
      "  sample_weight=sample_weight)\n",
      "/Users/Carter/anaconda/lib/python2.7/site-packages/sklearn/metrics/scorer.py:90: DeprecationWarning: Scoring method mean_squared_error was renamed to neg_mean_squared_error in version 0.18 and will be removed in 0.20.\n",
      "  sample_weight=sample_weight)\n",
      "/Users/Carter/anaconda/lib/python2.7/site-packages/sklearn/metrics/scorer.py:90: DeprecationWarning: Scoring method mean_squared_error was renamed to neg_mean_squared_error in version 0.18 and will be removed in 0.20.\n",
      "  sample_weight=sample_weight)\n",
      "/Users/Carter/anaconda/lib/python2.7/site-packages/sklearn/metrics/scorer.py:90: DeprecationWarning: Scoring method mean_squared_error was renamed to neg_mean_squared_error in version 0.18 and will be removed in 0.20.\n",
      "  sample_weight=sample_weight)\n",
      "/Users/Carter/anaconda/lib/python2.7/site-packages/sklearn/metrics/scorer.py:90: DeprecationWarning: Scoring method mean_squared_error was renamed to neg_mean_squared_error in version 0.18 and will be removed in 0.20.\n",
      "  sample_weight=sample_weight)\n",
      "/Users/Carter/anaconda/lib/python2.7/site-packages/sklearn/metrics/scorer.py:90: DeprecationWarning: Scoring method mean_squared_error was renamed to neg_mean_squared_error in version 0.18 and will be removed in 0.20.\n",
      "  sample_weight=sample_weight)\n",
      "/Users/Carter/anaconda/lib/python2.7/site-packages/sklearn/metrics/scorer.py:90: DeprecationWarning: Scoring method mean_squared_error was renamed to neg_mean_squared_error in version 0.18 and will be removed in 0.20.\n",
      "  sample_weight=sample_weight)\n",
      "/Users/Carter/anaconda/lib/python2.7/site-packages/sklearn/metrics/scorer.py:90: DeprecationWarning: Scoring method mean_squared_error was renamed to neg_mean_squared_error in version 0.18 and will be removed in 0.20.\n",
      "  sample_weight=sample_weight)\n",
      "/Users/Carter/anaconda/lib/python2.7/site-packages/sklearn/metrics/scorer.py:90: DeprecationWarning: Scoring method mean_squared_error was renamed to neg_mean_squared_error in version 0.18 and will be removed in 0.20.\n",
      "  sample_weight=sample_weight)\n",
      "/Users/Carter/anaconda/lib/python2.7/site-packages/sklearn/metrics/scorer.py:90: DeprecationWarning: Scoring method mean_squared_error was renamed to neg_mean_squared_error in version 0.18 and will be removed in 0.20.\n",
      "  sample_weight=sample_weight)\n",
      "/Users/Carter/anaconda/lib/python2.7/site-packages/sklearn/metrics/scorer.py:90: DeprecationWarning: Scoring method mean_squared_error was renamed to neg_mean_squared_error in version 0.18 and will be removed in 0.20.\n",
      "  sample_weight=sample_weight)\n",
      "/Users/Carter/anaconda/lib/python2.7/site-packages/sklearn/metrics/scorer.py:90: DeprecationWarning: Scoring method mean_squared_error was renamed to neg_mean_squared_error in version 0.18 and will be removed in 0.20.\n",
      "  sample_weight=sample_weight)\n",
      "/Users/Carter/anaconda/lib/python2.7/site-packages/sklearn/metrics/scorer.py:90: DeprecationWarning: Scoring method mean_squared_error was renamed to neg_mean_squared_error in version 0.18 and will be removed in 0.20.\n",
      "  sample_weight=sample_weight)\n"
     ]
    },
    {
     "data": {
      "text/plain": [
       "GridSearchCV(cv=None, error_score='raise',\n",
       "       estimator=Ridge(alpha=1.0, copy_X=True, fit_intercept=True, max_iter=None,\n",
       "   normalize=False, random_state=None, solver='auto', tol=0.001),\n",
       "       fit_params={}, iid=True, n_jobs=1,\n",
       "       param_grid={'alpha': array([  0.1    ,   0.12589,   0.15849,   0.19953,   0.25119,   0.31623,\n",
       "         0.39811,   0.50119,   0.63096,   0.79433,   1.     ,   1.25893,\n",
       "         1.58489,   1.99526,   2.51189,   3.16228,   3.98107,   5.01187,\n",
       "         6.30957,   7.94328,  10.     ])},\n",
       "       pre_dispatch='2*n_jobs', refit=True, scoring='mean_squared_error',\n",
       "       verbose=0)"
      ]
     },
     "execution_count": 42,
     "metadata": {},
     "output_type": "execute_result"
    }
   ],
   "source": [
    "from sklearn import grid_search\n",
    "\n",
    "alphas = np.logspace(-1, 1, 21)\n",
    "gs = grid_search.GridSearchCV(\n",
    "    estimator=linear_model.Ridge(),\n",
    "    param_grid={'alpha': alphas},\n",
    "    scoring='mean_squared_error')\n",
    "\n",
    "gs.fit(X1, Y1)\n"
   ]
  },
  {
   "cell_type": "code",
   "execution_count": 43,
   "metadata": {
    "collapsed": false,
    "scrolled": true
   },
   "outputs": [
    {
     "name": "stdout",
     "output_type": "stream",
     "text": [
      "33.9430217148\n",
      "Ridge(alpha=3.1622776601683795, copy_X=True, fit_intercept=True,\n",
      "   max_iter=None, normalize=False, random_state=None, solver='auto',\n",
      "   tol=0.001)\n"
     ]
    }
   ],
   "source": [
    "print -gs.best_score_ \n",
    "print gs.best_estimator_ "
   ]
  },
  {
   "cell_type": "code",
   "execution_count": null,
   "metadata": {
    "collapsed": false
   },
   "outputs": [],
   "source": []
  },
  {
   "cell_type": "code",
   "execution_count": 44,
   "metadata": {
    "collapsed": false
   },
   "outputs": [
    {
     "data": {
      "text/plain": [
       "{'cv': None,\n",
       " 'error_score': 'raise',\n",
       " 'estimator': Ridge(alpha=1.0, copy_X=True, fit_intercept=True, max_iter=None,\n",
       "    normalize=False, random_state=None, solver='auto', tol=0.001),\n",
       " 'estimator__alpha': 1.0,\n",
       " 'estimator__copy_X': True,\n",
       " 'estimator__fit_intercept': True,\n",
       " 'estimator__max_iter': None,\n",
       " 'estimator__normalize': False,\n",
       " 'estimator__random_state': None,\n",
       " 'estimator__solver': 'auto',\n",
       " 'estimator__tol': 0.001,\n",
       " 'fit_params': {},\n",
       " 'iid': True,\n",
       " 'n_jobs': 1,\n",
       " 'param_grid': {'alpha': array([  0.1       ,   0.12589254,   0.15848932,   0.19952623,\n",
       "           0.25118864,   0.31622777,   0.39810717,   0.50118723,\n",
       "           0.63095734,   0.79432823,   1.        ,   1.25892541,\n",
       "           1.58489319,   1.99526231,   2.51188643,   3.16227766,\n",
       "           3.98107171,   5.01187234,   6.30957344,   7.94328235,  10.        ])},\n",
       " 'pre_dispatch': '2*n_jobs',\n",
       " 'refit': True,\n",
       " 'scoring': 'mean_squared_error',\n",
       " 'verbose': 0}"
      ]
     },
     "execution_count": 44,
     "metadata": {},
     "output_type": "execute_result"
    }
   ],
   "source": [
    "gs.get_params()"
   ]
  },
  {
   "cell_type": "markdown",
   "metadata": {
    "collapsed": false
   },
   "source": [
    "### What coefficients did Grid Search think were most valuable?"
   ]
  },
  {
   "cell_type": "code",
   "execution_count": 45,
   "metadata": {
    "collapsed": false
   },
   "outputs": [
    {
     "data": {
      "text/plain": [
       "array([ -1.27620312e+00,  -6.61690768e-01,  -5.36447317e-01,\n",
       "        -9.17592193e-01,  -1.28318995e+00,   4.67512335e+00,\n",
       "         5.30686256e-03,   4.01697633e-01,  -2.38330919e-03,\n",
       "        -2.43446306e-03,   3.08722425e-01,   7.43828134e-03,\n",
       "         5.20220001e-03,   5.30311653e+00,  -1.82867347e-03,\n",
       "         6.66616748e-03,  -3.20372411e-01,  -5.20387903e-03,\n",
       "        -1.49650163e-02,   4.11932083e-04,  -4.21338250e-02,\n",
       "        -5.87964231e-04,   1.73668519e-01,   1.11827939e-02,\n",
       "        -2.69736836e-03,   4.30262728e-01])"
      ]
     },
     "execution_count": 45,
     "metadata": {},
     "output_type": "execute_result"
    }
   ],
   "source": [
    "gs.best_estimator_.coef_"
   ]
  },
  {
   "cell_type": "code",
   "execution_count": 46,
   "metadata": {
    "collapsed": false,
    "scrolled": false
   },
   "outputs": [
    {
     "data": {
      "text/html": [
       "<div>\n",
       "<table border=\"1\" class=\"dataframe\">\n",
       "  <thead>\n",
       "    <tr style=\"text-align: right;\">\n",
       "      <th></th>\n",
       "      <th>abs_coef</th>\n",
       "      <th>coef</th>\n",
       "      <th>features</th>\n",
       "    </tr>\n",
       "  </thead>\n",
       "  <tbody>\n",
       "    <tr>\n",
       "      <th>13</th>\n",
       "      <td>5.303117</td>\n",
       "      <td>5.303117</td>\n",
       "      <td>FG%_C</td>\n",
       "    </tr>\n",
       "    <tr>\n",
       "      <th>5</th>\n",
       "      <td>4.675123</td>\n",
       "      <td>4.675123</td>\n",
       "      <td>nan</td>\n",
       "    </tr>\n",
       "    <tr>\n",
       "      <th>4</th>\n",
       "      <td>1.283190</td>\n",
       "      <td>-1.283190</td>\n",
       "      <td>SG</td>\n",
       "    </tr>\n",
       "    <tr>\n",
       "      <th>0</th>\n",
       "      <td>1.276203</td>\n",
       "      <td>-1.276203</td>\n",
       "      <td>C</td>\n",
       "    </tr>\n",
       "    <tr>\n",
       "      <th>3</th>\n",
       "      <td>0.917592</td>\n",
       "      <td>-0.917592</td>\n",
       "      <td>SF</td>\n",
       "    </tr>\n",
       "    <tr>\n",
       "      <th>1</th>\n",
       "      <td>0.661691</td>\n",
       "      <td>-0.661691</td>\n",
       "      <td>PF</td>\n",
       "    </tr>\n",
       "    <tr>\n",
       "      <th>2</th>\n",
       "      <td>0.536447</td>\n",
       "      <td>-0.536447</td>\n",
       "      <td>PG</td>\n",
       "    </tr>\n",
       "    <tr>\n",
       "      <th>25</th>\n",
       "      <td>0.430263</td>\n",
       "      <td>0.430263</td>\n",
       "      <td>TRB_per_g_C</td>\n",
       "    </tr>\n",
       "    <tr>\n",
       "      <th>7</th>\n",
       "      <td>0.401698</td>\n",
       "      <td>0.401698</td>\n",
       "      <td>3P%_C</td>\n",
       "    </tr>\n",
       "    <tr>\n",
       "      <th>16</th>\n",
       "      <td>0.320372</td>\n",
       "      <td>-0.320372</td>\n",
       "      <td>FT%_C</td>\n",
       "    </tr>\n",
       "    <tr>\n",
       "      <th>10</th>\n",
       "      <td>0.308722</td>\n",
       "      <td>0.308722</td>\n",
       "      <td>AST_per_g_C</td>\n",
       "    </tr>\n",
       "    <tr>\n",
       "      <th>22</th>\n",
       "      <td>0.173669</td>\n",
       "      <td>0.173669</td>\n",
       "      <td>PTS_per_g_C</td>\n",
       "    </tr>\n",
       "    <tr>\n",
       "      <th>20</th>\n",
       "      <td>0.042134</td>\n",
       "      <td>-0.042134</td>\n",
       "      <td>MP_per_g_C</td>\n",
       "    </tr>\n",
       "    <tr>\n",
       "      <th>18</th>\n",
       "      <td>0.014965</td>\n",
       "      <td>-0.014965</td>\n",
       "      <td>G_C</td>\n",
       "    </tr>\n",
       "    <tr>\n",
       "      <th>23</th>\n",
       "      <td>0.011183</td>\n",
       "      <td>0.011183</td>\n",
       "      <td>STL_C</td>\n",
       "    </tr>\n",
       "    <tr>\n",
       "      <th>11</th>\n",
       "      <td>0.007438</td>\n",
       "      <td>0.007438</td>\n",
       "      <td>BLK_C</td>\n",
       "    </tr>\n",
       "    <tr>\n",
       "      <th>15</th>\n",
       "      <td>0.006666</td>\n",
       "      <td>0.006666</td>\n",
       "      <td>FT_C</td>\n",
       "    </tr>\n",
       "    <tr>\n",
       "      <th>6</th>\n",
       "      <td>0.005307</td>\n",
       "      <td>0.005307</td>\n",
       "      <td>3P_C</td>\n",
       "    </tr>\n",
       "    <tr>\n",
       "      <th>17</th>\n",
       "      <td>0.005204</td>\n",
       "      <td>-0.005204</td>\n",
       "      <td>FTA_C</td>\n",
       "    </tr>\n",
       "    <tr>\n",
       "      <th>12</th>\n",
       "      <td>0.005202</td>\n",
       "      <td>0.005202</td>\n",
       "      <td>FG_C</td>\n",
       "    </tr>\n",
       "    <tr>\n",
       "      <th>24</th>\n",
       "      <td>0.002697</td>\n",
       "      <td>-0.002697</td>\n",
       "      <td>TRB_C</td>\n",
       "    </tr>\n",
       "    <tr>\n",
       "      <th>9</th>\n",
       "      <td>0.002434</td>\n",
       "      <td>-0.002434</td>\n",
       "      <td>AST_C</td>\n",
       "    </tr>\n",
       "    <tr>\n",
       "      <th>8</th>\n",
       "      <td>0.002383</td>\n",
       "      <td>-0.002383</td>\n",
       "      <td>3PA_C</td>\n",
       "    </tr>\n",
       "    <tr>\n",
       "      <th>14</th>\n",
       "      <td>0.001829</td>\n",
       "      <td>-0.001829</td>\n",
       "      <td>FGA_C</td>\n",
       "    </tr>\n",
       "    <tr>\n",
       "      <th>21</th>\n",
       "      <td>0.000588</td>\n",
       "      <td>-0.000588</td>\n",
       "      <td>PTS_C</td>\n",
       "    </tr>\n",
       "    <tr>\n",
       "      <th>19</th>\n",
       "      <td>0.000412</td>\n",
       "      <td>0.000412</td>\n",
       "      <td>MP_C</td>\n",
       "    </tr>\n",
       "  </tbody>\n",
       "</table>\n",
       "</div>"
      ],
      "text/plain": [
       "    abs_coef      coef     features\n",
       "13  5.303117  5.303117        FG%_C\n",
       "5   4.675123  4.675123          nan\n",
       "4   1.283190 -1.283190           SG\n",
       "0   1.276203 -1.276203            C\n",
       "3   0.917592 -0.917592           SF\n",
       "1   0.661691 -0.661691           PF\n",
       "2   0.536447 -0.536447           PG\n",
       "25  0.430263  0.430263  TRB_per_g_C\n",
       "7   0.401698  0.401698        3P%_C\n",
       "16  0.320372 -0.320372        FT%_C\n",
       "10  0.308722  0.308722  AST_per_g_C\n",
       "22  0.173669  0.173669  PTS_per_g_C\n",
       "20  0.042134 -0.042134   MP_per_g_C\n",
       "18  0.014965 -0.014965          G_C\n",
       "23  0.011183  0.011183        STL_C\n",
       "11  0.007438  0.007438        BLK_C\n",
       "15  0.006666  0.006666         FT_C\n",
       "6   0.005307  0.005307         3P_C\n",
       "17  0.005204 -0.005204        FTA_C\n",
       "12  0.005202  0.005202         FG_C\n",
       "24  0.002697 -0.002697        TRB_C\n",
       "9   0.002434 -0.002434        AST_C\n",
       "8   0.002383 -0.002383        3PA_C\n",
       "14  0.001829 -0.001829        FGA_C\n",
       "21  0.000588 -0.000588        PTS_C\n",
       "19  0.000412  0.000412         MP_C"
      ]
     },
     "execution_count": 46,
     "metadata": {},
     "output_type": "execute_result"
    }
   ],
   "source": [
    "pd.DataFrame({'features':X1.columns,'coef':gs.best_estimator_.coef_, 'abs_coef':abs(gs.best_estimator_.coef_)}).sort_values('abs_coef', ascending=False)"
   ]
  },
  {
   "cell_type": "code",
   "execution_count": 47,
   "metadata": {
    "collapsed": false
   },
   "outputs": [],
   "source": [
    "from sklearn import preprocessing\n",
    "from sklearn import utils\n",
    "\n"
   ]
  },
  {
   "cell_type": "code",
   "execution_count": null,
   "metadata": {
    "collapsed": false
   },
   "outputs": [],
   "source": []
  },
  {
   "cell_type": "markdown",
   "metadata": {},
   "source": [
    "### Due to fact that data set has so many variables, attempting PCA so reduce multicollinearity"
   ]
  },
  {
   "cell_type": "code",
   "execution_count": 48,
   "metadata": {
    "collapsed": false
   },
   "outputs": [
    {
     "data": {
      "text/plain": [
       "(3168, 26)"
      ]
     },
     "execution_count": 48,
     "metadata": {},
     "output_type": "execute_result"
    }
   ],
   "source": [
    "X1.shape"
   ]
  },
  {
   "cell_type": "code",
   "execution_count": 49,
   "metadata": {
    "collapsed": false
   },
   "outputs": [
    {
     "name": "stdout",
     "output_type": "stream",
     "text": [
      "initial shape:  (3168, 26)\n",
      "new feature data after PCA:  (3168, 3)\n",
      "explained variance ratio (first two components): [ 0.7319853   0.16661581  0.06267287]\n"
     ]
    }
   ],
   "source": [
    "from sklearn import decomposition\n",
    "\n",
    "print \"initial shape: \", X1.shape\n",
    "pca = decomposition.PCA(n_components=3)\n",
    "X_r = pca.fit_transform(X1)\n",
    "\n",
    "print \"new feature data after PCA: \", X_r.shape\n",
    "\n",
    "# Percentage of variance explained for each components\n",
    "print('explained variance ratio (first two components): %s'\n",
    "      % str(pca.explained_variance_ratio_))"
   ]
  },
  {
   "cell_type": "code",
   "execution_count": 50,
   "metadata": {
    "collapsed": false
   },
   "outputs": [
    {
     "data": {
      "text/plain": [
       "array([[  773.95248495,    71.89474718,    80.35315136],\n",
       "       [ -481.09023236,  1228.78018113,   625.36250544],\n",
       "       [ -109.24244205,   581.50111416,  -538.80383648],\n",
       "       ..., \n",
       "       [  693.22216415,    11.08249183,   188.86010583],\n",
       "       [  -20.01635243,   170.95624036,   348.201547  ],\n",
       "       [ 2504.73188409,   -87.54471194,    -7.24505657]])"
      ]
     },
     "execution_count": 50,
     "metadata": {},
     "output_type": "execute_result"
    }
   ],
   "source": [
    "X_r"
   ]
  },
  {
   "cell_type": "code",
   "execution_count": 51,
   "metadata": {
    "collapsed": false
   },
   "outputs": [
    {
     "data": {
      "text/plain": [
       "array([ 1184573.0638036 ,   269634.6524387 ,   101423.61130391])"
      ]
     },
     "execution_count": 51,
     "metadata": {},
     "output_type": "execute_result"
    }
   ],
   "source": [
    "pca.explained_variance_\n",
    "# below are eigan values\n"
   ]
  },
  {
   "cell_type": "code",
   "execution_count": 52,
   "metadata": {
    "collapsed": false
   },
   "outputs": [
    {
     "data": {
      "text/plain": [
       "<matplotlib.text.Text at 0x114174cd0>"
      ]
     },
     "execution_count": 52,
     "metadata": {},
     "output_type": "execute_result"
    },
    {
     "data": {
      "image/png": "[encoded data removed]",
      "text/plain": [
       "<matplotlib.figure.Figure at 0x10597e4d0>"
      ]
     },
     "metadata": {},
     "output_type": "display_data"
    }
   ],
   "source": [
    "plt.plot(pca.explained_variance_ratio_)\n",
    "plt.title('Variance explained by each principal component')\n",
    "plt.ylabel(' % Variance Explained')\n",
    "plt.xlabel('Principal component')"
   ]
  },
  {
   "cell_type": "markdown",
   "metadata": {
    "collapsed": true
   },
   "source": []
  },
  {
   "cell_type": "code",
   "execution_count": 53,
   "metadata": {
    "collapsed": false
   },
   "outputs": [],
   "source": [
    "X_reconstituted = pca.inverse_transform(X_r)\n"
   ]
  },
  {
   "cell_type": "code",
   "execution_count": 54,
   "metadata": {
    "collapsed": false
   },
   "outputs": [
    {
     "data": {
      "text/plain": [
       "<matplotlib.collections.PathCollection at 0x11885dad0>"
      ]
     },
     "execution_count": 54,
     "metadata": {},
     "output_type": "execute_result"
    },
    {
     "data": {
      "image/png": "[encoded data removed]",
      "text/plain": [
       "<matplotlib.figure.Figure at 0x1118ccd50>"
      ]
     },
     "metadata": {},
     "output_type": "display_data"
    }
   ],
   "source": [
    "plt.scatter(X_reconstituted[:,1], X_reconstituted[:,3])"
   ]
  },
  {
   "cell_type": "markdown",
   "metadata": {},
   "source": [
    "### Knn with PCA'd data"
   ]
  },
  {
   "cell_type": "code",
   "execution_count": 91,
   "metadata": {
    "collapsed": false
   },
   "outputs": [
    {
     "data": {
      "text/plain": [
       "0.084150227920707102"
      ]
     },
     "execution_count": 91,
     "metadata": {},
     "output_type": "execute_result"
    }
   ],
   "source": [
    "knn = KNeighborsClassifier(n_neighbors=10)\n",
    "cross_val_score(knn, X_r, yknn, cv=3, scoring='accuracy').mean()"
   ]
  },
  {
   "cell_type": "markdown",
   "metadata": {},
   "source": [
    "##### Curious Comparsion of regression with PCA'd data"
   ]
  },
  {
   "cell_type": "code",
   "execution_count": 71,
   "metadata": {
    "collapsed": false,
    "scrolled": true
   },
   "outputs": [
    {
     "name": "stdout",
     "output_type": "stream",
     "text": [
      "~~~ OLS ~~~\n",
      "OLS MSE:  35.7626352268\n",
      "OLS R2: 0.0141243288273\n",
      "~~~ Lasso ~~~\n",
      "Lasso MSE:  35.7626496522\n",
      "Lasso R2: 0.0141239311611\n",
      "~~~ Ridge ~~~\n",
      "Ridge MSE:  35.7626352268\n",
      "Ridge R2: 0.0141243288273\n"
     ]
    }
   ],
   "source": [
    "lm = linear_model.LinearRegression().fit(X_r, Y1)\n",
    "print \"~~~ OLS ~~~\"\n",
    "print 'OLS MSE: ', metrics.mean_squared_error(Y1, lm.predict(X_r))\n",
    "print 'OLS R2:', lm.score(X_r, Y1)\n",
    "\n",
    "lm = linear_model.Lasso().fit(X_r, Y1)\n",
    "print \"~~~ Lasso ~~~\"\n",
    "print 'Lasso MSE: ', metrics.mean_squared_error(Y1, lm.predict(X_r))\n",
    "print 'Lasso R2:', lm.score(X_r, Y1)\n",
    "\n",
    "lm = linear_model.Ridge().fit(X_r, Y1)\n",
    "print \"~~~ Ridge ~~~\"\n",
    "print 'Ridge MSE: ', metrics.mean_squared_error(Y1, lm.predict(X_r))\n",
    "print 'Ridge R2:', lm.score(X_r, Y1)"
   ]
  },
  {
   "cell_type": "markdown",
   "metadata": {},
   "source": [
    "### sklearn Polynomial Features"
   ]
  },
  {
   "cell_type": "code",
   "execution_count": 74,
   "metadata": {
    "collapsed": false
   },
   "outputs": [
    {
     "data": {
      "text/plain": [
       "(3168, 26)"
      ]
     },
     "execution_count": 74,
     "metadata": {},
     "output_type": "execute_result"
    }
   ],
   "source": [
    "X1.shape"
   ]
  },
  {
   "cell_type": "code",
   "execution_count": 75,
   "metadata": {
    "collapsed": true
   },
   "outputs": [],
   "source": [
    "from sklearn.preprocessing import PolynomialFeatures"
   ]
  },
  {
   "cell_type": "code",
   "execution_count": 76,
   "metadata": {
    "collapsed": true
   },
   "outputs": [],
   "source": [
    "poly = PolynomialFeatures(3)"
   ]
  },
  {
   "cell_type": "code",
   "execution_count": 77,
   "metadata": {
    "collapsed": false
   },
   "outputs": [
    {
     "data": {
      "text/plain": [
       "PolynomialFeatures(degree=3, include_bias=True, interaction_only=False)"
      ]
     },
     "execution_count": 77,
     "metadata": {},
     "output_type": "execute_result"
    }
   ],
   "source": [
    "poly.fit(X1)"
   ]
  },
  {
   "cell_type": "code",
   "execution_count": 78,
   "metadata": {
    "collapsed": false
   },
   "outputs": [],
   "source": [
    "features = X1.columns.tolist()"
   ]
  },
  {
   "cell_type": "code",
   "execution_count": 79,
   "metadata": {
    "collapsed": false
   },
   "outputs": [],
   "source": [
    "polynames = poly.get_feature_names(X1.columns)"
   ]
  },
  {
   "cell_type": "code",
   "execution_count": 80,
   "metadata": {
    "collapsed": false
   },
   "outputs": [],
   "source": [
    "X1_poly = poly.fit_transform(X1)"
   ]
  },
  {
   "cell_type": "code",
   "execution_count": 81,
   "metadata": {
    "collapsed": false
   },
   "outputs": [
    {
     "data": {
      "text/plain": [
       "(3168, 3654)"
      ]
     },
     "execution_count": 81,
     "metadata": {},
     "output_type": "execute_result"
    }
   ],
   "source": [
    "X1_poly.shape"
   ]
  },
  {
   "cell_type": "markdown",
   "metadata": {},
   "source": [
    "##### ugh, more variables than observations"
   ]
  },
  {
   "cell_type": "code",
   "execution_count": 82,
   "metadata": {
    "collapsed": false
   },
   "outputs": [],
   "source": [
    "lm = linear_model.Ridge(normalize=True).fit(X1_poly, Y1)"
   ]
  },
  {
   "cell_type": "code",
   "execution_count": 83,
   "metadata": {
    "collapsed": false,
    "scrolled": true
   },
   "outputs": [
    {
     "data": {
      "text/plain": [
       "0.12909129015219034"
      ]
     },
     "execution_count": 83,
     "metadata": {},
     "output_type": "execute_result"
    }
   ],
   "source": [
    "lm.score(X1_poly, Y1)"
   ]
  },
  {
   "cell_type": "code",
   "execution_count": 84,
   "metadata": {
    "collapsed": true
   },
   "outputs": [],
   "source": [
    "X1_train, X1_test, y1_train, y1_test = train_test_split(X1_poly, Y1, test_size=0.25)"
   ]
  },
  {
   "cell_type": "code",
   "execution_count": null,
   "metadata": {
    "collapsed": true
   },
   "outputs": [],
   "source": []
  },
  {
   "cell_type": "code",
   "execution_count": 85,
   "metadata": {
    "collapsed": false
   },
   "outputs": [
    {
     "name": "stdout",
     "output_type": "stream",
     "text": [
      "~~~ Ridge ~~~\n",
      "Ridge MSE:  27.2921588842\n",
      "Ridge R2: 0.11496603885\n"
     ]
    }
   ],
   "source": [
    "lm_poly = linear_model.Ridge(normalize=True).fit(X1_train, y1_train)\n",
    "print \"~~~ Ridge ~~~\"\n",
    "print 'Ridge MSE: ', metrics.mean_squared_error(y1_test, lm.predict(X1_test))\n",
    "print 'Ridge R2:', lm.score(X1_test, y1_test)"
   ]
  },
  {
   "cell_type": "code",
   "execution_count": 86,
   "metadata": {
    "collapsed": true
   },
   "outputs": [],
   "source": [
    "### Cool, slight improvement"
   ]
  },
  {
   "cell_type": "code",
   "execution_count": 87,
   "metadata": {
    "collapsed": false,
    "scrolled": true
   },
   "outputs": [
    {
     "data": {
      "text/plain": [
       "array([  0.00000000e+00,  -4.28167816e-02,   3.24483886e-02, ...,\n",
       "        -1.90468818e-09,  -1.59150320e-07,  -4.79910781e-07])"
      ]
     },
     "execution_count": 87,
     "metadata": {},
     "output_type": "execute_result"
    }
   ],
   "source": [
    "lm.coef_"
   ]
  },
  {
   "cell_type": "code",
   "execution_count": 88,
   "metadata": {
    "collapsed": false
   },
   "outputs": [
    {
     "data": {
      "text/plain": [
       "['C',\n",
       " 'PF',\n",
       " 'PG',\n",
       " 'SF',\n",
       " 'SG',\n",
       " 'nan',\n",
       " '3P_C',\n",
       " '3P%_C',\n",
       " '3PA_C',\n",
       " 'AST_C',\n",
       " 'AST_per_g_C',\n",
       " 'BLK_C',\n",
       " 'FG_C',\n",
       " 'FG%_C',\n",
       " 'FGA_C',\n",
       " 'FT_C',\n",
       " 'FT%_C',\n",
       " 'FTA_C',\n",
       " 'G_C',\n",
       " 'MP_C',\n",
       " 'MP_per_g_C',\n",
       " 'PTS_C',\n",
       " 'PTS_per_g_C',\n",
       " 'STL_C',\n",
       " 'TRB_C',\n",
       " 'TRB_per_g_C']"
      ]
     },
     "execution_count": 88,
     "metadata": {},
     "output_type": "execute_result"
    }
   ],
   "source": [
    "X1.columns.tolist()"
   ]
  },
  {
   "cell_type": "markdown",
   "metadata": {},
   "source": [
    "### Coefficienct interpretation for Polynomial model output: one standard deviation of the x leads to one standard deviation change in y "
   ]
  },
  {
   "cell_type": "code",
   "execution_count": 89,
   "metadata": {
    "collapsed": false,
    "scrolled": false
   },
   "outputs": [
    {
     "data": {
      "text/html": [
       "<div>\n",
       "<table border=\"1\" class=\"dataframe\">\n",
       "  <thead>\n",
       "    <tr style=\"text-align: right;\">\n",
       "      <th></th>\n",
       "      <th>abs_coef</th>\n",
       "      <th>coef</th>\n",
       "      <th>features</th>\n",
       "    </tr>\n",
       "  </thead>\n",
       "  <tbody>\n",
       "    <tr>\n",
       "      <th>14</th>\n",
       "      <td>1.473742e+00</td>\n",
       "      <td>1.473742e+00</td>\n",
       "      <td>FG%_C</td>\n",
       "    </tr>\n",
       "    <tr>\n",
       "      <th>2423</th>\n",
       "      <td>9.973334e-01</td>\n",
       "      <td>-9.973334e-01</td>\n",
       "      <td>3P%_C FG%_C^2</td>\n",
       "    </tr>\n",
       "    <tr>\n",
       "      <th>1164</th>\n",
       "      <td>7.799061e-01</td>\n",
       "      <td>7.799061e-01</td>\n",
       "      <td>PG 3P%_C^2</td>\n",
       "    </tr>\n",
       "    <tr>\n",
       "      <th>1440</th>\n",
       "      <td>7.351458e-01</td>\n",
       "      <td>-7.351458e-01</td>\n",
       "      <td>SF 3P%_C^2</td>\n",
       "    </tr>\n",
       "    <tr>\n",
       "      <th>287</th>\n",
       "      <td>6.418311e-01</td>\n",
       "      <td>6.418311e-01</td>\n",
       "      <td>FG%_C^2</td>\n",
       "    </tr>\n",
       "    <tr>\n",
       "      <th>2426</th>\n",
       "      <td>6.215348e-01</td>\n",
       "      <td>-6.215348e-01</td>\n",
       "      <td>3P%_C FG%_C FT%_C</td>\n",
       "    </tr>\n",
       "    <tr>\n",
       "      <th>194</th>\n",
       "      <td>5.821741e-01</td>\n",
       "      <td>-5.821741e-01</td>\n",
       "      <td>3P%_C FG%_C</td>\n",
       "    </tr>\n",
       "    <tr>\n",
       "      <th>1693</th>\n",
       "      <td>4.897866e-01</td>\n",
       "      <td>-4.897866e-01</td>\n",
       "      <td>SG 3P%_C^2</td>\n",
       "    </tr>\n",
       "    <tr>\n",
       "      <th>8</th>\n",
       "      <td>4.786468e-01</td>\n",
       "      <td>-4.786468e-01</td>\n",
       "      <td>3P%_C</td>\n",
       "    </tr>\n",
       "    <tr>\n",
       "      <th>2324</th>\n",
       "      <td>4.763213e-01</td>\n",
       "      <td>-4.763213e-01</td>\n",
       "      <td>3P%_C^3</td>\n",
       "    </tr>\n",
       "    <tr>\n",
       "      <th>1170</th>\n",
       "      <td>4.580268e-01</td>\n",
       "      <td>4.580268e-01</td>\n",
       "      <td>PG 3P%_C FG%_C</td>\n",
       "    </tr>\n",
       "    <tr>\n",
       "      <th>290</th>\n",
       "      <td>4.039838e-01</td>\n",
       "      <td>4.039838e-01</td>\n",
       "      <td>FG%_C FT%_C</td>\n",
       "    </tr>\n",
       "    <tr>\n",
       "      <th>6</th>\n",
       "      <td>3.963277e-01</td>\n",
       "      <td>3.963277e-01</td>\n",
       "      <td>nan</td>\n",
       "    </tr>\n",
       "    <tr>\n",
       "      <th>147</th>\n",
       "      <td>3.963277e-01</td>\n",
       "      <td>3.963277e-01</td>\n",
       "      <td>nan^2</td>\n",
       "    </tr>\n",
       "    <tr>\n",
       "      <th>1883</th>\n",
       "      <td>3.963277e-01</td>\n",
       "      <td>3.963277e-01</td>\n",
       "      <td>nan^3</td>\n",
       "    </tr>\n",
       "    <tr>\n",
       "      <th>539</th>\n",
       "      <td>3.858963e-01</td>\n",
       "      <td>-3.858963e-01</td>\n",
       "      <td>C 3P%_C^2</td>\n",
       "    </tr>\n",
       "    <tr>\n",
       "      <th>155</th>\n",
       "      <td>3.779996e-01</td>\n",
       "      <td>3.779996e-01</td>\n",
       "      <td>nan FG%_C</td>\n",
       "    </tr>\n",
       "    <tr>\n",
       "      <th>1891</th>\n",
       "      <td>3.779996e-01</td>\n",
       "      <td>3.779996e-01</td>\n",
       "      <td>nan^2 FG%_C</td>\n",
       "    </tr>\n",
       "    <tr>\n",
       "      <th>197</th>\n",
       "      <td>3.766920e-01</td>\n",
       "      <td>-3.766920e-01</td>\n",
       "      <td>3P%_C FT%_C</td>\n",
       "    </tr>\n",
       "    <tr>\n",
       "      <th>545</th>\n",
       "      <td>3.464592e-01</td>\n",
       "      <td>-3.464592e-01</td>\n",
       "      <td>C 3P%_C FG%_C</td>\n",
       "    </tr>\n",
       "    <tr>\n",
       "      <th>864</th>\n",
       "      <td>3.417155e-01</td>\n",
       "      <td>3.417155e-01</td>\n",
       "      <td>PF 3P%_C^2</td>\n",
       "    </tr>\n",
       "    <tr>\n",
       "      <th>2023</th>\n",
       "      <td>3.179881e-01</td>\n",
       "      <td>3.179881e-01</td>\n",
       "      <td>nan FG%_C^2</td>\n",
       "    </tr>\n",
       "    <tr>\n",
       "      <th>188</th>\n",
       "      <td>3.157558e-01</td>\n",
       "      <td>-3.157558e-01</td>\n",
       "      <td>3P%_C^2</td>\n",
       "    </tr>\n",
       "    <tr>\n",
       "      <th>2333</th>\n",
       "      <td>3.035534e-01</td>\n",
       "      <td>-3.035534e-01</td>\n",
       "      <td>3P%_C^2 FT%_C</td>\n",
       "    </tr>\n",
       "    <tr>\n",
       "      <th>1446</th>\n",
       "      <td>2.896466e-01</td>\n",
       "      <td>-2.896466e-01</td>\n",
       "      <td>SF 3P%_C FG%_C</td>\n",
       "    </tr>\n",
       "    <tr>\n",
       "      <th>34</th>\n",
       "      <td>2.873919e-01</td>\n",
       "      <td>-2.873919e-01</td>\n",
       "      <td>C 3P%_C</td>\n",
       "    </tr>\n",
       "    <tr>\n",
       "      <th>385</th>\n",
       "      <td>2.873919e-01</td>\n",
       "      <td>-2.873919e-01</td>\n",
       "      <td>C^2 3P%_C</td>\n",
       "    </tr>\n",
       "    <tr>\n",
       "      <th>2459</th>\n",
       "      <td>2.793290e-01</td>\n",
       "      <td>-2.793290e-01</td>\n",
       "      <td>3P%_C FT%_C^2</td>\n",
       "    </tr>\n",
       "    <tr>\n",
       "      <th>870</th>\n",
       "      <td>2.778905e-01</td>\n",
       "      <td>-2.778905e-01</td>\n",
       "      <td>PF 3P%_C FG%_C</td>\n",
       "    </tr>\n",
       "    <tr>\n",
       "      <th>2330</th>\n",
       "      <td>2.239209e-01</td>\n",
       "      <td>-2.239209e-01</td>\n",
       "      <td>3P%_C^2 FG%_C</td>\n",
       "    </tr>\n",
       "    <tr>\n",
       "      <th>...</th>\n",
       "      <td>...</td>\n",
       "      <td>...</td>\n",
       "      <td>...</td>\n",
       "    </tr>\n",
       "    <tr>\n",
       "      <th>2612</th>\n",
       "      <td>1.901448e-12</td>\n",
       "      <td>-1.901448e-12</td>\n",
       "      <td>3PA_C FGA_C MP_C</td>\n",
       "    </tr>\n",
       "    <tr>\n",
       "      <th>2617</th>\n",
       "      <td>1.873673e-12</td>\n",
       "      <td>1.873673e-12</td>\n",
       "      <td>3PA_C FGA_C TRB_C</td>\n",
       "    </tr>\n",
       "    <tr>\n",
       "      <th>3299</th>\n",
       "      <td>1.845387e-12</td>\n",
       "      <td>1.845387e-12</td>\n",
       "      <td>FGA_C^2 STL_C</td>\n",
       "    </tr>\n",
       "    <tr>\n",
       "      <th>3176</th>\n",
       "      <td>1.704150e-12</td>\n",
       "      <td>1.704150e-12</td>\n",
       "      <td>FG_C MP_C TRB_C</td>\n",
       "    </tr>\n",
       "    <tr>\n",
       "      <th>3068</th>\n",
       "      <td>1.696590e-12</td>\n",
       "      <td>-1.696590e-12</td>\n",
       "      <td>BLK_C MP_C PTS_C</td>\n",
       "    </tr>\n",
       "    <tr>\n",
       "      <th>2587</th>\n",
       "      <td>1.686510e-12</td>\n",
       "      <td>-1.686510e-12</td>\n",
       "      <td>3PA_C FG_C MP_C</td>\n",
       "    </tr>\n",
       "    <tr>\n",
       "      <th>3122</th>\n",
       "      <td>1.579748e-12</td>\n",
       "      <td>-1.579748e-12</td>\n",
       "      <td>FG_C FGA_C FT_C</td>\n",
       "    </tr>\n",
       "    <tr>\n",
       "      <th>2721</th>\n",
       "      <td>1.566597e-12</td>\n",
       "      <td>-1.566597e-12</td>\n",
       "      <td>AST_C BLK_C FGA_C</td>\n",
       "    </tr>\n",
       "    <tr>\n",
       "      <th>3340</th>\n",
       "      <td>1.552800e-12</td>\n",
       "      <td>-1.552800e-12</td>\n",
       "      <td>FGA_C MP_C^2</td>\n",
       "    </tr>\n",
       "    <tr>\n",
       "      <th>3311</th>\n",
       "      <td>1.470551e-12</td>\n",
       "      <td>1.470551e-12</td>\n",
       "      <td>FGA_C FT_C TRB_C</td>\n",
       "    </tr>\n",
       "    <tr>\n",
       "      <th>2812</th>\n",
       "      <td>1.452345e-12</td>\n",
       "      <td>1.452345e-12</td>\n",
       "      <td>AST_C MP_C PTS_C</td>\n",
       "    </tr>\n",
       "    <tr>\n",
       "      <th>3139</th>\n",
       "      <td>1.424550e-12</td>\n",
       "      <td>1.424550e-12</td>\n",
       "      <td>FG_C FT_C PTS_C</td>\n",
       "    </tr>\n",
       "    <tr>\n",
       "      <th>3401</th>\n",
       "      <td>1.097380e-12</td>\n",
       "      <td>-1.097380e-12</td>\n",
       "      <td>FT_C G_C PTS_C</td>\n",
       "    </tr>\n",
       "    <tr>\n",
       "      <th>3572</th>\n",
       "      <td>9.828882e-13</td>\n",
       "      <td>-9.828882e-13</td>\n",
       "      <td>MP_C^2 PTS_C</td>\n",
       "    </tr>\n",
       "    <tr>\n",
       "      <th>3355</th>\n",
       "      <td>9.504835e-13</td>\n",
       "      <td>9.504835e-13</td>\n",
       "      <td>FGA_C PTS_C STL_C</td>\n",
       "    </tr>\n",
       "    <tr>\n",
       "      <th>3171</th>\n",
       "      <td>8.236588e-13</td>\n",
       "      <td>-8.236588e-13</td>\n",
       "      <td>FG_C MP_C^2</td>\n",
       "    </tr>\n",
       "    <tr>\n",
       "      <th>3619</th>\n",
       "      <td>8.199369e-13</td>\n",
       "      <td>8.199369e-13</td>\n",
       "      <td>PTS_C^3</td>\n",
       "    </tr>\n",
       "    <tr>\n",
       "      <th>3575</th>\n",
       "      <td>8.158024e-13</td>\n",
       "      <td>-8.158024e-13</td>\n",
       "      <td>MP_C^2 TRB_C</td>\n",
       "    </tr>\n",
       "    <tr>\n",
       "      <th>3570</th>\n",
       "      <td>7.847875e-13</td>\n",
       "      <td>-7.847875e-13</td>\n",
       "      <td>MP_C^3</td>\n",
       "    </tr>\n",
       "    <tr>\n",
       "      <th>3353</th>\n",
       "      <td>7.737649e-13</td>\n",
       "      <td>7.737649e-13</td>\n",
       "      <td>FGA_C PTS_C^2</td>\n",
       "    </tr>\n",
       "    <tr>\n",
       "      <th>3586</th>\n",
       "      <td>7.637968e-13</td>\n",
       "      <td>7.637968e-13</td>\n",
       "      <td>MP_C PTS_C TRB_C</td>\n",
       "    </tr>\n",
       "    <tr>\n",
       "      <th>3595</th>\n",
       "      <td>7.443562e-13</td>\n",
       "      <td>7.443562e-13</td>\n",
       "      <td>MP_C TRB_C^2</td>\n",
       "    </tr>\n",
       "    <tr>\n",
       "      <th>3290</th>\n",
       "      <td>7.386619e-13</td>\n",
       "      <td>7.386619e-13</td>\n",
       "      <td>FGA_C^3</td>\n",
       "    </tr>\n",
       "    <tr>\n",
       "      <th>3295</th>\n",
       "      <td>7.019431e-13</td>\n",
       "      <td>-7.019431e-13</td>\n",
       "      <td>FGA_C^2 MP_C</td>\n",
       "    </tr>\n",
       "    <tr>\n",
       "      <th>3297</th>\n",
       "      <td>5.223186e-13</td>\n",
       "      <td>5.223186e-13</td>\n",
       "      <td>FGA_C^2 PTS_C</td>\n",
       "    </tr>\n",
       "    <tr>\n",
       "      <th>2661</th>\n",
       "      <td>5.117617e-13</td>\n",
       "      <td>5.117617e-13</td>\n",
       "      <td>3PA_C MP_C STL_C</td>\n",
       "    </tr>\n",
       "    <tr>\n",
       "      <th>3583</th>\n",
       "      <td>4.229312e-13</td>\n",
       "      <td>4.229312e-13</td>\n",
       "      <td>MP_C PTS_C^2</td>\n",
       "    </tr>\n",
       "    <tr>\n",
       "      <th>3544</th>\n",
       "      <td>3.573583e-13</td>\n",
       "      <td>3.573583e-13</td>\n",
       "      <td>G_C MP_C PTS_C</td>\n",
       "    </tr>\n",
       "    <tr>\n",
       "      <th>3342</th>\n",
       "      <td>1.859740e-13</td>\n",
       "      <td>-1.859740e-13</td>\n",
       "      <td>FGA_C MP_C PTS_C</td>\n",
       "    </tr>\n",
       "    <tr>\n",
       "      <th>3196</th>\n",
       "      <td>1.090426e-13</td>\n",
       "      <td>1.090426e-13</td>\n",
       "      <td>FG_C TRB_C^2</td>\n",
       "    </tr>\n",
       "  </tbody>\n",
       "</table>\n",
       "<p>3101 rows × 3 columns</p>\n",
       "</div>"
      ],
      "text/plain": [
       "          abs_coef          coef           features\n",
       "14    1.473742e+00  1.473742e+00              FG%_C\n",
       "2423  9.973334e-01 -9.973334e-01      3P%_C FG%_C^2\n",
       "1164  7.799061e-01  7.799061e-01         PG 3P%_C^2\n",
       "1440  7.351458e-01 -7.351458e-01         SF 3P%_C^2\n",
       "287   6.418311e-01  6.418311e-01            FG%_C^2\n",
       "2426  6.215348e-01 -6.215348e-01  3P%_C FG%_C FT%_C\n",
       "194   5.821741e-01 -5.821741e-01        3P%_C FG%_C\n",
       "1693  4.897866e-01 -4.897866e-01         SG 3P%_C^2\n",
       "8     4.786468e-01 -4.786468e-01              3P%_C\n",
       "2324  4.763213e-01 -4.763213e-01            3P%_C^3\n",
       "1170  4.580268e-01  4.580268e-01     PG 3P%_C FG%_C\n",
       "290   4.039838e-01  4.039838e-01        FG%_C FT%_C\n",
       "6     3.963277e-01  3.963277e-01                nan\n",
       "147   3.963277e-01  3.963277e-01              nan^2\n",
       "1883  3.963277e-01  3.963277e-01              nan^3\n",
       "539   3.858963e-01 -3.858963e-01          C 3P%_C^2\n",
       "155   3.779996e-01  3.779996e-01          nan FG%_C\n",
       "1891  3.779996e-01  3.779996e-01        nan^2 FG%_C\n",
       "197   3.766920e-01 -3.766920e-01        3P%_C FT%_C\n",
       "545   3.464592e-01 -3.464592e-01      C 3P%_C FG%_C\n",
       "864   3.417155e-01  3.417155e-01         PF 3P%_C^2\n",
       "2023  3.179881e-01  3.179881e-01        nan FG%_C^2\n",
       "188   3.157558e-01 -3.157558e-01            3P%_C^2\n",
       "2333  3.035534e-01 -3.035534e-01      3P%_C^2 FT%_C\n",
       "1446  2.896466e-01 -2.896466e-01     SF 3P%_C FG%_C\n",
       "34    2.873919e-01 -2.873919e-01            C 3P%_C\n",
       "385   2.873919e-01 -2.873919e-01          C^2 3P%_C\n",
       "2459  2.793290e-01 -2.793290e-01      3P%_C FT%_C^2\n",
       "870   2.778905e-01 -2.778905e-01     PF 3P%_C FG%_C\n",
       "2330  2.239209e-01 -2.239209e-01      3P%_C^2 FG%_C\n",
       "...            ...           ...                ...\n",
       "2612  1.901448e-12 -1.901448e-12   3PA_C FGA_C MP_C\n",
       "2617  1.873673e-12  1.873673e-12  3PA_C FGA_C TRB_C\n",
       "3299  1.845387e-12  1.845387e-12      FGA_C^2 STL_C\n",
       "3176  1.704150e-12  1.704150e-12    FG_C MP_C TRB_C\n",
       "3068  1.696590e-12 -1.696590e-12   BLK_C MP_C PTS_C\n",
       "2587  1.686510e-12 -1.686510e-12    3PA_C FG_C MP_C\n",
       "3122  1.579748e-12 -1.579748e-12    FG_C FGA_C FT_C\n",
       "2721  1.566597e-12 -1.566597e-12  AST_C BLK_C FGA_C\n",
       "3340  1.552800e-12 -1.552800e-12       FGA_C MP_C^2\n",
       "3311  1.470551e-12  1.470551e-12   FGA_C FT_C TRB_C\n",
       "2812  1.452345e-12  1.452345e-12   AST_C MP_C PTS_C\n",
       "3139  1.424550e-12  1.424550e-12    FG_C FT_C PTS_C\n",
       "3401  1.097380e-12 -1.097380e-12     FT_C G_C PTS_C\n",
       "3572  9.828882e-13 -9.828882e-13       MP_C^2 PTS_C\n",
       "3355  9.504835e-13  9.504835e-13  FGA_C PTS_C STL_C\n",
       "3171  8.236588e-13 -8.236588e-13        FG_C MP_C^2\n",
       "3619  8.199369e-13  8.199369e-13            PTS_C^3\n",
       "3575  8.158024e-13 -8.158024e-13       MP_C^2 TRB_C\n",
       "3570  7.847875e-13 -7.847875e-13             MP_C^3\n",
       "3353  7.737649e-13  7.737649e-13      FGA_C PTS_C^2\n",
       "3586  7.637968e-13  7.637968e-13   MP_C PTS_C TRB_C\n",
       "3595  7.443562e-13  7.443562e-13       MP_C TRB_C^2\n",
       "3290  7.386619e-13  7.386619e-13            FGA_C^3\n",
       "3295  7.019431e-13 -7.019431e-13       FGA_C^2 MP_C\n",
       "3297  5.223186e-13  5.223186e-13      FGA_C^2 PTS_C\n",
       "2661  5.117617e-13  5.117617e-13   3PA_C MP_C STL_C\n",
       "3583  4.229312e-13  4.229312e-13       MP_C PTS_C^2\n",
       "3544  3.573583e-13  3.573583e-13     G_C MP_C PTS_C\n",
       "3342  1.859740e-13 -1.859740e-13   FGA_C MP_C PTS_C\n",
       "3196  1.090426e-13  1.090426e-13       FG_C TRB_C^2\n",
       "\n",
       "[3101 rows x 3 columns]"
      ]
     },
     "execution_count": 89,
     "metadata": {},
     "output_type": "execute_result"
    }
   ],
   "source": [
    "df_coef = pd.DataFrame({'features':polynames,'coef':lm.coef_, 'abs_coef':abs(lm.coef_)}).sort_values('abs_coef', ascending=False)\n",
    "df_coef[df_coef['abs_coef']>0]\n"
   ]
  },
  {
   "cell_type": "markdown",
   "metadata": {
    "collapsed": true
   },
   "source": [
    "### Random Forest-- couldn't get this to work all the way"
   ]
  },
  {
   "cell_type": "code",
   "execution_count": 69,
   "metadata": {
    "collapsed": true
   },
   "outputs": [],
   "source": [
    "X_train, X_test, y_train, y_test = train_test_split(X1, Y1, test_size=0.25, random_state=42)"
   ]
  },
  {
   "cell_type": "code",
   "execution_count": 70,
   "metadata": {
    "collapsed": true
   },
   "outputs": [],
   "source": [
    "from sklearn.ensemble import RandomForestRegressor\n",
    "from sklearn.feature_selection import SelectFromModel\n",
    "from sklearn.metrics import accuracy_score"
   ]
  },
  {
   "cell_type": "code",
   "execution_count": 71,
   "metadata": {
    "collapsed": true
   },
   "outputs": [],
   "source": [
    "clf = RandomForestRegressor(n_estimators=10000, random_state=0, n_jobs=-1)\n"
   ]
  },
  {
   "cell_type": "code",
   "execution_count": 72,
   "metadata": {
    "collapsed": false
   },
   "outputs": [
    {
     "data": {
      "text/plain": [
       "RandomForestRegressor(bootstrap=True, criterion='mse', max_depth=None,\n",
       "           max_features='auto', max_leaf_nodes=None,\n",
       "           min_impurity_split=1e-07, min_samples_leaf=1,\n",
       "           min_samples_split=2, min_weight_fraction_leaf=0.0,\n",
       "           n_estimators=10000, n_jobs=-1, oob_score=False, random_state=0,\n",
       "           verbose=0, warm_start=False)"
      ]
     },
     "execution_count": 72,
     "metadata": {},
     "output_type": "execute_result"
    }
   ],
   "source": [
    "clf.fit(X_train, y_train)"
   ]
  },
  {
   "cell_type": "code",
   "execution_count": null,
   "metadata": {
    "collapsed": true
   },
   "outputs": [],
   "source": []
  },
  {
   "cell_type": "code",
   "execution_count": 73,
   "metadata": {
    "collapsed": false,
    "scrolled": true
   },
   "outputs": [
    {
     "name": "stdout",
     "output_type": "stream",
     "text": [
      "('C', 0.0027274727829686143)\n",
      "('PF', 0.0044978343563910955)\n",
      "('PG', 0.0022698704400218039)\n",
      "('SF', 0.0074663390727143734)\n",
      "('SG', 0.0041870293464632983)\n",
      "('nan', 0.00012091372676450003)\n",
      "('3P_C', 0.03081643418971413)\n",
      "('3P%_C', 0.036028602186052909)\n",
      "('3PA_C', 0.036308641224041711)\n",
      "('AST_C', 0.050658390925524946)\n",
      "('AST_per_g_C', 0.035626697715152957)\n",
      "('BLK_C', 0.05450759474872223)\n",
      "('FG_C', 0.028417977284019326)\n",
      "('FG%_C', 0.076190363761864791)\n",
      "('FGA_C', 0.033018123013406717)\n",
      "('FT_C', 0.035013908584210607)\n",
      "('FT%_C', 0.050660574622582812)\n",
      "('FTA_C', 0.037208435418807868)\n",
      "('G_C', 0.050309685810567883)\n",
      "('MP_C', 0.039921504046267466)\n",
      "('MP_per_g_C', 0.064528772691687081)\n",
      "('PTS_C', 0.026141861646522095)\n",
      "('PTS_per_g_C', 0.11989771645753348)\n",
      "('STL_C', 0.06614016155931618)\n",
      "('TRB_C', 0.036618718710645176)\n",
      "('TRB_per_g_C', 0.07071637567803564)\n"
     ]
    }
   ],
   "source": [
    "for feature in zip(X1.columns.tolist(), clf.feature_importances_):\n",
    "    print(feature)"
   ]
  },
  {
   "cell_type": "code",
   "execution_count": null,
   "metadata": {
    "collapsed": false
   },
   "outputs": [],
   "source": []
  },
  {
   "cell_type": "code",
   "execution_count": 65,
   "metadata": {
    "collapsed": false
   },
   "outputs": [
    {
     "data": {
      "text/plain": [
       "0.046416599306982054"
      ]
     },
     "execution_count": 65,
     "metadata": {},
     "output_type": "execute_result"
    }
   ],
   "source": [
    "clf.score(X_test, y_test)"
   ]
  },
  {
   "cell_type": "code",
   "execution_count": 264,
   "metadata": {
    "collapsed": false
   },
   "outputs": [
    {
     "data": {
      "text/plain": [
       "SelectFromModel(estimator=RandomForestRegressor(bootstrap=True, criterion='mse', max_depth=None,\n",
       "           max_features='auto', max_leaf_nodes=None,\n",
       "           min_impurity_split=1e-07, min_samples_leaf=1,\n",
       "           min_samples_split=2, min_weight_fraction_leaf=0.0,\n",
       "           n_estimators=10000, n_jobs=-1, oob_score=False, random_state=0,\n",
       "           verbose=0, warm_start=False),\n",
       "        prefit=False, threshold=0.05)"
      ]
     },
     "execution_count": 264,
     "metadata": {},
     "output_type": "execute_result"
    }
   ],
   "source": [
    "# Create a selector object that will use the random forest classifier to identify\n",
    "# features that have an importance of more than 0.15\n",
    "sfm = SelectFromModel(clf, threshold=0.05)\n",
    "\n",
    "# Train the selector\n",
    "sfm.fit(X_train, y_train)\n"
   ]
  },
  {
   "cell_type": "code",
   "execution_count": 265,
   "metadata": {
    "collapsed": false
   },
   "outputs": [
    {
     "name": "stdout",
     "output_type": "stream",
     "text": [
      "AST_C\n",
      "BLK_C\n",
      "FG%_C\n",
      "FT%_C\n",
      "G_C\n",
      "MP_per_g_C\n",
      "PTS_per_g_C\n",
      "STL_C\n",
      "TRB_per_g_C\n"
     ]
    }
   ],
   "source": [
    "for feature_list_index in sfm.get_support(indices=True):\n",
    "    print(X1.columns.tolist()[feature_list_index])"
   ]
  },
  {
   "cell_type": "code",
   "execution_count": 266,
   "metadata": {
    "collapsed": true
   },
   "outputs": [],
   "source": [
    "X_important_train = sfm.transform(X_train)\n",
    "X_important_test = sfm.transform(X_test)"
   ]
  },
  {
   "cell_type": "code",
   "execution_count": 269,
   "metadata": {
    "collapsed": false
   },
   "outputs": [],
   "source": [
    "# Create a new random forest classifier for the most important features\n",
    "clf_important = RandomForestClassifier(n_estimators=10000, random_state=0, n_jobs=-1)\n",
    "\n"
   ]
  },
  {
   "cell_type": "code",
   "execution_count": null,
   "metadata": {
    "collapsed": false
   },
   "outputs": [],
   "source": []
  },
  {
   "cell_type": "code",
   "execution_count": 270,
   "metadata": {
    "collapsed": false
   },
   "outputs": [
    {
     "ename": "ValueError",
     "evalue": "Unknown label type: 'continuous'",
     "output_type": "error",
     "traceback": [
      "\u001b[0;31m---------------------------------------------------------------------------\u001b[0m",
      "\u001b[0;31mValueError\u001b[0m                                Traceback (most recent call last)",
      "\u001b[0;32m<ipython-input-270-fcc5c5042a3c>\u001b[0m in \u001b[0;36m<module>\u001b[0;34m()\u001b[0m\n\u001b[1;32m      1\u001b[0m \u001b[0;31m# Train the new classifier on the new dataset containing the most important features\u001b[0m\u001b[0;34m\u001b[0m\u001b[0;34m\u001b[0m\u001b[0m\n\u001b[0;32m----> 2\u001b[0;31m \u001b[0mclf_important\u001b[0m\u001b[0;34m.\u001b[0m\u001b[0mfit\u001b[0m\u001b[0;34m(\u001b[0m\u001b[0mX_important_train\u001b[0m\u001b[0;34m,\u001b[0m \u001b[0my_train\u001b[0m\u001b[0;34m)\u001b[0m\u001b[0;34m\u001b[0m\u001b[0m\n\u001b[0m",
      "\u001b[0;32m/Users/Carter/anaconda/lib/python2.7/site-packages/sklearn/ensemble/forest.pyc\u001b[0m in \u001b[0;36mfit\u001b[0;34m(self, X, y, sample_weight)\u001b[0m\n\u001b[1;32m    269\u001b[0m         \u001b[0mself\u001b[0m\u001b[0;34m.\u001b[0m\u001b[0mn_outputs_\u001b[0m \u001b[0;34m=\u001b[0m \u001b[0my\u001b[0m\u001b[0;34m.\u001b[0m\u001b[0mshape\u001b[0m\u001b[0;34m[\u001b[0m\u001b[0;36m1\u001b[0m\u001b[0;34m]\u001b[0m\u001b[0;34m\u001b[0m\u001b[0m\n\u001b[1;32m    270\u001b[0m \u001b[0;34m\u001b[0m\u001b[0m\n\u001b[0;32m--> 271\u001b[0;31m         \u001b[0my\u001b[0m\u001b[0;34m,\u001b[0m \u001b[0mexpanded_class_weight\u001b[0m \u001b[0;34m=\u001b[0m \u001b[0mself\u001b[0m\u001b[0;34m.\u001b[0m\u001b[0m_validate_y_class_weight\u001b[0m\u001b[0;34m(\u001b[0m\u001b[0my\u001b[0m\u001b[0;34m)\u001b[0m\u001b[0;34m\u001b[0m\u001b[0m\n\u001b[0m\u001b[1;32m    272\u001b[0m \u001b[0;34m\u001b[0m\u001b[0m\n\u001b[1;32m    273\u001b[0m         \u001b[0;32mif\u001b[0m \u001b[0mgetattr\u001b[0m\u001b[0;34m(\u001b[0m\u001b[0my\u001b[0m\u001b[0;34m,\u001b[0m \u001b[0;34m\"dtype\"\u001b[0m\u001b[0;34m,\u001b[0m \u001b[0mNone\u001b[0m\u001b[0;34m)\u001b[0m \u001b[0;34m!=\u001b[0m \u001b[0mDOUBLE\u001b[0m \u001b[0;32mor\u001b[0m \u001b[0;32mnot\u001b[0m \u001b[0my\u001b[0m\u001b[0;34m.\u001b[0m\u001b[0mflags\u001b[0m\u001b[0;34m.\u001b[0m\u001b[0mcontiguous\u001b[0m\u001b[0;34m:\u001b[0m\u001b[0;34m\u001b[0m\u001b[0m\n",
      "\u001b[0;32m/Users/Carter/anaconda/lib/python2.7/site-packages/sklearn/ensemble/forest.pyc\u001b[0m in \u001b[0;36m_validate_y_class_weight\u001b[0;34m(self, y)\u001b[0m\n\u001b[1;32m    455\u001b[0m \u001b[0;34m\u001b[0m\u001b[0m\n\u001b[1;32m    456\u001b[0m     \u001b[0;32mdef\u001b[0m \u001b[0m_validate_y_class_weight\u001b[0m\u001b[0;34m(\u001b[0m\u001b[0mself\u001b[0m\u001b[0;34m,\u001b[0m \u001b[0my\u001b[0m\u001b[0;34m)\u001b[0m\u001b[0;34m:\u001b[0m\u001b[0;34m\u001b[0m\u001b[0m\n\u001b[0;32m--> 457\u001b[0;31m         \u001b[0mcheck_classification_targets\u001b[0m\u001b[0;34m(\u001b[0m\u001b[0my\u001b[0m\u001b[0;34m)\u001b[0m\u001b[0;34m\u001b[0m\u001b[0m\n\u001b[0m\u001b[1;32m    458\u001b[0m \u001b[0;34m\u001b[0m\u001b[0m\n\u001b[1;32m    459\u001b[0m         \u001b[0my\u001b[0m \u001b[0;34m=\u001b[0m \u001b[0mnp\u001b[0m\u001b[0;34m.\u001b[0m\u001b[0mcopy\u001b[0m\u001b[0;34m(\u001b[0m\u001b[0my\u001b[0m\u001b[0;34m)\u001b[0m\u001b[0;34m\u001b[0m\u001b[0m\n",
      "\u001b[0;32m/Users/Carter/anaconda/lib/python2.7/site-packages/sklearn/utils/multiclass.pyc\u001b[0m in \u001b[0;36mcheck_classification_targets\u001b[0;34m(y)\u001b[0m\n\u001b[1;32m    170\u001b[0m     if y_type not in ['binary', 'multiclass', 'multiclass-multioutput',\n\u001b[1;32m    171\u001b[0m             'multilabel-indicator', 'multilabel-sequences']:\n\u001b[0;32m--> 172\u001b[0;31m         \u001b[0;32mraise\u001b[0m \u001b[0mValueError\u001b[0m\u001b[0;34m(\u001b[0m\u001b[0;34m\"Unknown label type: %r\"\u001b[0m \u001b[0;34m%\u001b[0m \u001b[0my_type\u001b[0m\u001b[0;34m)\u001b[0m\u001b[0;34m\u001b[0m\u001b[0m\n\u001b[0m\u001b[1;32m    173\u001b[0m \u001b[0;34m\u001b[0m\u001b[0m\n\u001b[1;32m    174\u001b[0m \u001b[0;34m\u001b[0m\u001b[0m\n",
      "\u001b[0;31mValueError\u001b[0m: Unknown label type: 'continuous'"
     ]
    }
   ],
   "source": [
    "# Train the new classifier on the new dataset containing the most important features\n",
    "clf_important.fit(X_important_train, y_train)"
   ]
  },
  {
   "cell_type": "code",
   "execution_count": 268,
   "metadata": {
    "collapsed": false
   },
   "outputs": [
    {
     "ename": "ValueError",
     "evalue": "continuous is not supported",
     "output_type": "error",
     "traceback": [
      "\u001b[0;31m---------------------------------------------------------------------------\u001b[0m",
      "\u001b[0;31mValueError\u001b[0m                                Traceback (most recent call last)",
      "\u001b[0;32m<ipython-input-268-184904023134>\u001b[0m in \u001b[0;36m<module>\u001b[0;34m()\u001b[0m\n\u001b[1;32m      3\u001b[0m \u001b[0;34m\u001b[0m\u001b[0m\n\u001b[1;32m      4\u001b[0m \u001b[0;31m# View The Accuracy Of Our Full Feature (4 Features) Model\u001b[0m\u001b[0;34m\u001b[0m\u001b[0;34m\u001b[0m\u001b[0m\n\u001b[0;32m----> 5\u001b[0;31m \u001b[0maccuracy_score\u001b[0m\u001b[0;34m(\u001b[0m\u001b[0my_test\u001b[0m\u001b[0;34m,\u001b[0m \u001b[0my_pred\u001b[0m\u001b[0;34m)\u001b[0m\u001b[0;34m\u001b[0m\u001b[0m\n\u001b[0m",
      "\u001b[0;32m/Users/Carter/anaconda/lib/python2.7/site-packages/sklearn/metrics/classification.pyc\u001b[0m in \u001b[0;36maccuracy_score\u001b[0;34m(y_true, y_pred, normalize, sample_weight)\u001b[0m\n\u001b[1;32m    170\u001b[0m \u001b[0;34m\u001b[0m\u001b[0m\n\u001b[1;32m    171\u001b[0m     \u001b[0;31m# Compute accuracy for each possible representation\u001b[0m\u001b[0;34m\u001b[0m\u001b[0;34m\u001b[0m\u001b[0m\n\u001b[0;32m--> 172\u001b[0;31m     \u001b[0my_type\u001b[0m\u001b[0;34m,\u001b[0m \u001b[0my_true\u001b[0m\u001b[0;34m,\u001b[0m \u001b[0my_pred\u001b[0m \u001b[0;34m=\u001b[0m \u001b[0m_check_targets\u001b[0m\u001b[0;34m(\u001b[0m\u001b[0my_true\u001b[0m\u001b[0;34m,\u001b[0m \u001b[0my_pred\u001b[0m\u001b[0;34m)\u001b[0m\u001b[0;34m\u001b[0m\u001b[0m\n\u001b[0m\u001b[1;32m    173\u001b[0m     \u001b[0;32mif\u001b[0m \u001b[0my_type\u001b[0m\u001b[0;34m.\u001b[0m\u001b[0mstartswith\u001b[0m\u001b[0;34m(\u001b[0m\u001b[0;34m'multilabel'\u001b[0m\u001b[0;34m)\u001b[0m\u001b[0;34m:\u001b[0m\u001b[0;34m\u001b[0m\u001b[0m\n\u001b[1;32m    174\u001b[0m         \u001b[0mdiffering_labels\u001b[0m \u001b[0;34m=\u001b[0m \u001b[0mcount_nonzero\u001b[0m\u001b[0;34m(\u001b[0m\u001b[0my_true\u001b[0m \u001b[0;34m-\u001b[0m \u001b[0my_pred\u001b[0m\u001b[0;34m,\u001b[0m \u001b[0maxis\u001b[0m\u001b[0;34m=\u001b[0m\u001b[0;36m1\u001b[0m\u001b[0;34m)\u001b[0m\u001b[0;34m\u001b[0m\u001b[0m\n",
      "\u001b[0;32m/Users/Carter/anaconda/lib/python2.7/site-packages/sklearn/metrics/classification.pyc\u001b[0m in \u001b[0;36m_check_targets\u001b[0;34m(y_true, y_pred)\u001b[0m\n\u001b[1;32m     87\u001b[0m     \u001b[0;31m# No metrics support \"multiclass-multioutput\" format\u001b[0m\u001b[0;34m\u001b[0m\u001b[0;34m\u001b[0m\u001b[0m\n\u001b[1;32m     88\u001b[0m     \u001b[0;32mif\u001b[0m \u001b[0;34m(\u001b[0m\u001b[0my_type\u001b[0m \u001b[0;32mnot\u001b[0m \u001b[0;32min\u001b[0m \u001b[0;34m[\u001b[0m\u001b[0;34m\"binary\"\u001b[0m\u001b[0;34m,\u001b[0m \u001b[0;34m\"multiclass\"\u001b[0m\u001b[0;34m,\u001b[0m \u001b[0;34m\"multilabel-indicator\"\u001b[0m\u001b[0;34m]\u001b[0m\u001b[0;34m)\u001b[0m\u001b[0;34m:\u001b[0m\u001b[0;34m\u001b[0m\u001b[0m\n\u001b[0;32m---> 89\u001b[0;31m         \u001b[0;32mraise\u001b[0m \u001b[0mValueError\u001b[0m\u001b[0;34m(\u001b[0m\u001b[0;34m\"{0} is not supported\"\u001b[0m\u001b[0;34m.\u001b[0m\u001b[0mformat\u001b[0m\u001b[0;34m(\u001b[0m\u001b[0my_type\u001b[0m\u001b[0;34m)\u001b[0m\u001b[0;34m)\u001b[0m\u001b[0;34m\u001b[0m\u001b[0m\n\u001b[0m\u001b[1;32m     90\u001b[0m \u001b[0;34m\u001b[0m\u001b[0m\n\u001b[1;32m     91\u001b[0m     \u001b[0;32mif\u001b[0m \u001b[0my_type\u001b[0m \u001b[0;32min\u001b[0m \u001b[0;34m[\u001b[0m\u001b[0;34m\"binary\"\u001b[0m\u001b[0;34m,\u001b[0m \u001b[0;34m\"multiclass\"\u001b[0m\u001b[0;34m]\u001b[0m\u001b[0;34m:\u001b[0m\u001b[0;34m\u001b[0m\u001b[0m\n",
      "\u001b[0;31mValueError\u001b[0m: continuous is not supported"
     ]
    }
   ],
   "source": [
    "# Apply The Full Featured Classifier To The Test Data\n",
    "y_pred = clf.predict(X_test)\n",
    "\n",
    "# View The Accuracy Of Our Full Feature (4 Features) Model\n",
    "accuracy_score(y_test, y_pred)"
   ]
  },
  {
   "cell_type": "code",
   "execution_count": null,
   "metadata": {
    "collapsed": true
   },
   "outputs": [],
   "source": []
  }
 ],
 "metadata": {
  "kernelspec": {
   "display_name": "Python 2",
   "language": "python",
   "name": "python2"
  },
  "language_info": {
   "codemirror_mode": {
    "name": "ipython",
    "version": 2
   },
   "file_extension": ".py",
   "mimetype": "text/x-python",
   "name": "python",
   "nbconvert_exporter": "python",
   "pygments_lexer": "ipython2",
   "version": "2.7.13"
  }
 },
 "nbformat": 4,
 "nbformat_minor": 2
}
