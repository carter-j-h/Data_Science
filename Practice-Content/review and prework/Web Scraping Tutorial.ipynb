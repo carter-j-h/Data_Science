{
 "cells": [
  {
   "cell_type": "markdown",
   "metadata": {},
   "source": [
    "# Web Scraping Tutorial"
   ]
  },
  {
   "cell_type": "markdown",
   "metadata": {},
   "source": [
    "I've received interest from some people about web scraping, so I decided to make a tutorial to help you guys and gals get started!\n",
    "\n",
    "Installation\n",
    "1. XPath - Add On that helps you find absolute/relative paths of text on a webpage faster. I don't use Firefox so I am not sure how it works, but should work very similar.\n",
    "    - Chrome https://chrome.google.com/webstore/detail/xpath-helper/hgimnogjllphhhkhlmebbmlgjoejdpjl\n",
    "    - Firefox https://addons.mozilla.org/en-US/firefox/addon/xpath-checker/\n",
    "2. conda install bs4 or pip install bs4\n",
    "3. conda install lxml or pip install lxml\n",
    "4. pip install scrapy\n",
    "\n",
    "bs4 is BeautifulSoup4, which is a package that helps deal with HTML tags\n",
    "\n",
    "lxml processes XML and HTML in Python\n",
    "\n",
    "Scrapy allows us to use XPATH Selector\n",
    "\n",
    "If you find yourself having problems scraping websites that have a ton of injected JavaScript or JQuery, you'll need to download a web driver:\n",
    "    - Chrome: https://sites.google.com/a/chromium.org/chromedriver/downloads\n",
    "    - Firefox: https://github.com/mozilla/geckodriver/releases\n",
    "    - Safari: https://webkit.org/blog/6900/webdriver-support-in-safari-10/\n",
    "    - IE: https://developer.microsoft.com/en-us/microsoft-edge/tools/webdriver/\n",
    "\n",
    "You'll also need to install Selenium\n",
    "pip install selenium\n",
    "\n",
    "Web drivers and Selenium allows you to access all the injected JavaScript and JQuery.\n",
    "\n",
    "### *** FAIR WARNING ***\n",
    "### Web scraping is not entirely legal. If you are accessing/scraping hundreds of pages within seconds, they will find out and you will get yourself banned! Please use with caution!"
   ]
  },
  {
   "cell_type": "markdown",
   "metadata": {},
   "source": [
    "# Let's start scraping!"
   ]
  },
  {
   "cell_type": "code",
   "execution_count": 2,
   "metadata": {
    "collapsed": true
   },
   "outputs": [],
   "source": [
    "# First let's import everything we just installed!\n",
    "\n",
    "import pandas as pd\n",
    "import numpy as np\n",
    "from scrapy.selector import Selector\n",
    "from scrapy.http import HtmlResponse\n",
    "import requests\n",
    "import time\n",
    "from bs4 import BeautifulSoup\n",
    "\n",
    "# If you need it, after downloading the webdriver, you'll need to access it\n",
    "from selenium import webdriver\n",
    "chromedriver = \"/Users/edwardlee/Desktop/chromedriver\""
   ]
  },
  {
   "cell_type": "code",
   "execution_count": 3,
   "metadata": {
    "collapsed": false
   },
   "outputs": [
    {
     "data": {
      "text/plain": [
       "u'\\ufeff<!DOCTYPE html>\\n\\n<html class=\"no-js\"><head>\\n    <title>SF bay area cars &amp; trucks  - craigslist</title>\\n\\n    <meta name=\"description\" content=\"SF bay area cars &amp; trucks  - craigslist\">\\n    <meta http-equiv=\"X-UA-Compatible\" content=\"IE=Edge\"/>\\n    <link rel=\"canonical\" href=\"https://sfbay.craigslist.org/search/sfc/cta\">\\n    <link rel=\"alternate\" type=\"application/rss+xml\" href=\"https://sfbay.craigslist.org/search/sfc/cta?format=rss\" title=\"RSS feed for craigslist | SF bay area cars &amp;'"
      ]
     },
     "execution_count": 3,
     "metadata": {},
     "output_type": "execute_result"
    }
   ],
   "source": [
    "# Let's scrape some Craigslist\n",
    "# BE SURE THAT WHEN YOU DO .GET REQUEST, YOU AREN'T DOING IT CONSTANTLY, EVERY .GET RESPONSE TALKS TO THE WEBSITE.\n",
    "# IF YOU DO IT MULTIPLE TIMES, THEY'LL CATCH ON!\n",
    "# USE THE TIME COMMAND TO HAVE A BIT MORE RANDOMNESS TO IT, BUT ITS NOT 100% PROOF\n",
    "\n",
    "response = requests.get('https://sfbay.craigslist.org/search/sfc/cta')\n",
    "time.sleep(5*np.random.rand())\n",
    "HTML = response.text\n",
    "HTML[0:500]"
   ]
  },
  {
   "cell_type": "markdown",
   "metadata": {},
   "source": [
    "Above is the HTML for the cars and trucks in the sfbay. We want to find the titles and pricing! We will need to find the relative xpath for each tag. Using your xpath addon, highlight over the item you want and it should show you the absolute path. By using // you can narrow down the xpath to the item you want. An example below:\n",
    "\n",
    "**Absolute Path**: ```/html[@class='js canvas draggable fileAPI geolocation hashChange matchMedia picture pushState placeholder no-touchCapable transitions localStorage']/body[@class='search has-map en desktop w1024 grid']/section[@id='page-top']/form[@id='searchform']/div[@id='sortable-results']/ul[@class='rows']/li[@class='result-row'][1]/p[@class='result-info']/span[@class='result-meta']/span[@class='result-price']```\n",
    "\n",
    "**Relative Path**: ```//li[@class='result-row']//span[@class='result-price']```\n",
    "\n",
    "The relative path gives me ALL the prices on the first page. We can save that into a variable."
   ]
  },
  {
   "cell_type": "code",
   "execution_count": 4,
   "metadata": {
    "collapsed": false,
    "scrolled": true
   },
   "outputs": [
    {
     "data": {
      "text/plain": [
       "[u'$5650',\n",
       " u'$8268',\n",
       " u'$2000',\n",
       " u'$18999',\n",
       " u'$1',\n",
       " u'$500',\n",
       " u'$1400',\n",
       " u'$3500',\n",
       " u'$1100',\n",
       " u'$38000',\n",
       " u'$8000',\n",
       " u'$5500',\n",
       " u'$4999',\n",
       " u'$10750',\n",
       " u'$13000',\n",
       " u'$4500',\n",
       " u'$4500',\n",
       " u'$3000',\n",
       " u'$1514',\n",
       " u'$18300',\n",
       " u'$3500',\n",
       " u'$3449',\n",
       " u'$38000',\n",
       " u'$10990',\n",
       " u'$2850',\n",
       " u'$19990',\n",
       " u'$7900',\n",
       " u'$4700',\n",
       " u'$4000',\n",
       " u'$28900',\n",
       " u'$3500',\n",
       " u'$14995',\n",
       " u'$2400',\n",
       " u'$18999',\n",
       " u'$38000',\n",
       " u'$2600',\n",
       " u'$5750',\n",
       " u'$15600',\n",
       " u'$17995',\n",
       " u'$22500',\n",
       " u'$3500',\n",
       " u'$6995',\n",
       " u'$2900',\n",
       " u'$18888',\n",
       " u'$2500',\n",
       " u'$13499',\n",
       " u'$38000',\n",
       " u'$1300',\n",
       " u'$20988',\n",
       " u'$13000',\n",
       " u'$25995',\n",
       " u'$2000',\n",
       " u'$26999',\n",
       " u'$5800',\n",
       " u'$38000',\n",
       " u'$11900',\n",
       " u'$3300',\n",
       " u'$3300',\n",
       " u'$24995',\n",
       " u'$3300',\n",
       " u'$7995',\n",
       " u'$11000',\n",
       " u'$23995',\n",
       " u'$38000',\n",
       " u'$5700',\n",
       " u'$18580',\n",
       " u'$9900',\n",
       " u'$7500',\n",
       " u'$1000',\n",
       " u'$3200',\n",
       " u'$10995',\n",
       " u'$19000',\n",
       " u'$2299',\n",
       " u'$1900',\n",
       " u'$14999',\n",
       " u'$37750',\n",
       " u'$4550',\n",
       " u'$9995',\n",
       " u'$1',\n",
       " u'$6888',\n",
       " u'$3200',\n",
       " u'$37500',\n",
       " u'$7500',\n",
       " u'$18995',\n",
       " u'$68999',\n",
       " u'$2000',\n",
       " u'$16995',\n",
       " u'$37500',\n",
       " u'$2500',\n",
       " u'$22500',\n",
       " u'$22995',\n",
       " u'$13000',\n",
       " u'$3000',\n",
       " u'$2300',\n",
       " u'$19995',\n",
       " u'$1800',\n",
       " u'$12600',\n",
       " u'$17995',\n",
       " u'$19699',\n",
       " u'$17995',\n",
       " u'$9500',\n",
       " u'$16800',\n",
       " u'$10000',\n",
       " u'$3499',\n",
       " u'$17988',\n",
       " u'$1300',\n",
       " u'$2077',\n",
       " u'$15995',\n",
       " u'$14950',\n",
       " u'$1800',\n",
       " u'$15999',\n",
       " u'$7000',\n",
       " u'$19999',\n",
       " u'$18999',\n",
       " u'$9700',\n",
       " u'$18995']"
      ]
     },
     "execution_count": 4,
     "metadata": {},
     "output_type": "execute_result"
    }
   ],
   "source": [
    "prices = Selector(text=HTML).xpath(\"//li[@class='result-row']/p[@class='result-info']/span[@class='result-meta']/span[@class='result-price']/text()\").extract()\n",
    "prices"
   ]
  },
  {
   "cell_type": "code",
   "execution_count": 76,
   "metadata": {
    "collapsed": false,
    "scrolled": true
   },
   "outputs": [
    {
     "data": {
      "text/plain": [
       "[u'2008 Chevy Tahoe LTZ 120k miles',\n",
       " u'2005 Kia Optima',\n",
       " u'2008 Mercedes c300 amg package 6 speed manual',\n",
       " u'2001 Volvo S80 LOW MILAGE 94K!!! VERY CLEAN!!!',\n",
       " u'2005 Ford F-250 Super Duty Diesel Lifted New Off Road Tires Tool Box!!']"
      ]
     },
     "execution_count": 76,
     "metadata": {},
     "output_type": "execute_result"
    }
   ],
   "source": [
    "# Now let's do the same thing with titles\n",
    "titles = Selector(text=HTML).xpath(\"//li[@class='result-row']/p[@class='result-info']/a[@class='result-title hdrlnk']/text()\").extract()\n",
    "titles[0:5]"
   ]
  },
  {
   "cell_type": "code",
   "execution_count": 77,
   "metadata": {
    "collapsed": false
   },
   "outputs": [
    {
     "name": "stdout",
     "output_type": "stream",
     "text": [
      "92\n",
      "100\n"
     ]
    }
   ],
   "source": [
    "print len(prices)\n",
    "print len(titles)"
   ]
  },
  {
   "cell_type": "markdown",
   "metadata": {},
   "source": [
    "However, we noticed that not every post has a price listed, but every title is listed! We will need to loop it 1 by 1 to make sure that we get everything"
   ]
  },
  {
   "cell_type": "code",
   "execution_count": 8,
   "metadata": {
    "collapsed": false
   },
   "outputs": [],
   "source": [
    "title_xpath = \"//li[@class='result-row'][%s]/p[@class='result-info']/a[@class='result-title hdrlnk']/text()\"\n",
    "price_xpath = \"//li[@class='result-row'][%s]/p[@class='result-info']/span[@class='result-meta']/span[@class='result-price']/text()\"\n",
    "\n",
    "# The [%s] sign is important! It'll allow us to fill in the value we need.\n",
    "\n",
    "titles_all = []\n",
    "price_all = []\n",
    "for i in range(1,101):\n",
    "    title_placeholder = title_xpath % i\n",
    "    price_placeholder = price_xpath % i\n",
    "    \n",
    "    titles_all.append(Selector(text=HTML).xpath(title_placeholder).extract())\n",
    "    price_all.append(Selector(text=HTML).xpath(price_placeholder).extract())\n",
    "        \n",
    "df = pd.DataFrame({'titles': titles_all, 'price': price_all})"
   ]
  },
  {
   "cell_type": "code",
   "execution_count": 7,
   "metadata": {
    "collapsed": false
   },
   "outputs": [
    {
     "data": {
      "text/html": [
       "<div>\n",
       "<table border=\"1\" class=\"dataframe\">\n",
       "  <thead>\n",
       "    <tr style=\"text-align: right;\">\n",
       "      <th></th>\n",
       "      <th>price</th>\n",
       "      <th>titles</th>\n",
       "    </tr>\n",
       "  </thead>\n",
       "  <tbody>\n",
       "    <tr>\n",
       "      <th>0</th>\n",
       "      <td>[$5650]</td>\n",
       "      <td>[2005 Audi AllRoad Quattro 2.7tt CLEAN TITLE 9...</td>\n",
       "    </tr>\n",
       "    <tr>\n",
       "      <th>1</th>\n",
       "      <td>[$8268]</td>\n",
       "      <td>[2003 Chevrolet 3500 box truck]</td>\n",
       "    </tr>\n",
       "    <tr>\n",
       "      <th>2</th>\n",
       "      <td>[$2000]</td>\n",
       "      <td>[Mini-Van 4dr'05 Honda Odyssey Touring day w/D...</td>\n",
       "    </tr>\n",
       "    <tr>\n",
       "      <th>3</th>\n",
       "      <td>[$18999]</td>\n",
       "      <td>[2013 Mercedes-Benz C-Class C250 SPORT~1 OWNER...</td>\n",
       "    </tr>\n",
       "    <tr>\n",
       "      <th>4</th>\n",
       "      <td>[$1]</td>\n",
       "      <td>[2001 VW JETTA GLX VR6 -2.8 Litter]</td>\n",
       "    </tr>\n",
       "    <tr>\n",
       "      <th>5</th>\n",
       "      <td>[$500]</td>\n",
       "      <td>[Wanted  Mercedes]</td>\n",
       "    </tr>\n",
       "    <tr>\n",
       "      <th>6</th>\n",
       "      <td>[$1400]</td>\n",
       "      <td>[2012 Lexus IS 250 low mileage]</td>\n",
       "    </tr>\n",
       "    <tr>\n",
       "      <th>7</th>\n",
       "      <td>[$3500]</td>\n",
       "      <td>[1991 Mercedes-Benz 560 SEL]</td>\n",
       "    </tr>\n",
       "    <tr>\n",
       "      <th>8</th>\n",
       "      <td>[$1100]</td>\n",
       "      <td>[1998 Nissan sentra]</td>\n",
       "    </tr>\n",
       "    <tr>\n",
       "      <th>9</th>\n",
       "      <td>[$38000]</td>\n",
       "      <td>[2016 Audi Q3 2.0 Quattro Prestige &amp; Sport PKG...</td>\n",
       "    </tr>\n",
       "    <tr>\n",
       "      <th>10</th>\n",
       "      <td>[$8000]</td>\n",
       "      <td>[Honda Accord 2006]</td>\n",
       "    </tr>\n",
       "    <tr>\n",
       "      <th>11</th>\n",
       "      <td>[$5500]</td>\n",
       "      <td>[2015 Dodge Dart Sxt Need Gone Very Cheap]</td>\n",
       "    </tr>\n",
       "    <tr>\n",
       "      <th>12</th>\n",
       "      <td>[$4999]</td>\n",
       "      <td>[Clean Title 2007 Toyota Prius]</td>\n",
       "    </tr>\n",
       "    <tr>\n",
       "      <th>13</th>\n",
       "      <td>[$10750]</td>\n",
       "      <td>[2013 *Nissan* *Sentra* 🚗 As Low As $800 DOWN...</td>\n",
       "    </tr>\n",
       "    <tr>\n",
       "      <th>14</th>\n",
       "      <td>[$13000]</td>\n",
       "      <td>[Clean Title 2013 Ford Fusion Energi Plug in H...</td>\n",
       "    </tr>\n",
       "    <tr>\n",
       "      <th>15</th>\n",
       "      <td>[$4500]</td>\n",
       "      <td>[2005 bmw 330i Smogged 139kMile CleanTitle/Car...</td>\n",
       "    </tr>\n",
       "    <tr>\n",
       "      <th>16</th>\n",
       "      <td>[$4500]</td>\n",
       "      <td>[2007 BMW 328i 2DR COUPE SPORT* ALL PWR* LOADE...</td>\n",
       "    </tr>\n",
       "    <tr>\n",
       "      <th>17</th>\n",
       "      <td>[$3000]</td>\n",
       "      <td>[2009 SMART FORTWO PASSION 2DR*AUTO W/SHIFTERS...</td>\n",
       "    </tr>\n",
       "    <tr>\n",
       "      <th>18</th>\n",
       "      <td>[$1514]</td>\n",
       "      <td>[2003 JEEP WRANGLER SPORT SUV RUBICON 4.0L V6 ...</td>\n",
       "    </tr>\n",
       "    <tr>\n",
       "      <th>19</th>\n",
       "      <td>[$18300]</td>\n",
       "      <td>[2014 Chevrolet Suburban LT Black]</td>\n",
       "    </tr>\n",
       "    <tr>\n",
       "      <th>20</th>\n",
       "      <td>[$3500]</td>\n",
       "      <td>[2001 Honda civic  gx cng only  no gasoline]</td>\n",
       "    </tr>\n",
       "    <tr>\n",
       "      <th>21</th>\n",
       "      <td>[$3449]</td>\n",
       "      <td>[2005 Nissan sentra]</td>\n",
       "    </tr>\n",
       "    <tr>\n",
       "      <th>22</th>\n",
       "      <td>[$38000]</td>\n",
       "      <td>[2013 Audi Q7 3.0 Supercharged Premium Plus PK...</td>\n",
       "    </tr>\n",
       "    <tr>\n",
       "      <th>23</th>\n",
       "      <td>[]</td>\n",
       "      <td>[1972 Datsun 240Z 63k  original miles]</td>\n",
       "    </tr>\n",
       "    <tr>\n",
       "      <th>24</th>\n",
       "      <td>[$10990]</td>\n",
       "      <td>[2006 *Nissan* *350Z* 👌🚗🌟🚙]</td>\n",
       "    </tr>\n",
       "    <tr>\n",
       "      <th>25</th>\n",
       "      <td>[$2850]</td>\n",
       "      <td>[2003 GMC Yukon XL. 4x4 3row seat]</td>\n",
       "    </tr>\n",
       "    <tr>\n",
       "      <th>26</th>\n",
       "      <td>[$19990]</td>\n",
       "      <td>[2007 *Mercedes-Benz* *S-Class* S 550 4dr Seda...</td>\n",
       "    </tr>\n",
       "    <tr>\n",
       "      <th>27</th>\n",
       "      <td>[$7900]</td>\n",
       "      <td>[FIAT 2012 LOUNGE (full Load)]</td>\n",
       "    </tr>\n",
       "    <tr>\n",
       "      <th>28</th>\n",
       "      <td>[]</td>\n",
       "      <td>[2014 *Lexus IS 250* sedan 4dr Sport Sdn Auto ...</td>\n",
       "    </tr>\n",
       "    <tr>\n",
       "      <th>29</th>\n",
       "      <td>[$4700]</td>\n",
       "      <td>[2007 Prius - Clean Title!]</td>\n",
       "    </tr>\n",
       "    <tr>\n",
       "      <th>...</th>\n",
       "      <td>...</td>\n",
       "      <td>...</td>\n",
       "    </tr>\n",
       "    <tr>\n",
       "      <th>70</th>\n",
       "      <td>[$9900]</td>\n",
       "      <td>[2005 international 4300 DT466]</td>\n",
       "    </tr>\n",
       "    <tr>\n",
       "      <th>71</th>\n",
       "      <td>[$7500]</td>\n",
       "      <td>[2008 Toyota Sienna LE ***LOW MILES***]</td>\n",
       "    </tr>\n",
       "    <tr>\n",
       "      <th>72</th>\n",
       "      <td>[$1000]</td>\n",
       "      <td>[Range Rover sport]</td>\n",
       "    </tr>\n",
       "    <tr>\n",
       "      <th>73</th>\n",
       "      <td>[$3200]</td>\n",
       "      <td>[2002 volkswagen passat 1.8t s.Turbo]</td>\n",
       "    </tr>\n",
       "    <tr>\n",
       "      <th>74</th>\n",
       "      <td>[$10995]</td>\n",
       "      <td>[2006 Mercedes-Benz E-Class E350]</td>\n",
       "    </tr>\n",
       "    <tr>\n",
       "      <th>75</th>\n",
       "      <td>[$19000]</td>\n",
       "      <td>[Volvo C30 R design with turbo]</td>\n",
       "    </tr>\n",
       "    <tr>\n",
       "      <th>76</th>\n",
       "      <td>[$2299]</td>\n",
       "      <td>[1998 Honda Civic Hx coupe  *manual*]</td>\n",
       "    </tr>\n",
       "    <tr>\n",
       "      <th>77</th>\n",
       "      <td>[$1900]</td>\n",
       "      <td>[Volkswagen Jetta 2000 negociable price]</td>\n",
       "    </tr>\n",
       "    <tr>\n",
       "      <th>78</th>\n",
       "      <td>[$14999]</td>\n",
       "      <td>[2013 *Chevrolet* *Silverado* *1500* 🚗 As Low...</td>\n",
       "    </tr>\n",
       "    <tr>\n",
       "      <th>79</th>\n",
       "      <td>[$37750]</td>\n",
       "      <td>[2016 Audi Q3 2.0 Quattro Prestige &amp; Sport PKG...</td>\n",
       "    </tr>\n",
       "    <tr>\n",
       "      <th>80</th>\n",
       "      <td>[$4550]</td>\n",
       "      <td>[2004 Toyota Corolla LE 4D]</td>\n",
       "    </tr>\n",
       "    <tr>\n",
       "      <th>81</th>\n",
       "      <td>[$9995]</td>\n",
       "      <td>[2006 Toyota Sienna CE 7 Passenger]</td>\n",
       "    </tr>\n",
       "    <tr>\n",
       "      <th>82</th>\n",
       "      <td>[$1]</td>\n",
       "      <td>[Parting out 2008 Smart Fortwo]</td>\n",
       "    </tr>\n",
       "    <tr>\n",
       "      <th>83</th>\n",
       "      <td>[$6888]</td>\n",
       "      <td>[2002 BMW 3-Series 330i]</td>\n",
       "    </tr>\n",
       "    <tr>\n",
       "      <th>84</th>\n",
       "      <td>[$3200]</td>\n",
       "      <td>[2003 Toyota Prius Hybrid!!!!!!!!!!!!]</td>\n",
       "    </tr>\n",
       "    <tr>\n",
       "      <th>85</th>\n",
       "      <td>[$37500]</td>\n",
       "      <td>[2017 Audi A4 2.0T]</td>\n",
       "    </tr>\n",
       "    <tr>\n",
       "      <th>86</th>\n",
       "      <td>[$7500]</td>\n",
       "      <td>[2009 -- Volkswagen Jetta Sportwagen SEL 2.0T ...</td>\n",
       "    </tr>\n",
       "    <tr>\n",
       "      <th>87</th>\n",
       "      <td>[$18995]</td>\n",
       "      <td>[2010 BMW 3-Series 335i]</td>\n",
       "    </tr>\n",
       "    <tr>\n",
       "      <th>88</th>\n",
       "      <td>[$68999]</td>\n",
       "      <td>[2013 MASERATI GRANTURISMO SPORT COUPE BK? TAX...</td>\n",
       "    </tr>\n",
       "    <tr>\n",
       "      <th>89</th>\n",
       "      <td>[$2000]</td>\n",
       "      <td>[Jeep Wrangler Sahara Wheel Drive]</td>\n",
       "    </tr>\n",
       "    <tr>\n",
       "      <th>90</th>\n",
       "      <td>[$16995]</td>\n",
       "      <td>[2011 BMW 5-Series 528i]</td>\n",
       "    </tr>\n",
       "    <tr>\n",
       "      <th>91</th>\n",
       "      <td>[$37500]</td>\n",
       "      <td>[2017 Audi Q3 2.0T Premium Plus &amp; Technology P...</td>\n",
       "    </tr>\n",
       "    <tr>\n",
       "      <th>92</th>\n",
       "      <td>[$2500]</td>\n",
       "      <td>[Clean 2004 SAAB 9-3, 2.0t]</td>\n",
       "    </tr>\n",
       "    <tr>\n",
       "      <th>93</th>\n",
       "      <td>[$22500]</td>\n",
       "      <td>[2005 International 4200 Box Truck for sale]</td>\n",
       "    </tr>\n",
       "    <tr>\n",
       "      <th>94</th>\n",
       "      <td>[$22995]</td>\n",
       "      <td>[2012 Mercedes-Benz C-Class C250]</td>\n",
       "    </tr>\n",
       "    <tr>\n",
       "      <th>95</th>\n",
       "      <td>[$13000]</td>\n",
       "      <td>[2010 Acura TSX w/ Tech Package]</td>\n",
       "    </tr>\n",
       "    <tr>\n",
       "      <th>96</th>\n",
       "      <td>[$3000]</td>\n",
       "      <td>[SpedAutomatic2009 Honda Pilot EX-L traction c...</td>\n",
       "    </tr>\n",
       "    <tr>\n",
       "      <th>97</th>\n",
       "      <td>[$2300]</td>\n",
       "      <td>[2001 Toyota Corolla  s smoged reliable]</td>\n",
       "    </tr>\n",
       "    <tr>\n",
       "      <th>98</th>\n",
       "      <td>[$19995]</td>\n",
       "      <td>[2008 Lexus LS 460]</td>\n",
       "    </tr>\n",
       "    <tr>\n",
       "      <th>99</th>\n",
       "      <td>[$1800]</td>\n",
       "      <td>[Commuter Honda Accord]</td>\n",
       "    </tr>\n",
       "  </tbody>\n",
       "</table>\n",
       "<p>100 rows × 2 columns</p>\n",
       "</div>"
      ],
      "text/plain": [
       "       price                                             titles\n",
       "0    [$5650]  [2005 Audi AllRoad Quattro 2.7tt CLEAN TITLE 9...\n",
       "1    [$8268]                    [2003 Chevrolet 3500 box truck]\n",
       "2    [$2000]  [Mini-Van 4dr'05 Honda Odyssey Touring day w/D...\n",
       "3   [$18999]  [2013 Mercedes-Benz C-Class C250 SPORT~1 OWNER...\n",
       "4       [$1]                [2001 VW JETTA GLX VR6 -2.8 Litter]\n",
       "5     [$500]                                 [Wanted  Mercedes]\n",
       "6    [$1400]                    [2012 Lexus IS 250 low mileage]\n",
       "7    [$3500]                       [1991 Mercedes-Benz 560 SEL]\n",
       "8    [$1100]                               [1998 Nissan sentra]\n",
       "9   [$38000]  [2016 Audi Q3 2.0 Quattro Prestige & Sport PKG...\n",
       "10   [$8000]                                [Honda Accord 2006]\n",
       "11   [$5500]         [2015 Dodge Dart Sxt Need Gone Very Cheap]\n",
       "12   [$4999]                    [Clean Title 2007 Toyota Prius]\n",
       "13  [$10750]  [2013 *Nissan* *Sentra* 🚗 As Low As $800 DOWN...\n",
       "14  [$13000]  [Clean Title 2013 Ford Fusion Energi Plug in H...\n",
       "15   [$4500]  [2005 bmw 330i Smogged 139kMile CleanTitle/Car...\n",
       "16   [$4500]  [2007 BMW 328i 2DR COUPE SPORT* ALL PWR* LOADE...\n",
       "17   [$3000]  [2009 SMART FORTWO PASSION 2DR*AUTO W/SHIFTERS...\n",
       "18   [$1514]  [2003 JEEP WRANGLER SPORT SUV RUBICON 4.0L V6 ...\n",
       "19  [$18300]                 [2014 Chevrolet Suburban LT Black]\n",
       "20   [$3500]       [2001 Honda civic  gx cng only  no gasoline]\n",
       "21   [$3449]                               [2005 Nissan sentra]\n",
       "22  [$38000]  [2013 Audi Q7 3.0 Supercharged Premium Plus PK...\n",
       "23        []             [1972 Datsun 240Z 63k  original miles]\n",
       "24  [$10990]                    [2006 *Nissan* *350Z* 👌🚗🌟🚙]\n",
       "25   [$2850]                 [2003 GMC Yukon XL. 4x4 3row seat]\n",
       "26  [$19990]  [2007 *Mercedes-Benz* *S-Class* S 550 4dr Seda...\n",
       "27   [$7900]                     [FIAT 2012 LOUNGE (full Load)]\n",
       "28        []  [2014 *Lexus IS 250* sedan 4dr Sport Sdn Auto ...\n",
       "29   [$4700]                        [2007 Prius - Clean Title!]\n",
       "..       ...                                                ...\n",
       "70   [$9900]                    [2005 international 4300 DT466]\n",
       "71   [$7500]            [2008 Toyota Sienna LE ***LOW MILES***]\n",
       "72   [$1000]                                [Range Rover sport]\n",
       "73   [$3200]              [2002 volkswagen passat 1.8t s.Turbo]\n",
       "74  [$10995]                  [2006 Mercedes-Benz E-Class E350]\n",
       "75  [$19000]                    [Volvo C30 R design with turbo]\n",
       "76   [$2299]              [1998 Honda Civic Hx coupe  *manual*]\n",
       "77   [$1900]           [Volkswagen Jetta 2000 negociable price]\n",
       "78  [$14999]  [2013 *Chevrolet* *Silverado* *1500* 🚗 As Low...\n",
       "79  [$37750]  [2016 Audi Q3 2.0 Quattro Prestige & Sport PKG...\n",
       "80   [$4550]                        [2004 Toyota Corolla LE 4D]\n",
       "81   [$9995]                [2006 Toyota Sienna CE 7 Passenger]\n",
       "82      [$1]                    [Parting out 2008 Smart Fortwo]\n",
       "83   [$6888]                           [2002 BMW 3-Series 330i]\n",
       "84   [$3200]             [2003 Toyota Prius Hybrid!!!!!!!!!!!!]\n",
       "85  [$37500]                                [2017 Audi A4 2.0T]\n",
       "86   [$7500]  [2009 -- Volkswagen Jetta Sportwagen SEL 2.0T ...\n",
       "87  [$18995]                           [2010 BMW 3-Series 335i]\n",
       "88  [$68999]  [2013 MASERATI GRANTURISMO SPORT COUPE BK? TAX...\n",
       "89   [$2000]                 [Jeep Wrangler Sahara Wheel Drive]\n",
       "90  [$16995]                           [2011 BMW 5-Series 528i]\n",
       "91  [$37500]  [2017 Audi Q3 2.0T Premium Plus & Technology P...\n",
       "92   [$2500]                        [Clean 2004 SAAB 9-3, 2.0t]\n",
       "93  [$22500]       [2005 International 4200 Box Truck for sale]\n",
       "94  [$22995]                  [2012 Mercedes-Benz C-Class C250]\n",
       "95  [$13000]                   [2010 Acura TSX w/ Tech Package]\n",
       "96   [$3000]  [SpedAutomatic2009 Honda Pilot EX-L traction c...\n",
       "97   [$2300]           [2001 Toyota Corolla  s smoged reliable]\n",
       "98  [$19995]                                [2008 Lexus LS 460]\n",
       "99   [$1800]                            [Commuter Honda Accord]\n",
       "\n",
       "[100 rows x 2 columns]"
      ]
     },
     "execution_count": 7,
     "metadata": {},
     "output_type": "execute_result"
    }
   ],
   "source": [
    "# Completed!\n",
    "df"
   ]
  },
  {
   "cell_type": "markdown",
   "metadata": {},
   "source": [
    "BeautifulSoup is a great package to help you find information! Below is an example, I'll use the same HTML link."
   ]
  },
  {
   "cell_type": "code",
   "execution_count": 80,
   "metadata": {
    "collapsed": false
   },
   "outputs": [],
   "source": [
    "soup = BeautifulSoup(HTML, \"lxml\")"
   ]
  },
  {
   "cell_type": "code",
   "execution_count": 81,
   "metadata": {
    "collapsed": false
   },
   "outputs": [
    {
     "data": {
      "text/plain": [
       "<title>SF bay area cars &amp; trucks  - craigslist</title>"
      ]
     },
     "execution_count": 81,
     "metadata": {},
     "output_type": "execute_result"
    }
   ],
   "source": [
    "soup.html.title"
   ]
  },
  {
   "cell_type": "code",
   "execution_count": 82,
   "metadata": {
    "collapsed": false
   },
   "outputs": [
    {
     "data": {
      "text/plain": [
       "u'SF bay area cars & trucks  - craigslist'"
      ]
     },
     "execution_count": 82,
     "metadata": {},
     "output_type": "execute_result"
    }
   ],
   "source": [
    "soup.html.title.text"
   ]
  },
  {
   "cell_type": "code",
   "execution_count": 83,
   "metadata": {
    "collapsed": false
   },
   "outputs": [],
   "source": [
    "element = soup.find_all('span', {'class': 'result-price'})"
   ]
  },
  {
   "cell_type": "code",
   "execution_count": 84,
   "metadata": {
    "collapsed": false
   },
   "outputs": [
    {
     "data": {
      "text/plain": [
       "u'$3000'"
      ]
     },
     "execution_count": 84,
     "metadata": {},
     "output_type": "execute_result"
    }
   ],
   "source": [
    "# You can now loop through this and put it into a list to put into a dataframe!\n",
    "element[0].text"
   ]
  },
  {
   "cell_type": "markdown",
   "metadata": {},
   "source": [
    "BeautifulSoup4 is very powerful to help you clean up HTML and find specific things you need. I won't go over everything, but their documentation is really good: https://www.crummy.com/software/BeautifulSoup/bs4/doc/"
   ]
  },
  {
   "cell_type": "markdown",
   "metadata": {},
   "source": [
    "Here's a quick tutorial on how to use webdriver. The code below is my code for scraping a dropdown box injected with JQuery. I could not scrape it regularly, so I used selenium's webdriver to get it."
   ]
  },
  {
   "cell_type": "code",
   "execution_count": 85,
   "metadata": {
    "collapsed": true
   },
   "outputs": [],
   "source": [
    "browser = webdriver.Chrome(executable_path = chromedriver)\n",
    "\n",
    "# Get all years for 1996-2016\n",
    "browser.get('http://stats.nba.com/league/player/')\n",
    "HTML = browser.page_source\n",
    "year_data = Selector(text=HTML).xpath(\"//select[@name='Season']/option/text()\").extract()\n",
    "\n",
    "# Make sure to quit the webdriver browser or you'll end up having a bunch of opened browsers\n",
    "browser.quit()"
   ]
  },
  {
   "cell_type": "code",
   "execution_count": 86,
   "metadata": {
    "collapsed": false
   },
   "outputs": [
    {
     "data": {
      "text/plain": [
       "[u'2016-17',\n",
       " u'2015-16',\n",
       " u'2014-15',\n",
       " u'2013-14',\n",
       " u'2012-13',\n",
       " u'2011-12',\n",
       " u'2010-11',\n",
       " u'2009-10',\n",
       " u'2008-09',\n",
       " u'2007-08',\n",
       " u'2006-07',\n",
       " u'2005-06',\n",
       " u'2004-05',\n",
       " u'2003-04',\n",
       " u'2002-03',\n",
       " u'2001-02',\n",
       " u'2000-01',\n",
       " u'1999-00',\n",
       " u'1998-99',\n",
       " u'1997-98',\n",
       " u'1996-97']"
      ]
     },
     "execution_count": 86,
     "metadata": {},
     "output_type": "execute_result"
    }
   ],
   "source": [
    "year_data"
   ]
  }
 ],
 "metadata": {
  "anaconda-cloud": {},
  "kernelspec": {
   "display_name": "Python 2",
   "language": "python",
   "name": "python2"
  },
  "language_info": {
   "codemirror_mode": {
    "name": "ipython",
    "version": 2
   },
   "file_extension": ".py",
   "mimetype": "text/x-python",
   "name": "python",
   "nbconvert_exporter": "python",
   "pygments_lexer": "ipython2",
   "version": "2.7.13"
  }
 },
 "nbformat": 4,
 "nbformat_minor": 0
}
